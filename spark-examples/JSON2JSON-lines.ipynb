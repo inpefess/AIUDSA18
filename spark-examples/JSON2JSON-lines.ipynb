{
 "cells": [
  {
   "cell_type": "markdown",
   "metadata": {},
   "source": [
    "# Spark Session\n",
    "\n",
    "All distributed operations with Spark are done using so-called Spark Session. Usually one is already created by your cluster's administrator."
   ]
  },
  {
   "cell_type": "code",
   "execution_count": 1,
   "metadata": {},
   "outputs": [],
   "source": [
    "# we need to set this environment variable to make Spark happy\n",
    "import os\n",
    "\n",
    "os.environ[\"PYARROW_IGNORE_TIMEZONE\"] = \"1\""
   ]
  },
  {
   "cell_type": "code",
   "execution_count": 2,
   "metadata": {
    "collapsed": false,
    "jupyter": {
     "outputs_hidden": false
    }
   },
   "outputs": [
    {
     "name": "stderr",
     "output_type": "stream",
     "text": [
      "22/06/03 19:20:03 WARN Utils: Your hostname, boris-work-laptop resolves to a loopback address: 127.0.1.1; using 192.168.1.2 instead (on interface wlp0s20f3)\n",
      "22/06/03 19:20:03 WARN Utils: Set SPARK_LOCAL_IP if you need to bind to another address\n",
      "WARNING: An illegal reflective access operation has occurred\n",
      "WARNING: Illegal reflective access by org.apache.spark.unsafe.Platform (file:/home/boris/projects/AIUDSA18/venv/lib/python3.8/site-packages/pyspark/jars/spark-unsafe_2.12-3.2.1.jar) to constructor java.nio.DirectByteBuffer(long,int)\n",
      "WARNING: Please consider reporting this to the maintainers of org.apache.spark.unsafe.Platform\n",
      "WARNING: Use --illegal-access=warn to enable warnings of further illegal reflective access operations\n",
      "WARNING: All illegal access operations will be denied in a future release\n",
      "Using Spark's default log4j profile: org/apache/spark/log4j-defaults.properties\n",
      "Setting default log level to \"WARN\".\n",
      "To adjust logging level use sc.setLogLevel(newLevel). For SparkR, use setLogLevel(newLevel).\n",
      "22/06/03 19:20:03 WARN NativeCodeLoader: Unable to load native-hadoop library for your platform... using builtin-java classes where applicable\n"
     ]
    },
    {
     "data": {
      "text/html": [
       "\n",
       "            <div>\n",
       "                <p><b>SparkSession - in-memory</b></p>\n",
       "                \n",
       "        <div>\n",
       "            <p><b>SparkContext</b></p>\n",
       "\n",
       "            <p><a href=\"http://192.168.1.2:4040\">Spark UI</a></p>\n",
       "\n",
       "            <dl>\n",
       "              <dt>Version</dt>\n",
       "                <dd><code>v3.2.1</code></dd>\n",
       "              <dt>Master</dt>\n",
       "                <dd><code>local[*]</code></dd>\n",
       "              <dt>AppName</dt>\n",
       "                <dd><code>pyspark-shell</code></dd>\n",
       "            </dl>\n",
       "        </div>\n",
       "        \n",
       "            </div>\n",
       "        "
      ],
      "text/plain": [
       "<pyspark.sql.session.SparkSession at 0x7f9a898af6a0>"
      ]
     },
     "execution_count": 2,
     "metadata": {},
     "output_type": "execute_result"
    }
   ],
   "source": [
    "from pyspark.sql.session import SparkSession\n",
    "\n",
    "spark = (\n",
    "    SparkSession.builder\n",
    "    # by deafaut it's only 1GB\n",
    "    .config(\"spark.driver.memory\", \"2G\")\n",
    "    .getOrCreate()\n",
    ")\n",
    "spark"
   ]
  },
  {
   "cell_type": "markdown",
   "metadata": {},
   "source": [
    "# Wasabi dataset\n",
    "\n",
    "For this course, we will use [Wasabi dataset](https://doi.org/10.5281/zenodo.5603369), the same you have in the data visualisation course."
   ]
  },
  {
   "cell_type": "code",
   "execution_count": 3,
   "metadata": {
    "collapsed": false,
    "jupyter": {
     "outputs_hidden": false
    }
   },
   "outputs": [],
   "source": [
    "# we download the data this way\n",
    "# !wget https://zenodo.org/record/5603369/files/wasabi-2-0.tar"
   ]
  },
  {
   "cell_type": "code",
   "execution_count": 4,
   "metadata": {
    "collapsed": false,
    "jupyter": {
     "outputs_hidden": false
    }
   },
   "outputs": [],
   "source": [
    "song_path = os.path.join(\n",
    "    os.environ[\"WORK\"], \"data\", \"wasabi\", \"json\", \"song.json\"\n",
    ")"
   ]
  },
  {
   "cell_type": "code",
   "execution_count": 5,
   "metadata": {
    "collapsed": false,
    "jupyter": {
     "outputs_hidden": false
    }
   },
   "outputs": [
    {
     "name": "stdout",
     "output_type": "stream",
     "text": [
      "[{\n",
      "  \"_id\": {\n",
      "    \"$oid\": \"5714dec325ac0d8aee3804e7\"\n",
      "  },\n",
      "  \"position\": 0,\n",
      "  \"lengthAlbum\": \"57:52\",\n",
      "  \"urlSong\": \"http://lyrics.wikia.com/A:Turn_It_Up\",\n",
      "  \"lyrics\": \"Turn it up<br>I don&apos;t know where you&apos;re plugging in<br>Listen up<br>Yeah, we&apos;re all set to begin<br>Turn it up<br>Because we hope you like it loud<br>Tune it up<br>Any second now<br>Making like<br>Cheeky Monkey grins<br>And for tonight<br>I&apos;d love to let you in\",\n",
      "  \"urlWikipedia\": \"\",\n",
      "  \"id_album\": {\n",
      "    \"$oid\": \"5714debb25ac0d8aee34d59a\"\n",
      "  },\n",
      "  \"isClassic\": false,\n",
      "  \"urlAllmusic\": \"http://www.allmusic.com/song/mt0013320473\",\n",
      "  \"urlMusicBrainz\": \"http://musicbrainz.org/recording/3db608e4-eb72-437e-bc52-872f0a51434f\",\n",
      "  \"title\": \"Turn It Up\",\n",
      "  \"publicationDateAlbum\": \"1997\",\n",
      "  \"albumTitle\": \"How Ace Are Buildings\",\n",
      "  \"deezer_mapping\": [\n",
      "    [\n",
      "      67354194,\n",
      "      \"search-exact\"\n",
      "    ]\n",
      "  ],\n",
      "  \"id_song_deezer\": \"67354194\",\n",
      "  \"isrc\": \"GBAAP9700050\",\n",
      "  \"length\": \"93\",\n",
      "  \"explicitLyrics\": false,\n",
      "  \"rank\": 261631,\n",
      "  \"bpm\": \"77\",\n",
      "  \"gain\": \"-29.4\",\n",
      "  \"preview\": \"http://e-cdn-preview-8.deezer.com/stream/8e564ba9cde487278546b33c12ee1266-1.mp3\",\n",
      "  \"availableCountries\": [\n",
      "    \"AD\",\n",
      "    \"AE\",\n",
      "    \"AG\",\n",
      "    \"AI\",\n",
      "    \"AL\",\n",
      "    \"AM\",\n",
      "    \"AO\",\n",
      "    \"AR\",\n",
      "    \"AT\",\n",
      "    \"AU\",\n",
      "    \"AW\",\n",
      "    \"AX\",\n",
      "    \"AZ\",\n",
      "    \"BA\",\n",
      "    \"BB\",\n",
      "    \"BD\",\n",
      "    \"BE\",\n",
      "    \"BF\",\n",
      "    \"BG\",\n",
      "    \"BH\",\n",
      "    \"BI\",\n",
      "    \"BJ\",\n",
      "    \"BM\",\n",
      "    \"BN\",\n",
      "    \"BO\",\n",
      "    \"BR\",\n",
      "    \"BS\",\n",
      "    \"BV\",\n",
      "    \"BW\",\n",
      "    \"BY\",\n",
      "    \"BZ\",\n",
      "    \"CD\",\n",
      "    \"CF\",\n",
      "    \"CG\",\n",
      "    \"CH\",\n",
      "    \"CI\",\n",
      "    \"CL\",\n",
      "    \"CM\",\n",
      "    \"CN\",\n",
      "    \"CO\",\n",
      "    \"CR\",\n",
      "    \"CV\",\n",
      "    \"CY\",\n",
      "    \"CZ\",\n",
      "    \"DE\",\n",
      "    \"DJ\",\n",
      "    \"DK\",\n",
      "    \"DM\",\n",
      "    \"DO\",\n",
      "    \"DZ\",\n",
      "    \"EC\",\n",
      "    \"EE\",\n",
      "    \"EG\",\n",
      "    \"EH\",\n",
      "    \"ER\",\n",
      "    \"ES\",\n",
      "    \"ET\",\n",
      "    \"FI\",\n",
      "    \"FJ\",\n",
      "    \"FK\",\n",
      "    \"FM\",\n",
      "    \"FO\",\n",
      "    \"FR\",\n",
      "    \"GA\",\n",
      "    \"GB\",\n",
      "    \"GD\",\n",
      "    \"GE\",\n",
      "    \"GF\",\n",
      "    \"GG\",\n",
      "    \"GH\",\n",
      "    \"GI\",\n",
      "    \"GL\",\n",
      "    \"GM\",\n",
      "    \"GN\",\n",
      "    \"GP\",\n",
      "    \"GQ\",\n",
      "    \"GR\",\n",
      "    \"GS\",\n",
      "    \"GT\",\n",
      "    \"GW\",\n",
      "    \"HK\",\n",
      "    \"HN\",\n",
      "    \"HR\",\n",
      "    \"HT\",\n",
      "    \"HU\",\n",
      "    \"ID\",\n",
      "    \"IE\",\n",
      "    \"IL\",\n",
      "    \"IM\",\n",
      "    \"IN\",\n",
      "    \"IO\",\n",
      "    \"IQ\",\n",
      "    \"IS\",\n",
      "    \"IT\",\n",
      "    \"JE\",\n",
      "    \"JM\",\n",
      "    \"JO\",\n",
      "    \"KE\",\n",
      "    \"KG\",\n",
      "    \"KH\",\n",
      "    \"KM\",\n",
      "    \"KN\",\n",
      "    \"KR\",\n",
      "    \"KW\",\n",
      "    \"KY\",\n",
      "    \"KZ\",\n",
      "    \"LA\",\n",
      "    \"LB\",\n",
      "    \"LC\",\n",
      "    \"LI\",\n",
      "    \"LK\",\n",
      "    \"LR\",\n",
      "    \"LS\",\n",
      "    \"LT\",\n",
      "    \"LU\",\n",
      "    \"LV\",\n",
      "    \"LY\",\n",
      "    \"MA\",\n",
      "    \"MC\",\n",
      "    \"MD\",\n",
      "    \"ME\",\n",
      "    \"MG\",\n",
      "    \"MK\",\n",
      "    \"ML\",\n",
      "    \"MM\",\n",
      "    \"MN\",\n",
      "    \"MO\",\n",
      "    \"MQ\",\n",
      "    \"MR\",\n",
      "    \"MS\",\n",
      "    \"MT\",\n",
      "    \"MU\",\n",
      "    \"MW\",\n",
      "    \"MY\",\n",
      "    \"MZ\",\n",
      "    \"NA\",\n",
      "    \"NC\",\n",
      "    \"NE\",\n",
      "    \"NG\",\n",
      "    \"NI\",\n",
      "    \"NL\",\n",
      "    \"NO\",\n",
      "    \"NP\",\n",
      "    \"NZ\",\n",
      "    \"OM\",\n",
      "    \"PA\",\n",
      "    \"PE\",\n",
      "    \"PF\",\n",
      "    \"PG\",\n",
      "    \"PH\",\n",
      "    \"PK\",\n",
      "    \"PL\",\n",
      "    \"PM\",\n",
      "    \"PN\",\n",
      "    \"PR\",\n",
      "    \"PT\",\n",
      "    \"PY\",\n",
      "    \"QA\",\n",
      "    \"RE\",\n",
      "    \"RO\",\n",
      "    \"RS\",\n",
      "    \"RU\",\n",
      "    \"RW\",\n",
      "    \"SA\",\n",
      "    \"SC\",\n",
      "    \"SD\",\n",
      "    \"SE\",\n",
      "    \"SG\",\n",
      "    \"SH\",\n",
      "    \"SI\",\n",
      "    \"SJ\",\n",
      "    \"SK\",\n",
      "    \"SL\",\n",
      "    \"SM\",\n",
      "    \"SN\",\n",
      "    \"SO\",\n",
      "    \"ST\",\n",
      "    \"SV\",\n",
      "    \"SY\",\n",
      "    \"SZ\",\n",
      "    \"TC\",\n",
      "    \"TD\",\n",
      "    \"TF\",\n",
      "    \"TG\",\n",
      "    \"TH\",\n",
      "    \"TJ\",\n",
      "    \"TL\",\n",
      "    \"TM\",\n",
      "    \"TN\",\n",
      "    \"TR\",\n",
      "    \"TT\",\n",
      "    \"TW\",\n",
      "    \"TZ\",\n",
      "    \"UA\",\n",
      "    \"UG\",\n",
      "    \"UY\",\n",
      "    \"UZ\",\n",
      "    \"VA\",\n",
      "    \"VC\",\n",
      "    \"VE\",\n",
      "    \"VG\",\n",
      "    \"VN\",\n",
      "    \"WF\",\n",
      "    \"YE\",\n",
      "    \"YT\",\n",
      "    \"ZA\",\n",
      "    \"ZM\",\n",
      "    \"ZW\"\n",
      "  ],\n",
      "  \"publicationDate\": \"1998-06-22\",\n",
      "  \"rdf\": \"\",\n",
      "  \"urlPandora\": \"\",\n",
      "  \"urlITunes\": \"\",\n",
      "  \"urlSpotify\": \"\",\n",
      "  \"urlYouTube\": \"\",\n",
      "  \"urlAmazon\": \"\",\n",
      "  \"urlHypeMachine\": \"\",\n",
      "  \"urlGoEar\": \"\",\n",
      "  \"urlLastFm\": \"\",\n",
      "  \"multitrack_path\": \"\",\n",
      "  \"multitrack_file\": \"\",\n",
      "  \"id_song_musicbrainz\": \"3db608e4-eb72-437e-bc52-872f0a51434f\",\n",
      "  \"disambiguation\": \"\",\n",
      "  \"language\": \"\",\n",
      "  \"begin\": \"\",\n",
      "  \"end\": \"\",\n",
      "  \"id_artist_deezer\": \"3412\",\n",
      "  \"id_album_deezer\": \"6585846\",\n",
      "  \"urlDeezer\": \"http://www.deezer.com/track/67354194\",\n",
      "  \"language_detect\": \"english\",\n",
      "  \"name\": \"A\",\n",
      "  \"title_accent_fold\": \"Turn It Up\",\n",
      "  \"animux_paths\": [],\n",
      "  \"chords_metadata\": {\n",
      "    \"confidence\": 0.7465091299677766,\n",
      "    \"duration\": 93.02310657596372,\n",
      "    \"chordSequence\": [\n",
      "      {\n",
      "        \"start\": 0,\n",
      "        \"end\": 16.150000000000002,\n",
      "        \"label\": \"Amaj\"\n",
      "      },\n",
      "      {\n",
      "        \"start\": 16.150000000000002,\n",
      "        \"end\": 18.05,\n",
      "        \"label\": \"Dmaj\"\n",
      "      },\n",
      "      {\n",
      "        \"start\": 18.05,\n",
      "        \"end\": 19.150000000000002,\n",
      "        \"label\": \"Amaj\"\n",
      "      },\n",
      "      {\n",
      "        \"start\": 19.150000000000002,\n",
      "        \"end\": 21.150000000000002,\n",
      "        \"label\": \"Bmin7\"\n",
      "      },\n",
      "      {\n",
      "        \"start\": 21.150000000000002,\n",
      "        \"end\": 22.450000000000003,\n",
      "        \"label\": \"Amaj\"\n",
      "      },\n",
      "      {\n",
      "        \"start\": 22.450000000000003,\n",
      "        \"end\": 24.350000000000005,\n",
      "        \"label\": \"Dmaj\"\n",
      "      },\n",
      "      {\n",
      "        \"start\": 24.350000000000005,\n",
      "        \"end\": 25.350000000000005,\n",
      "        \"label\": \"Amaj\"\n",
      "      },\n",
      "      {\n",
      "        \"start\": 25.350000000000005,\n",
      "        \"end\": 27.350000000000005,\n",
      "        \"label\": \"Dmaj\"\n",
      "      },\n",
      "      {\n",
      "        \"start\": 27.350000000000005,\n",
      "        \"end\": 28.450000000000003,\n",
      "        \"label\": \"Amaj\"\n",
      "      },\n",
      "      {\n",
      "        \"start\": 28.450000000000003,\n",
      "        \"end\": 30.350000000000005,\n",
      "        \"label\": \"Dmaj\"\n",
      "      },\n",
      "      {\n",
      "        \"start\": 30.350000000000005,\n",
      "        \"end\": 31.450000000000003,\n",
      "        \"label\": \"Amaj\"\n",
      "      },\n",
      "      {\n",
      "        \"start\": 31.450000000000003,\n",
      "        \"end\": 33.449999999999996,\n",
      "        \"label\": \"Bmin7\"\n",
      "      },\n",
      "      {\n",
      "        \"start\": 33.449999999999996,\n",
      "        \"end\": 34.75,\n",
      "        \"label\": \"Amaj\"\n",
      "      },\n",
      "      {\n",
      "        \"start\": 34.75,\n",
      "        \"end\": 36.55,\n",
      "        \"label\": \"Dmaj\"\n",
      "      },\n",
      "      {\n",
      "        \"start\": 36.55,\n",
      "        \"end\": 37.65,\n",
      "        \"label\": \"Amaj\"\n",
      "      },\n",
      "      {\n",
      "        \"start\": 37.65,\n",
      "        \"end\": 39.65,\n",
      "        \"label\": \"Dmaj\"\n",
      "      },\n",
      "      {\n",
      "        \"start\": 39.65,\n",
      "        \"end\": 42.95,\n",
      "        \"label\": \"Amaj\"\n",
      "      },\n",
      "      {\n",
      "        \"start\": 42.95,\n",
      "        \"end\": 44.45,\n",
      "        \"label\": \"Dbmin7\"\n",
      "      },\n",
      "      {\n",
      "        \"start\": 44.45,\n",
      "        \"end\": 46.05,\n",
      "        \"label\": \"Gbmin\"\n",
      "      },\n",
      "      {\n",
      "        \"start\": 46.05,\n",
      "        \"end\": 48.95,\n",
      "        \"label\": \"Dmaj\"\n",
      "      },\n",
      "      {\n",
      "        \"start\": 48.95,\n",
      "        \"end\": 52.05,\n",
      "        \"label\": \"Cmaj\"\n",
      "      },\n",
      "      {\n",
      "        \"start\": 52.05,\n",
      "        \"end\": 55.35,\n",
      "        \"label\": \"Amaj\"\n",
      "      },\n",
      "      {\n",
      "        \"start\": 55.35,\n",
      "        \"end\": 56.75,\n",
      "        \"label\": \"Dbmin7\"\n",
      "      },\n",
      "      {\n",
      "        \"start\": 56.75,\n",
      "        \"end\": 58.15,\n",
      "        \"label\": \"Gbmin\"\n",
      "      },\n",
      "      {\n",
      "        \"start\": 58.15,\n",
      "        \"end\": 64.15000000000002,\n",
      "        \"label\": \"Fmaj\"\n",
      "      },\n",
      "      {\n",
      "        \"start\": 64.15000000000002,\n",
      "        \"end\": 65.65000000000002,\n",
      "        \"label\": \"Amaj\"\n",
      "      },\n",
      "      {\n",
      "        \"start\": 65.65000000000002,\n",
      "        \"end\": 67.25000000000001,\n",
      "        \"label\": \"Dmaj\"\n",
      "      },\n",
      "      {\n",
      "        \"start\": 67.25000000000001,\n",
      "        \"end\": 68.45,\n",
      "        \"label\": \"Amaj\"\n",
      "      },\n",
      "      {\n",
      "        \"start\": 68.45,\n",
      "        \"end\": 70.45,\n",
      "        \"label\": \"Bmin7\"\n",
      "      },\n",
      "      {\n",
      "        \"start\": 70.45,\n",
      "        \"end\": 71.55000000000001,\n",
      "        \"label\": \"Amaj\"\n",
      "      },\n",
      "      {\n",
      "        \"start\": 71.55000000000001,\n",
      "        \"end\": 73.45,\n",
      "        \"label\": \"Dmaj\"\n",
      "      },\n",
      "      {\n",
      "        \"start\": 73.45,\n",
      "        \"end\": 74.65000000000002,\n",
      "        \"label\": \"Amaj\"\n",
      "      },\n",
      "      {\n",
      "        \"start\": 74.65000000000002,\n",
      "        \"end\": 76.55000000000001,\n",
      "        \"label\": \"Dmaj\"\n",
      "      },\n",
      "      {\n",
      "        \"start\": 76.55000000000001,\n",
      "        \"end\": 77.75000000000001,\n",
      "        \"label\": \"Amaj\"\n",
      "      },\n",
      "      {\n",
      "        \"start\": 77.75000000000001,\n",
      "        \"end\": 79.65000000000002,\n",
      "        \"label\": \"Dmaj\"\n",
      "      },\n",
      "      {\n",
      "        \"start\": 79.65000000000002,\n",
      "        \"end\": 80.75000000000001,\n",
      "        \"label\": \"Amaj\"\n",
      "      },\n",
      "      {\n",
      "        \"start\": 80.75000000000001,\n",
      "        \"end\": 82.65000000000002,\n",
      "        \"label\": \"Bmin7\"\n",
      "      },\n",
      "      {\n",
      "        \"start\": 82.65000000000002,\n",
      "        \"end\": 83.85000000000001,\n",
      "        \"label\": \"Amaj\"\n",
      "      },\n",
      "      {\n",
      "        \"start\": 83.85000000000001,\n",
      "        \"end\": 86.15000000000002,\n",
      "        \"label\": \"Dmaj\"\n",
      "      },\n",
      "      {\n",
      "        \"start\": 86.15000000000002,\n",
      "        \"end\": 93,\n",
      "        \"label\": \"Amaj7\"\n",
      "      }\n",
      "    ],\n",
      "    \"_id\": \"deezer:67354194\"\n",
      "  },\n",
      "  \"arousal\": \"\",\n",
      "  \"arousal_predicted\": \"0.46977222\",\n",
      "  \"album_genre\": \"Alternative Rock\",\n",
      "  \"has_emotion_tags\": \"False\",\n",
      "  \"has_social_tags\": \"False\",\n",
      "  \"lastfm_id\": \"\",\n",
      "  \"valence\": \"\",\n",
      "  \"valence_predicted\": \"0.6578529000000001\"\n",
      "},{\n",
      "  \"_id\": {\n",
      "    \"$oid\": \"5714dec325ac0d8aee3804e8\"\n",
      "  },\n",
      "  \"name\": \"A\",\n",
      "  \"position\": 1,\n",
      "  \"lengthAlbum\": \"57:52\",\n",
      "  \"urlSong\": \"http://lyrics.wikia.com/A:Foghorn\",\n",
      "  \"lyrics\": \"Sick of you, how old do you think you are?<br>Never move, you think everything&apos;s too far<br>Telling you you&apos;re a fool but you don&apos;t wanna know<br>You think you do but let me tell you, you&apos;re not even close <br><br>I can&apos;t stay, you&apos;re in the way so<br>Listen when I&apos;m talking<br>(x4) <br><br>It&apos;s better than alright<br>I&apos;m out there every night<br>You said to me you might<br>But you won&apos;t <br><br>What kept you? I&apos;m not bothered any more<br>Complacent, got me headed for the door<br>Foot down, you&apos;re not allowed to look outside<br>You&apos;re frightened you&apos;ll find something that you like <br><br>I can&apos;t stay, you&apos;re in the way so<br>Listen when I&apos;m talking<br>(x4) <br><br>You tell me when I should<br>I don&apos;t drink in your pub<br>What makes you think I would,<br>Round your way? <br><br>I don&apos;t feel bad, I don&apos;t look back (x3) <br><br>Shame on you, you hate everything that&apos;s new<br>You look down your nose at everything I do<br>You catch on years later, you&apos;re not even slow<br>Can&apos;t stay, have a good day, now I&apos;ve gotta go<br>I can&apos;t stay, you&apos;re in the way so<br>Listen when I&apos;m talking<br>(Repeat) <br><br>It&apos;s better than alright<br>I&apos;m out there every night<br>You said to me you might<br>When I&apos;m talking <br><br>It&apos;s better than alright<br>I&apos;m out there every night<br>You said to me you might<br>When I won&apos;t<br>Won&apos;t<br>Won&apos;t\",\n",
      "  \"urlWikipedia\": \"\",\n",
      "  \"id_album\": {\n",
      "    \"$oid\": \"5714debb25ac0d8aee34d59a\"\n",
      "  },\n",
      "  \"isClassic\": false,\n",
      "  \"urlAllmusic\": \"http://www.allmusic.com/song/mt0013315202\",\n",
      "  \"urlMusicBrainz\": \"http://musicbrainz.org/recording/84feea0c-187f-40f1-bb29-4818da1f61b6\",\n",
      "  \"title\": \"Foghorn\",\n",
      "  \"publicationDateAlbum\": \"1997\",\n",
      "  \"albumTitle\": \"How Ace Are Buildings\",\n"
     ]
    }
   ],
   "source": [
    "# notice that song.json is one large JSON object (a list of dictionaries)\n",
    "# this is not particularly distributed-computations-friendly\n",
    "# also notice that different songs are separated by a line containing only\n",
    "# three symbols: },{\n",
    "!head -500 {song_path}"
   ]
  },
  {
   "cell_type": "code",
   "execution_count": 6,
   "metadata": {},
   "outputs": [],
   "source": [
    "from pyspark import pandas as pd\n",
    "\n",
    "# by default, Pandas API creates a local index\n",
    "pd.set_option(\"compute.default_index_type\", \"distributed\")"
   ]
  },
  {
   "cell_type": "code",
   "execution_count": 7,
   "metadata": {
    "tags": []
   },
   "outputs": [],
   "source": [
    "# Spark can read simple text files and split them into lines\n",
    "# using any character sequence you wish\n",
    "\n",
    "song_lines = spark.read.text(\n",
    "    song_path,\n",
    "    lineSep=\"\\n},{\\n\"\n",
    ").to_pandas_on_spark()"
   ]
  },
  {
   "cell_type": "code",
   "execution_count": 8,
   "metadata": {
    "collapsed": false,
    "jupyter": {
     "outputs_hidden": false
    }
   },
   "outputs": [
    {
     "data": {
      "text/html": [
       "<div>\n",
       "<style scoped>\n",
       "    .dataframe tbody tr th:only-of-type {\n",
       "        vertical-align: middle;\n",
       "    }\n",
       "\n",
       "    .dataframe tbody tr th {\n",
       "        vertical-align: top;\n",
       "    }\n",
       "\n",
       "    .dataframe thead th {\n",
       "        text-align: right;\n",
       "    }\n",
       "</style>\n",
       "<table border=\"1\" class=\"dataframe\">\n",
       "  <thead>\n",
       "    <tr style=\"text-align: right;\">\n",
       "      <th></th>\n",
       "      <th>value</th>\n",
       "    </tr>\n",
       "  </thead>\n",
       "  <tbody>\n",
       "    <tr>\n",
       "      <th>0</th>\n",
       "      <td>[{\\n  \"_id\": {\\n    \"$oid\": \"5714dec325ac0d8ae...</td>\n",
       "    </tr>\n",
       "    <tr>\n",
       "      <th>1</th>\n",
       "      <td>\"_id\": {\\n    \"$oid\": \"5714dec325ac0d8aee380...</td>\n",
       "    </tr>\n",
       "    <tr>\n",
       "      <th>2</th>\n",
       "      <td>\"_id\": {\\n    \"$oid\": \"5714dec325ac0d8aee380...</td>\n",
       "    </tr>\n",
       "    <tr>\n",
       "      <th>3</th>\n",
       "      <td>\"_id\": {\\n    \"$oid\": \"5714dec325ac0d8aee380...</td>\n",
       "    </tr>\n",
       "    <tr>\n",
       "      <th>4</th>\n",
       "      <td>\"_id\": {\\n    \"$oid\": \"5714dec325ac0d8aee380...</td>\n",
       "    </tr>\n",
       "  </tbody>\n",
       "</table>\n",
       "</div>"
      ],
      "text/plain": [
       "                                                                                                                                                                                                                                                                                                                                                                                                                                                                                                                                                                                                                                                                                                                                                                                                                                                                                                                                                                                                                                                                                                                                                                                                                                                                                                                                                                                                                                                                                                                                                                                                                                                                                                                                                                                                                                                                                                                                                                                                                                                                                                                                                                                                                                                                                                                                                                                                                                                                                                                                                                                                                                                                                                                                                                                                                                                                                                                                                                                                                                                                                                                                                                                                                                                                                                                                                                                                                                                                                                                                                                                                                                                                                                                                                                                                                                                                                                                                                                                                                                                                                                                                                                                                                                                                                                                                                                                                                                                                                                                                                                                                                                                                                                                                                                                                                                                                                                                                                                                                                                                                                                                                                                                                                                                                                                                                                                                                                                                                                                                                                                                                                                                                                                                                                                                                                                                                                                                                                                                                                                                                                                                                                                                                                                                                                                                                                                                                                                                                                                                                                                                                                                                                                                                                                                                                                                                                                                                                                                                                                                                                                                                                                                                                                                                                                                                                                                                                                                                                                                                                                                                                                                                                                                                                                                                                                                                                                                                                                                                                                                                                                                                                                                                                                                                                                                                                                                                                                                                                                                                                                                                                                                                                                                                                                                                                                                                                                                                                                                                                                                                                                                                                                                                                                                                                                                                                                                                                                                                                                                                                                                                                                                                                                                                                                                                                                                                                                                                                                                                                                                                                                                                                                                                                                                                                                                                                                                                                                                                                                                                                                                                                                                                                                                                                                                                                                                                                                                                                                                                                                                                                                                                                                                                                                                                                                                                                                                                                                                                                                                                                                                                                                                                                                                                                                                                                                                                                                                                                                                                                                                                                                                                                                                                                                                                                                                                                                                                                                                                                                                                                                                                                                                                                                                                                                                                                                                                                                                                                                                                                                                                                                                                                                                                                                                                                                                                                                                                                                                                                                                                                                                                                                                                                                                                                                                                                                                                                                                                                                                                                                                                                                                                                                                                                                                                                                                                                                                                                                                                                                                                                                                                                                                                                                                                                                                                                                                                                                                                                                                                                                                                                                                                                                                                                                                                                                                                                                                                                                                                                                                                                                                                                                                                                                                                                                                                                                                                                                                                                                                                                                                                                                                                                                                                                                                                                                                                                                                                                                                                                                                                                                                                                                                                                                                                                                                                                                                                                                                                                                                                                                                                                                                                                                                                                                                                                                                                                                                                                                       value\n",
       "0                                                                                                                                                                                                                                                                                                                                                                                                                                                                                                                                                                                                                                                                                                                                                                                                                                                                                                                                                                                                                                                                                                                                                                                                                                                                                                                                                                                                                                                                                                                                                                                                                                                                                                                                                                                                                                                                                                                                                                                                                                                                                                                                                                                                                                                                                                                                                                                                                                                                                                                                                                                                                                                                                                                                                                                                                                                                                                                                                                                                                                                                                                                                                                                                                                                                                                                                                                                                                                                                                                                                                                                                                                                                                                                                                                                                                                                                                                                                                                                                                                                                                                                                                                                                                                                                                                                                                                                                                                                                                                                                                                                                                                                                                                                                                                                                                                                                                                                                                                                                                                                                                                                                                                                                                                                                                                                                                                                                                                                                                                                                                                                                                                                                                                                                                                                                                                                                                                                                                                                                                                                                                                                                                                                                                                                                                                                                                                                                                                                                                                                                                                                                                                                                                                                                                                                                                                                                                                                                                                                                                                                                                                                                                                                                                                                                                                                                                                                                                                                                                                                                                                                                                                                                                                                                                                                                                                                                                                                                                                                                                                                                                                                                                                                                                                                                     [{\\n  \"_id\": {\\n    \"$oid\": \"5714dec325ac0d8aee3804e7\"\\n  },\\n  \"position\": 0,\\n  \"lengthAlbum\": \"57:52\",\\n  \"urlSong\": \"http://lyrics.wikia.com/A:Turn_It_Up\",\\n  \"lyrics\": \"Turn it up<br>I don&apos;t know where you&apos;re plugging in<br>Listen up<br>Yeah, we&apos;re all set to begin<br>Turn it up<br>Because we hope you like it loud<br>Tune it up<br>Any second now<br>Making like<br>Cheeky Monkey grins<br>And for tonight<br>I&apos;d love to let you in\",\\n  \"urlWikipedia\": \"\",\\n  \"id_album\": {\\n    \"$oid\": \"5714debb25ac0d8aee34d59a\"\\n  },\\n  \"isClassic\": false,\\n  \"urlAllmusic\": \"http://www.allmusic.com/song/mt0013320473\",\\n  \"urlMusicBrainz\": \"http://musicbrainz.org/recording/3db608e4-eb72-437e-bc52-872f0a51434f\",\\n  \"title\": \"Turn It Up\",\\n  \"publicationDateAlbum\": \"1997\",\\n  \"albumTitle\": \"How Ace Are Buildings\",\\n  \"deezer_mapping\": [\\n    [\\n      67354194,\\n      \"search-exact\"\\n    ]\\n  ],\\n  \"id_song_deezer\": \"67354194\",\\n  \"isrc\": \"GBAAP9700050\",\\n  \"length\": \"93\",\\n  \"explicitLyrics\": false,\\n  \"rank\": 261631,\\n  \"bpm\": \"77\",\\n  \"gain\": \"-29.4\",\\n  \"preview\": \"http://e-cdn-preview-8.deezer.com/stream/8e564ba9cde487278546b33c12ee1266-1.mp3\",\\n  \"availableCountries\": [\\n    \"AD\",\\n    \"AE\",\\n    \"AG\",\\n    \"AI\",\\n    \"AL\",\\n    \"AM\",\\n    \"AO\",\\n    \"AR\",\\n    \"AT\",\\n    \"AU\",\\n    \"AW\",\\n    \"AX\",\\n    \"AZ\",\\n    \"BA\",\\n    \"BB\",\\n    \"BD\",\\n    \"BE\",\\n    \"BF\",\\n    \"BG\",\\n    \"BH\",\\n    \"BI\",\\n    \"BJ\",\\n    \"BM\",\\n    \"BN\",\\n    \"BO\",\\n    \"BR\",\\n    \"BS\",\\n    \"BV\",\\n    \"BW\",\\n    \"BY\",\\n    \"BZ\",\\n    \"CD\",\\n    \"CF\",\\n    \"CG\",\\n    \"CH\",\\n    \"CI\",\\n    \"CL\",\\n    \"CM\",\\n    \"CN\",\\n    \"CO\",\\n    \"CR\",\\n    \"CV\",\\n    \"CY\",\\n    \"CZ\",\\n    \"DE\",\\n    \"DJ\",\\n    \"DK\",\\n    \"DM\",\\n    \"DO\",\\n    \"DZ\",\\n    \"EC\",\\n    \"EE\",\\n    \"EG\",\\n    \"EH\",\\n    \"ER\",\\n    \"ES\",\\n    \"ET\",\\n    \"FI\",\\n    \"FJ\",\\n    \"FK\",\\n    \"FM\",\\n    \"FO\",\\n    \"FR\",\\n    \"GA\",\\n    \"GB\",\\n    \"GD\",\\n    \"GE\",\\n    \"GF\",\\n    \"GG\",\\n    \"GH\",\\n    \"GI\",\\n    \"GL\",\\n    \"GM\",\\n    \"GN\",\\n    \"GP\",\\n    \"GQ\",\\n    \"GR\",\\n    \"GS\",\\n    \"GT\",\\n    \"GW\",\\n    \"HK\",\\n    \"HN\",\\n    \"HR\",\\n    \"HT\",\\n    \"HU\",\\n    \"ID\",\\n    \"IE\",\\n    \"IL\",\\n    \"IM\",\\n    \"IN\",\\n    \"IO\",\\n    \"IQ\",\\n    \"IS\",\\n    \"IT\",\\n    \"JE\",\\n    \"JM\",\\n    \"JO\",\\n    \"KE\",\\n    \"KG\",\\n    \"KH\",\\n    \"KM\",\\n    \"KN\",\\n    \"KR\",\\n    \"KW\",\\n    \"KY\",\\n    \"KZ\",\\n    \"LA\",\\n    \"LB\",\\n    \"LC\",\\n    \"LI\",\\n    \"LK\",\\n    \"LR\",\\n    \"LS\",\\n    \"LT\",\\n    \"LU\",\\n    \"LV\",\\n    \"LY\",\\n    \"MA\",\\n    \"MC\",\\n    \"MD\",\\n    \"ME\",\\n    \"MG\",\\n    \"MK\",\\n    \"ML\",\\n    \"MM\",\\n    \"MN\",\\n    \"MO\",\\n    \"MQ\",\\n    \"MR\",\\n    \"MS\",\\n    \"MT\",\\n    \"MU\",\\n    \"MW\",\\n    \"MY\",\\n    \"MZ\",\\n    \"NA\",\\n    \"NC\",\\n    \"NE\",\\n    \"NG\",\\n    \"NI\",\\n    \"NL\",\\n    \"NO\",\\n    \"NP\",\\n    \"NZ\",\\n    \"OM\",\\n    \"PA\",\\n    \"PE\",\\n    \"PF\",\\n    \"PG\",\\n    \"PH\",\\n    \"PK\",\\n    \"PL\",\\n    \"PM\",\\n    \"PN\",\\n    \"PR\",\\n    \"PT\",\\n    \"PY\",\\n    \"QA\",\\n    \"RE\",\\n    \"RO\",\\n    \"RS\",\\n    \"RU\",\\n    \"RW\",\\n    \"SA\",\\n    \"SC\",\\n    \"SD\",\\n    \"SE\",\\n    \"SG\",\\n    \"SH\",\\n    \"SI\",\\n    \"SJ\",\\n    \"SK\",\\n    \"SL\",\\n    \"SM\",\\n    \"SN\",\\n    \"SO\",\\n    \"ST\",\\n    \"SV\",\\n    \"SY\",\\n    \"SZ\",\\n    \"TC\",\\n    \"TD\",\\n    \"TF\",\\n    \"TG\",\\n    \"TH\",\\n    \"TJ\",\\n    \"TL\",\\n    \"TM\",\\n    \"TN\",\\n    \"TR\",\\n    \"TT\",\\n    \"TW\",\\n    \"TZ\",\\n    \"UA\",\\n    \"UG\",\\n    \"UY\",\\n    \"UZ\",\\n    \"VA\",\\n    \"VC\",\\n    \"VE\",\\n    \"VG\",\\n    \"VN\",\\n    \"WF\",\\n    \"YE\",\\n    \"YT\",\\n    \"ZA\",\\n    \"ZM\",\\n    \"ZW\"\\n  ],\\n  \"publicationDate\": \"1998-06-22\",\\n  \"rdf\": \"\",\\n  \"urlPandora\": \"\",\\n  \"urlITunes\": \"\",\\n  \"urlSpotify\": \"\",\\n  \"urlYouTube\": \"\",\\n  \"urlAmazon\": \"\",\\n  \"urlHypeMachine\": \"\",\\n  \"urlGoEar\": \"\",\\n  \"urlLastFm\": \"\",\\n  \"multitrack_path\": \"\",\\n  \"multitrack_file\": \"\",\\n  \"id_song_musicbrainz\": \"3db608e4-eb72-437e-bc52-872f0a51434f\",\\n  \"disambiguation\": \"\",\\n  \"language\": \"\",\\n  \"begin\": \"\",\\n  \"end\": \"\",\\n  \"id_artist_deezer\": \"3412\",\\n  \"id_album_deezer\": \"6585846\",\\n  \"urlDeezer\": \"http://www.deezer.com/track/67354194\",\\n  \"language_detect\": \"english\",\\n  \"name\": \"A\",\\n  \"title_accent_fold\": \"Turn It Up\",\\n  \"animux_paths\": [],\\n  \"chords_metadata\": {\\n    \"confidence\": 0.7465091299677766,\\n    \"duration\": 93.02310657596372,\\n    \"chordSequence\": [\\n      {\\n        \"start\": 0,\\n        \"end\": 16.150000000000002,\\n        \"label\": \"Amaj\"\\n      },\\n      {\\n        \"start\": 16.150000000000002,\\n        \"end\": 18.05,\\n        \"label\": \"Dmaj\"\\n      },\\n      {\\n        \"start\": 18.05,\\n        \"end\": 19.150000000000002,\\n        \"label\": \"Amaj\"\\n      },\\n      {\\n        \"start\": 19.150000000000002,\\n        \"end\": 21.150000000000002,\\n        \"label\": \"Bmin7\"\\n      },\\n      {\\n        \"start\": 21.150000000000002,\\n        \"end\": 22.450000000000003,\\n        \"label\": \"Amaj\"\\n      },\\n      {\\n        \"start\": 22.450000000000003,\\n        \"end\": 24.350000000000005,\\n        \"label\": \"Dmaj\"\\n      },\\n      {\\n        \"start\": 24.350000000000005,\\n        \"end\": 25.350000000000005,\\n        \"label\": \"Amaj\"\\n      },\\n      {\\n        \"start\": 25.350000000000005,\\n        \"end\": 27.350000000000005,\\n        \"label\": \"Dmaj\"\\n      },\\n      {\\n        \"start\": 27.350000000000005,\\n        \"end\": 28.450000000000003,\\n        \"label\": \"Amaj\"\\n      },\\n      {\\n        \"start\": 28.450000000000003,\\n        \"end\": 30.350000000000005,\\n        \"label\": \"Dmaj\"\\n      },\\n      {\\n        \"start\": 30.350000000000005,\\n        \"end\": 31.450000000000003,\\n        \"label\": \"Amaj\"\\n      },\\n      {\\n        \"start\": 31.450000000000003,\\n        \"end\": 33.449999999999996,\\n        \"label\": \"Bmin7\"\\n      },\\n      {\\n        \"start\": 33.449999999999996,\\n        \"end\": 34.75,\\n        \"label\": \"Amaj\"\\n      },\\n      {\\n        \"start\": 34.75,\\n        \"end\": 36.55,\\n        \"label\": \"Dmaj\"\\n      },\\n      {\\n        \"start\": 36.55,\\n        \"end\": 37.65,\\n        \"label\": \"Amaj\"\\n      },\\n      {\\n        \"start\": 37.65,\\n        \"end\": 39.65,\\n        \"label\": \"Dmaj\"\\n      },\\n      {\\n        \"start\": 39.65,\\n        \"end\": 42.95,\\n        \"label\": \"Amaj\"\\n      },\\n      {\\n        \"start\": 42.95,\\n        \"end\": 44.45,\\n        \"label\": \"Dbmin7\"\\n      },\\n      {\\n        \"start\": 44.45,\\n        \"end\": 46.05,\\n        \"label\": \"Gbmin\"\\n      },\\n      {\\n        \"start\": 46.05,\\n        \"end\": 48.95,\\n        \"label\": \"Dmaj\"\\n      },\\n      {\\n        \"start\": 48.95,\\n        \"end\": 52.05,\\n        \"label\": \"Cmaj\"\\n      },\\n      {\\n        \"start\": 52.05,\\n        \"end\": 55.35,\\n        \"label\": \"Amaj\"\\n      },\\n      {\\n        \"start\": 55.35,\\n        \"end\": 56.75,\\n        \"label\": \"Dbmin7\"\\n      },\\n      {\\n        \"start\": 56.75,\\n        \"end\": 58.15,\\n        \"label\": \"Gbmin\"\\n      },\\n      {\\n        \"start\": 58.15,\\n        \"end\": 64.15000000000002,\\n        \"label\": \"Fmaj\"\\n      },\\n      {\\n        \"start\": 64.15000000000002,\\n        \"end\": 65.65000000000002,\\n        \"label\": \"Amaj\"\\n      },\\n      {\\n        \"start\": 65.65000000000002,\\n        \"end\": 67.25000000000001,\\n        \"label\": \"Dmaj\"\\n      },\\n      {\\n        \"start\": 67.25000000000001,\\n        \"end\": 68.45,\\n        \"label\": \"Amaj\"\\n      },\\n      {\\n        \"start\": 68.45,\\n        \"end\": 70.45,\\n        \"label\": \"Bmin7\"\\n      },\\n      {\\n        \"start\": 70.45,\\n        \"end\": 71.55000000000001,\\n        \"label\": \"Amaj\"\\n      },\\n      {\\n        \"start\": 71.55000000000001,\\n        \"end\": 73.45,\\n        \"label\": \"Dmaj\"\\n      },\\n      {\\n        \"start\": 73.45,\\n        \"end\": 74.65000000000002,\\n        \"label\": \"Amaj\"\\n      },\\n      {\\n        \"start\": 74.65000000000002,\\n        \"end\": 76.55000000000001,\\n        \"label\": \"Dmaj\"\\n      },\\n      {\\n        \"start\": 76.55000000000001,\\n        \"end\": 77.75000000000001,\\n        \"label\": \"Amaj\"\\n      },\\n      {\\n        \"start\": 77.75000000000001,\\n        \"end\": 79.65000000000002,\\n        \"label\": \"Dmaj\"\\n      },\\n      {\\n        \"start\": 79.65000000000002,\\n        \"end\": 80.75000000000001,\\n        \"label\": \"Amaj\"\\n      },\\n      {\\n        \"start\": 80.75000000000001,\\n        \"end\": 82.65000000000002,\\n        \"label\": \"Bmin7\"\\n      },\\n      {\\n        \"start\": 82.65000000000002,\\n        \"end\": 83.85000000000001,\\n        \"label\": \"Amaj\"\\n      },\\n      {\\n        \"start\": 83.85000000000001,\\n        \"end\": 86.15000000000002,\\n        \"label\": \"Dmaj\"\\n      },\\n      {\\n        \"start\": 86.15000000000002,\\n        \"end\": 93,\\n        \"label\": \"Amaj7\"\\n      }\\n    ],\\n    \"_id\": \"deezer:67354194\"\\n  },\\n  \"arousal\": \"\",\\n  \"arousal_predicted\": \"0.46977222\",\\n  \"album_genre\": \"Alternative Rock\",\\n  \"has_emotion_tags\": \"False\",\\n  \"has_social_tags\": \"False\",\\n  \"lastfm_id\": \"\",\\n  \"valence\": \"\",\\n  \"valence_predicted\": \"0.6578529000000001\"\n",
       "1    \"_id\": {\\n    \"$oid\": \"5714dec325ac0d8aee3804e8\"\\n  },\\n  \"name\": \"A\",\\n  \"position\": 1,\\n  \"lengthAlbum\": \"57:52\",\\n  \"urlSong\": \"http://lyrics.wikia.com/A:Foghorn\",\\n  \"lyrics\": \"Sick of you, how old do you think you are?<br>Never move, you think everything&apos;s too far<br>Telling you you&apos;re a fool but you don&apos;t wanna know<br>You think you do but let me tell you, you&apos;re not even close <br><br>I can&apos;t stay, you&apos;re in the way so<br>Listen when I&apos;m talking<br>(x4) <br><br>It&apos;s better than alright<br>I&apos;m out there every night<br>You said to me you might<br>But you won&apos;t <br><br>What kept you? I&apos;m not bothered any more<br>Complacent, got me headed for the door<br>Foot down, you&apos;re not allowed to look outside<br>You&apos;re frightened you&apos;ll find something that you like <br><br>I can&apos;t stay, you&apos;re in the way so<br>Listen when I&apos;m talking<br>(x4) <br><br>You tell me when I should<br>I don&apos;t drink in your pub<br>What makes you think I would,<br>Round your way? <br><br>I don&apos;t feel bad, I don&apos;t look back (x3) <br><br>Shame on you, you hate everything that&apos;s new<br>You look down your nose at everything I do<br>You catch on years later, you&apos;re not even slow<br>Can&apos;t stay, have a good day, now I&apos;ve gotta go<br>I can&apos;t stay, you&apos;re in the way so<br>Listen when I&apos;m talking<br>(Repeat) <br><br>It&apos;s better than alright<br>I&apos;m out there every night<br>You said to me you might<br>When I&apos;m talking <br><br>It&apos;s better than alright<br>I&apos;m out there every night<br>You said to me you might<br>When I won&apos;t<br>Won&apos;t<br>Won&apos;t\",\\n  \"urlWikipedia\": \"\",\\n  \"id_album\": {\\n    \"$oid\": \"5714debb25ac0d8aee34d59a\"\\n  },\\n  \"isClassic\": false,\\n  \"urlAllmusic\": \"http://www.allmusic.com/song/mt0013315202\",\\n  \"urlMusicBrainz\": \"http://musicbrainz.org/recording/84feea0c-187f-40f1-bb29-4818da1f61b6\",\\n  \"title\": \"Foghorn\",\\n  \"publicationDateAlbum\": \"1997\",\\n  \"albumTitle\": \"How Ace Are Buildings\",\\n  \"deezer_mapping\": [\\n    [\\n      67354196,\\n      \"search-exact\"\\n    ]\\n  ],\\n  \"id_song_deezer\": \"67354196\",\\n  \"isrc\": \"GBAAP9700051\",\\n  \"length\": \"184\",\\n  \"explicitLyrics\": false,\\n  \"rank\": 297455,\\n  \"bpm\": \"106\",\\n  \"gain\": \"-10.6\",\\n  \"preview\": \"http://e-cdn-preview-0.deezer.com/stream/08ac09c1046fa893512def06669dae09-1.mp3\",\\n  \"availableCountries\": [\\n    \"AD\",\\n    \"AE\",\\n    \"AG\",\\n    \"AI\",\\n    \"AL\",\\n    \"AM\",\\n    \"AO\",\\n    \"AR\",\\n    \"AT\",\\n    \"AU\",\\n    \"AW\",\\n    \"AX\",\\n    \"AZ\",\\n    \"BA\",\\n    \"BB\",\\n    \"BD\",\\n    \"BE\",\\n    \"BF\",\\n    \"BG\",\\n    \"BH\",\\n    \"BI\",\\n    \"BJ\",\\n    \"BM\",\\n    \"BN\",\\n    \"BO\",\\n    \"BR\",\\n    \"BS\",\\n    \"BV\",\\n    \"BW\",\\n    \"BY\",\\n    \"BZ\",\\n    \"CD\",\\n    \"CF\",\\n    \"CG\",\\n    \"CH\",\\n    \"CI\",\\n    \"CL\",\\n    \"CM\",\\n    \"CN\",\\n    \"CO\",\\n    \"CR\",\\n    \"CV\",\\n    \"CY\",\\n    \"CZ\",\\n    \"DE\",\\n    \"DJ\",\\n    \"DK\",\\n    \"DM\",\\n    \"DO\",\\n    \"DZ\",\\n    \"EC\",\\n    \"EE\",\\n    \"EG\",\\n    \"EH\",\\n    \"ER\",\\n    \"ES\",\\n    \"ET\",\\n    \"FI\",\\n    \"FJ\",\\n    \"FK\",\\n    \"FM\",\\n    \"FO\",\\n    \"FR\",\\n    \"GA\",\\n    \"GB\",\\n    \"GD\",\\n    \"GE\",\\n    \"GF\",\\n    \"GG\",\\n    \"GH\",\\n    \"GI\",\\n    \"GL\",\\n    \"GM\",\\n    \"GN\",\\n    \"GP\",\\n    \"GQ\",\\n    \"GR\",\\n    \"GS\",\\n    \"GT\",\\n    \"GW\",\\n    \"HK\",\\n    \"HN\",\\n    \"HR\",\\n    \"HT\",\\n    \"HU\",\\n    \"ID\",\\n    \"IE\",\\n    \"IL\",\\n    \"IM\",\\n    \"IN\",\\n    \"IO\",\\n    \"IQ\",\\n    \"IS\",\\n    \"IT\",\\n    \"JE\",\\n    \"JM\",\\n    \"JO\",\\n    \"KE\",\\n    \"KG\",\\n    \"KH\",\\n    \"KM\",\\n    \"KN\",\\n    \"KR\",\\n    \"KW\",\\n    \"KY\",\\n    \"KZ\",\\n    \"LA\",\\n    \"LB\",\\n    \"LC\",\\n    \"LI\",\\n    \"LK\",\\n    \"LR\",\\n    \"LS\",\\n    \"LT\",\\n    \"LU\",\\n    \"LV\",\\n    \"LY\",\\n    \"MA\",\\n    \"MC\",\\n    \"MD\",\\n    \"ME\",\\n    \"MG\",\\n    \"MK\",\\n    \"ML\",\\n    \"MM\",\\n    \"MN\",\\n    \"MO\",\\n    \"MQ\",\\n    \"MR\",\\n    \"MS\",\\n    \"MT\",\\n    \"MU\",\\n    \"MW\",\\n    \"MY\",\\n    \"MZ\",\\n    \"NA\",\\n    \"NC\",\\n    \"NE\",\\n    \"NG\",\\n    \"NI\",\\n    \"NL\",\\n    \"NO\",\\n    \"NP\",\\n    \"NZ\",\\n    \"OM\",\\n    \"PA\",\\n    \"PE\",\\n    \"PF\",\\n    \"PG\",\\n    \"PH\",\\n    \"PK\",\\n    \"PL\",\\n    \"PM\",\\n    \"PN\",\\n    \"PR\",\\n    \"PT\",\\n    \"PY\",\\n    \"QA\",\\n    \"RE\",\\n    \"RO\",\\n    \"RS\",\\n    \"RU\",\\n    \"RW\",\\n    \"SA\",\\n    \"SC\",\\n    \"SD\",\\n    \"SE\",\\n    \"SG\",\\n    \"SH\",\\n    \"SI\",\\n    \"SJ\",\\n    \"SK\",\\n    \"SL\",\\n    \"SM\",\\n    \"SN\",\\n    \"SO\",\\n    \"ST\",\\n    \"SV\",\\n    \"SY\",\\n    \"SZ\",\\n    \"TC\",\\n    \"TD\",\\n    \"TF\",\\n    \"TG\",\\n    \"TH\",\\n    \"TJ\",\\n    \"TL\",\\n    \"TM\",\\n    \"TN\",\\n    \"TR\",\\n    \"TT\",\\n    \"TW\",\\n    \"TZ\",\\n    \"UA\",\\n    \"UG\",\\n    \"UY\",\\n    \"UZ\",\\n    \"VA\",\\n    \"VC\",\\n    \"VE\",\\n    \"VG\",\\n    \"VN\",\\n    \"WF\",\\n    \"YE\",\\n    \"YT\",\\n    \"ZA\",\\n    \"ZM\",\\n    \"ZW\"\\n  ],\\n  \"publicationDate\": \"1998-06-22\",\\n  \"rdf\": \"\",\\n  \"urlPandora\": \"\",\\n  \"urlITunes\": \"\",\\n  \"urlSpotify\": \"\",\\n  \"urlYouTube\": \"\",\\n  \"urlAmazon\": \"\",\\n  \"urlHypeMachine\": \"\",\\n  \"urlGoEar\": \"\",\\n  \"urlLastFm\": \"\",\\n  \"multitrack_path\": \"\",\\n  \"multitrack_file\": \"\",\\n  \"id_song_musicbrainz\": \"84feea0c-187f-40f1-bb29-4818da1f61b6\",\\n  \"disambiguation\": \"\",\\n  \"language\": \"\",\\n  \"begin\": \"\",\\n  \"end\": \"\",\\n  \"id_artist_deezer\": \"3412\",\\n  \"id_album_deezer\": \"6585846\",\\n  \"urlDeezer\": \"http://www.deezer.com/track/67354196\",\\n  \"language_detect\": \"english\",\\n  \"title_accent_fold\": \"Foghorn\",\\n  \"animux_paths\": [],\\n  \"chords_metadata\": {\\n    \"confidence\": 0.8071700162954916,\\n    \"duration\": 184.00759637188207,\\n    \"chordSequence\": [\\n      {\\n        \"start\": 0,\\n        \"end\": 1.6500000000000001,\\n        \"label\": \"E7\"\\n      },\\n      {\\n        \"start\": 1.6500000000000001,\\n        \"end\": 3.75,\\n        \"label\": \"Bmaj7\"\\n      },\\n      {\\n        \"start\": 3.75,\\n        \"end\": 4.35,\\n        \"label\": \"Db7\"\\n      },\\n      {\\n        \"start\": 4.35,\\n        \"end\": 6.8500000000000005,\\n        \"label\": \"Gbmaj\"\\n      },\\n      {\\n        \"start\": 6.8500000000000005,\\n        \"end\": 8.350000000000001,\\n        \"label\": \"Bmaj7\"\\n      },\\n      {\\n        \"start\": 8.350000000000001,\\n        \"end\": 8.850000000000001,\\n        \"label\": \"Db7\"\\n      },\\n      {\\n        \"start\": 8.850000000000001,\\n        \"end\": 11.650000000000002,\\n        \"label\": \"Gbmaj\"\\n      },\\n      {\\n        \"start\": 11.650000000000002,\\n        \"end\": 12.850000000000001,\\n        \"label\": \"Amaj\"\\n      },\\n      {\\n        \"start\": 12.850000000000001,\\n        \"end\": 16.55,\\n        \"label\": \"Emaj\"\\n      },\\n      {\\n        \"start\": 16.55,\\n        \"end\": 17.150000000000002,\\n        \"label\": \"Amaj\"\\n      },\\n      {\\n        \"start\": 17.150000000000002,\\n        \"end\": 17.950000000000003,\\n        \"label\": \"Bmaj\"\\n      },\\n      {\\n        \"start\": 17.950000000000003,\\n        \"end\": 18.950000000000003,\\n        \"label\": \"Amaj\"\\n      },\\n      {\\n        \"start\": 18.950000000000003,\\n        \"end\": 20.250000000000004,\\n        \"label\": \"Dmaj\"\\n      },\\n      {\\n        \"start\": 20.250000000000004,\\n        \"end\": 21.250000000000004,\\n        \"label\": \"Amaj\"\\n      },\\n      {\\n        \"start\": 21.250000000000004,\\n        \"end\": 22.55,\\n        \"label\": \"Dmaj\"\\n      },\\n      {\\n        \"start\": 22.55,\\n        \"end\": 23.55,\\n        \"label\": \"Amaj\"\\n      },\\n      {\\n        \"start\": 23.55,\\n        \"end\": 24.750000000000004,\\n        \"label\": \"Dmaj\"\\n      },\\n      {\\n        \"start\": 24.750000000000004,\\n        \"end\": 27.05,\\n        \"label\": \"Cmaj\"\\n      },\\n      {\\n        \"start\": 27.05,\\n        \"end\": 28.05,\\n        \"label\": \"Amaj\"\\n      },\\n      {\\n        \"start\": 28.05,\\n        \"end\": 29.350000000000005,\\n        \"label\": \"Dmaj\"\\n      },\\n      {\\n        \"start\": 29.350000000000005,\\n        \"end\": 30.350000000000005,\\n        \"label\": \"Amaj\"\\n      },\\n      {\\n        \"start\": 30.350000000000005,\\n        \"end\": 31.450000000000003,\\n        \"label\": \"Dmaj\"\\n      },\\n      {\\n        \"start\": 31.450000000000003,\\n        \"end\": 32.55,\\n        \"label\": \"Amaj\"\\n      },\\n      {\\n        \"start\": 32.55,\\n        \"end\": 34.05,\\n        \"label\": \"Dmaj\"\\n      },\\n      {\\n        \"start\": 34.05,\\n        \"end\": 38.15,\\n        \"label\": \"Gbmaj\"\\n      },\\n      {\\n        \"start\": 38.15,\\n        \"end\": 41.05,\\n        \"label\": \"Bmaj7\"\\n      },\\n      {\\n        \"start\": 41.05,\\n        \"end\": 41.75,\\n        \"label\": \"Dbmin7\"\\n      },\\n      {\\n        \"start\": 41.75,\\n        \"end\": 44.05,\\n        \"label\": \"Gbmaj\"\\n      },\\n      {\\n        \"start\": 44.05,\\n        \"end\": 45.65,\\n        \"label\": \"Bmaj\"\\n      },\\n      {\\n        \"start\": 45.65,\\n        \"end\": 46.35,\\n        \"label\": \"Dbmin7\"\\n      },\\n      {\\n        \"start\": 46.35,\\n        \"end\": 48.95,\\n        \"label\": \"Gbmaj\"\\n      },\\n      {\\n        \"start\": 48.95,\\n        \"end\": 50.25,\\n        \"label\": \"Amaj\"\\n      },\\n      {\\n        \"start\": 50.25,\\n        \"end\": 50.95,\\n        \"label\": \"Bmaj\"\\n      },\\n      {\\n        \"start\": 50.95,\\n        \"end\": 54.25,\\n        \"label\": \"Emaj\"\\n      },\\n      {\\n        \"start\": 54.25,\\n        \"end\": 54.75,\\n        \"label\": \"Amaj\"\\n      },\\n      {\\n        \"start\": 54.75,\\n        \"end\": 55.45,\\n        \"label\": \"Bmaj\"\\n      },\\n      {\\n        \"start\": 55.45,\\n        \"end\": 56.45,\\n        \"label\": \"Amaj\"\\n      },\\n      {\\n        \"start\": 56.45,\\n        \"end\": 57.75,\\n        \"label\": \"Dmaj\"\\n      },\\n      {\\n        \"start\": 57.75,\\n        \"end\": 58.85,\\n        \"label\": \"Amaj\"\\n      },\\n      {\\n        \"start\": 58.85,\\n        \"end\": 60.15,\\n        \"label\": \"Dmaj\"\\n      },\\n      {\\n        \"start\": 60.15,\\n        \"end\": 61.05,\\n        \"label\": \"Amaj\"\\n      },\\n      {\\n        \"start\": 61.05,\\n        \"end\": 62.35,\\n        \"label\": \"Dmaj\"\\n      },\\n      {\\n        \"start\": 62.35,\\n        \"end\": 63.85,\\n        \"label\": \"Cmaj\"\\n      },\\n      {\\n        \"start\": 63.85,\\n        \"end\": 64.75000000000001,\\n        \"label\": \"Emin\"\\n      },\\n      {\\n        \"start\": 64.75000000000001,\\n        \"end\": 65.65000000000002,\\n        \"label\": \"Amaj\"\\n      },\\n      {\\n        \"start\": 65.65000000000002,\\n        \"end\": 67.05000000000001,\\n        \"label\": \"Dmaj\"\\n      },\\n      {\\n        \"start\": 67.05000000000001,\\n        \"end\": 67.95,\\n        \"label\": \"Amaj\"\\n      },\\n      {\\n        \"start\": 67.95,\\n        \"end\": 69.25000000000001,\\n        \"label\": \"Dmaj\"\\n      },\\n      {\\n        \"start\": 69.25000000000001,\\n        \"end\": 70.15000000000002,\\n        \"label\": \"Amaj\"\\n      },\\n      {\\n        \"start\": 70.15000000000002,\\n        \"end\": 71.45,\\n        \"label\": \"Dmaj\"\\n      },\\n      {\\n        \"start\": 71.45,\\n        \"end\": 73.45,\\n        \"label\": \"Emaj\"\\n      },\\n      {\\n        \"start\": 73.45,\\n        \"end\": 76.35000000000001,\\n        \"label\": \"Emin7\"\\n      },\\n      {\\n        \"start\": 76.35000000000001,\\n        \"end\": 78.35000000000001,\\n        \"label\": \"Dmaj\"\\n      },\\n      {\\n        \"start\": 78.35000000000001,\\n        \"end\": 80.65000000000002,\\n        \"label\": \"Gbmaj\"\\n      },\\n      {\\n        \"start\": 80.65000000000002,\\n        \"end\": 82.65000000000002,\\n        \"label\": \"Emaj\"\\n      },\\n      {\\n        \"start\": 82.65000000000002,\\n        \"end\": 85.35000000000001,\\n        \"label\": \"Emin7\"\\n      },\\n      {\\n        \"start\": 85.35000000000001,\\n        \"end\": 87.45,\\n        \"label\": \"Dmaj\"\\n      },\\n      {\\n        \"start\": 87.45,\\n        \"end\": 91.75000000000001,\\n        \"label\": \"Bmaj\"\\n      },\\n      {\\n        \"start\": 91.75000000000001,\\n        \"end\": 94.15000000000002,\\n        \"label\": \"Emaj\"\\n      },\\n      {\\n        \"start\": 94.15000000000002,\\n        \"end\": 96.85000000000001,\\n        \"label\": \"Emin7\"\\n      },\\n      {\\n        \"start\": 96.85000000000001,\\n        \"end\": 99.05000000000001,\\n        \"label\": \"Dmaj\"\\n      },\\n      {\\n        \"start\": 99.05000000000001,\\n        \"end\": 101.35000000000001,\\n        \"label\": \"Gbmaj\"\\n      },\\n      {\\n        \"start\": 101.35000000000001,\\n        \"end\": 103.65000000000002,\\n        \"label\": \"Emaj\"\\n      },\\n      {\\n        \"start\": 103.65000000000002,\\n        \"end\": 106.45,\\n        \"label\": \"Emin7\"\\n      },\\n      {\\n        \"start\": 106.45,\\n        \"end\": 108.45,\\n        \"label\": \"Dmaj\"\\n      },\\n      {\\n        \"start\": 108.45,\\n        \"end\": 119.25000000000001,\\n        \"label\": \"Bmaj\"\\n      },\\n      {\\n        \"start\": 119.25000000000001,\\n        \"end\": 119.85000000000001,\\n        \"label\": \"Db7\"\\n      },\\n      {\\n        \"start\": 119.85000000000001,\\n        \"end\": 122.35000000000001,\\n        \"label\": \"Gbmaj\"\\n      },\\n      {\\n        \"start\": 122.35000000000001,\\n        \"end\": 124.05000000000001,\\n        \"label\": \"Abmin7\"\\n      },\\n      {\\n        \"start\": 124.05000000000001,\\n        \"end\": 124.65000000000002,\\n        \"label\": \"Dbmaj\"\\n      },\\n      {\\n        \"start\": 124.65000000000002,\\n        \"end\": 127.25000000000001,\\n        \"label\": \"Gbmaj\"\\n      },\\n      {\\n        \"start\": 127.25000000000001,\\n        \"end\": 128.55,\\n        \"label\": \"Amaj\"\\n      },\\n      {\\n        \"start\": 128.55,\\n        \"end\": 129.25,\\n        \"label\": \"Bmaj\"\\n      },\\n      {\\n        \"start\": 129.25,\\n        \"end\": 130.75,\\n        \"label\": \"Emaj\"\\n      },\\n      {\\n        \"start\": 130.75,\\n        \"end\": 133.15,\\n        \"label\": \"Amaj\"\\n      },\\n      {\\n        \"start\": 133.15,\\n        \"end\": 133.75,\\n        \"label\": \"Bmaj\"\\n      },\\n      {\\n        \"start\": 133.75,\\n        \"end\": 137.05,\\n        \"label\": \"Emaj\"\\n      },\\n      {\\n        \"start\": 137.05,\\n        \"end\": 139.85000000000002,\\n        \"label\": \"Gmaj7\"\\n      },\\n      {\\n        \"start\": 139.85000000000002,\\n        \"end\": 141.55,\\n        \"label\": \"Amaj\"\\n      },\\n      {\\n        \"start\": 141.55,\\n        \"end\": 142.75,\\n        \"label\": \"Dmaj\"\\n      },\\n      {\\n        \"start\": 142.75,\\n        \"end\": 143.85000000000002,\\n        \"label\": \"Amaj\"\\n      },\\n      {\\n        \"start\": 143.85000000000002,\\n        \"end\": 145.05,\\n        \"label\": \"Dmaj\"\\n      },\\n      {\\n        \"start\": 145.05,\\n        \"end\": 146.15,\\n        \"label\": \"Amaj\"\\n      },\\n      {\\n        \"start\": 146.15,\\n        \"end\": 147.45,\\n        \"label\": \"Dmaj\"\\n      },\\n      {\\n        \"start\": 147.45,\\n        \"end\": 149.85000000000002,\\n        \"label\": \"Cmaj\"\\n      },\\n      {\\n        \"start\": 149.85000000000002,\\n        \"end\": 150.65,\\n        \"label\": \"Amaj\"\\n      },\\n      {\\n        \"start\": 150.65,\\n        \"end\": 152.05,\\n        \"label\": \"Dmaj\"\\n      },\\n      {\\n        \"start\": 152.05,\\n        \"end\": 153.05,\\n        \"label\": \"Amaj\"\\n      },\\n      {\\n        \"start\": 153.05,\\n        \"end\": 154.25,\\n        \"label\": \"Dmaj\"\\n      },\\n      {\\n        \"start\": 154.25,\\n        \"end\": 155.25,\\n        \"label\": \"Amaj\"\\n      },\\n      {\\n        \"start\": 155.25,\\n        \"end\": 156.65000000000003,\\n        \"label\": \"Dmaj\"\\n      },\\n      {\\n        \"start\": 156.65000000000003,\\n        \"end\": 158.75,\\n        \"label\": \"Cmaj\"\\n      },\\n      {\\n        \"start\": 158.75,\\n        \"end\": 159.75,\\n        \"label\": \"Amaj\"\\n      },\\n      {\\n        \"start\": 159.75,\\n        \"end\": 160.95,\\n        \"label\": \"Dmaj\"\\n      },\\n      {\\n        \"start\": 160.95,\\n        \"end\": 162.05,\\n        \"label\": \"Amaj\"\\n      },\\n      {\\n        \"start\": 162.05,\\n        \"end\": 163.25,\\n        \"label\": \"Dmaj\"\\n      },\\n      {\\n        \"start\": 163.25,\\n        \"end\": 164.35000000000002,\\n        \"label\": \"Amaj\"\\n      },\\n      {\\n        \"start\": 164.35000000000002,\\n        \"end\": 165.55,\\n        \"label\": \"Dmaj\"\\n      },\\n      {\\n        \"start\": 165.55,\\n        \"end\": 167.95,\\n        \"label\": \"Cmaj7\"\\n      },\\n      {\\n        \"start\": 167.95,\\n        \"end\": 168.95,\\n        \"label\": \"Amaj\"\\n      },\\n      {\\n        \"start\": 168.95,\\n        \"end\": 170.05,\\n        \"label\": \"Dmaj\"\\n      },\\n      {\\n        \"start\": 170.05,\\n        \"end\": 171.15000000000003,\\n        \"label\": \"Amaj\"\\n      },\\n      {\\n        \"start\": 171.15000000000003,\\n        \"end\": 172.35000000000002,\\n        \"label\": \"Dmaj\"\\n      },\\n      {\\n        \"start\": 172.35000000000002,\\n        \"end\": 173.35000000000002,\\n        \"label\": \"Amaj\"\\n      },\\n      {\\n        \"start\": 173.35000000000002,\\n        \"end\": 174.65000000000003,\\n        \"label\": \"Dmaj\"\\n      },\\n      {\\n        \"start\": 174.65000000000003,\\n        \"end\": 184,\\n        \"label\": \"Bmaj\"\\n      }\\n    ],\\n    \"_id\": \"deezer:67354196\"\\n  },\\n  \"arousal\": \"\",\\n  \"arousal_predicted\": \"0.044004172\",\\n  \"album_genre\": \"Alternative Rock\",\\n  \"has_emotion_tags\": \"False\",\\n  \"has_social_tags\": \"False\",\\n  \"lastfm_id\": \"\",\\n  \"valence\": \"\",\\n  \"valence_predicted\": \"-0.81023335\"\n",
       "2                                                                                                                                                                                                                                                                                                                                                                                                                                                                                                                                                                                                                                                                                                                                                                                                                                                                                                                                                                                                                                                                                                                                                                                                                                                                                                                                                                                                                                                                                                                                                                                                                                                                                                                                                                                                                                                                                                                                                                                                                                                                                                                                                                                                                                                                                                                                                                                 \"_id\": {\\n    \"$oid\": \"5714dec325ac0d8aee3804e9\"\\n  },\\n  \"name\": \"A\",\\n  \"position\": 2,\\n  \"lengthAlbum\": \"57:52\",\\n  \"urlSong\": \"http://lyrics.wikia.com/A:Cheeky_Monkey\",\\n  \"lyrics\": \"My name is Jason<br>I&apos;ll rock yer face in<br>Cos I&apos;ve got relations in my band<br>We like Van Halen<br>And Iron Maiden<br>I&apos;ll do the talkin&apos;, understand? <br><br>Cheeky Monkey<br>Cheeky Monkey<br>Yeah, you know I&apos;m right<br>Do ya wanna fight?<br>I&apos;ll stay up all night<br>Just forget the time <br><br>Any time I want to<br>Any place I need to<br>I&apos;ll be there<br>Yeah, I&apos;ll be alright... <br><br>So get out the kitchen<br>Check out my pigeon<br>Fed-Ex are massive on my way<br>Jump on a rock bus<br>No-one can stop us<br>We&apos;re going bonkers today <br><br>Yeah, Cheeky Monkey!<br>Cheeky Monkey!<br>Do you know, I&apos;m right!<br>Do ya wanna fight?<br>I&apos;ll stay up all night<br>Just forget the time<br>Any time I want to<br>Any place I need to<br>I&apos;ll be there<br>Yeah, I&apos;ll be alright... <br><br>We&apos;re Cheeky Monkeys<br>We&apos;re Cheeky Monkeys<br>Just like the Bee Gees<br>We put the words down so they rhyme<br>Yeah, we rock in the summer<br>(Rock in the summer)<br>And we sleep in the winter<br>(Sleep in the winter)<br>Then we park where we want to<br>(Park where we want to), pay the fine <br><br>Yeah, Cheeky Monkeys<br>Cheeky Monkeys<br>Do you know, I&apos;m right!<br>Do ya wanna fight?<br>I&apos;ll stay up all night<br>Just forget the time<br>Any time I want to<br>Any place I need to<br>I&apos;ll be there<br>Yeah, I&apos;ll be alright... <br><br>Cheeky Monkeys<br>Cheeky Monkeys<br>Cheeky Monkeys<br>Cheeky Monkeys<br>Cheeky...\",\\n  \"urlWikipedia\": \"\",\\n  \"id_album\": {\\n    \"$oid\": \"5714debb25ac0d8aee34d59a\"\\n  },\\n  \"isClassic\": false,\\n  \"urlAllmusic\": \"http://www.allmusic.com/song/mt0013303555\",\\n  \"urlMusicBrainz\": \"http://musicbrainz.org/recording/f9303efd-b512-4236-b83e-2fff0ace17a9\",\\n  \"title\": \"Cheeky Monkey\",\\n  \"publicationDateAlbum\": \"1997\",\\n  \"albumTitle\": \"How Ace Are Buildings\",\\n  \"deezer_mapping\": [\\n    [\\n      67354198,\\n      \"search-exact\"\\n    ]\\n  ],\\n  \"id_song_deezer\": \"67354198\",\\n  \"isrc\": \"GBAAP9700052\",\\n  \"length\": \"216\",\\n  \"explicitLyrics\": false,\\n  \"rank\": 268232,\\n  \"bpm\": \"185\",\\n  \"gain\": \"-10.4\",\\n  \"preview\": \"http://e-cdn-preview-e.deezer.com/stream/ec4f87ad85271b7fcf314f03daa1b4b7-1.mp3\",\\n  \"availableCountries\": [\\n    \"AD\",\\n    \"AE\",\\n    \"AG\",\\n    \"AI\",\\n    \"AL\",\\n    \"AM\",\\n    \"AO\",\\n    \"AR\",\\n    \"AT\",\\n    \"AU\",\\n    \"AW\",\\n    \"AX\",\\n    \"AZ\",\\n    \"BA\",\\n    \"BB\",\\n    \"BD\",\\n    \"BE\",\\n    \"BF\",\\n    \"BG\",\\n    \"BH\",\\n    \"BI\",\\n    \"BJ\",\\n    \"BM\",\\n    \"BN\",\\n    \"BO\",\\n    \"BR\",\\n    \"BS\",\\n    \"BV\",\\n    \"BW\",\\n    \"BY\",\\n    \"BZ\",\\n    \"CD\",\\n    \"CF\",\\n    \"CG\",\\n    \"CH\",\\n    \"CI\",\\n    \"CL\",\\n    \"CM\",\\n    \"CN\",\\n    \"CO\",\\n    \"CR\",\\n    \"CV\",\\n    \"CY\",\\n    \"CZ\",\\n    \"DE\",\\n    \"DJ\",\\n    \"DK\",\\n    \"DM\",\\n    \"DO\",\\n    \"DZ\",\\n    \"EC\",\\n    \"EE\",\\n    \"EG\",\\n    \"EH\",\\n    \"ER\",\\n    \"ES\",\\n    \"ET\",\\n    \"FI\",\\n    \"FJ\",\\n    \"FK\",\\n    \"FM\",\\n    \"FO\",\\n    \"FR\",\\n    \"GA\",\\n    \"GB\",\\n    \"GD\",\\n    \"GE\",\\n    \"GF\",\\n    \"GG\",\\n    \"GH\",\\n    \"GI\",\\n    \"GL\",\\n    \"GM\",\\n    \"GN\",\\n    \"GP\",\\n    \"GQ\",\\n    \"GR\",\\n    \"GS\",\\n    \"GT\",\\n    \"GW\",\\n    \"HK\",\\n    \"HN\",\\n    \"HR\",\\n    \"HT\",\\n    \"HU\",\\n    \"ID\",\\n    \"IE\",\\n    \"IL\",\\n    \"IM\",\\n    \"IN\",\\n    \"IO\",\\n    \"IQ\",\\n    \"IS\",\\n    \"IT\",\\n    \"JE\",\\n    \"JM\",\\n    \"JO\",\\n    \"KE\",\\n    \"KG\",\\n    \"KH\",\\n    \"KM\",\\n    \"KN\",\\n    \"KR\",\\n    \"KW\",\\n    \"KY\",\\n    \"KZ\",\\n    \"LA\",\\n    \"LB\",\\n    \"LC\",\\n    \"LI\",\\n    \"LK\",\\n    \"LR\",\\n    \"LS\",\\n    \"LT\",\\n    \"LU\",\\n    \"LV\",\\n    \"LY\",\\n    \"MA\",\\n    \"MC\",\\n    \"MD\",\\n    \"ME\",\\n    \"MG\",\\n    \"MK\",\\n    \"ML\",\\n    \"MM\",\\n    \"MN\",\\n    \"MO\",\\n    \"MQ\",\\n    \"MR\",\\n    \"MS\",\\n    \"MT\",\\n    \"MU\",\\n    \"MW\",\\n    \"MY\",\\n    \"MZ\",\\n    \"NA\",\\n    \"NC\",\\n    \"NE\",\\n    \"NG\",\\n    \"NI\",\\n    \"NL\",\\n    \"NO\",\\n    \"NP\",\\n    \"NZ\",\\n    \"OM\",\\n    \"PA\",\\n    \"PE\",\\n    \"PF\",\\n    \"PG\",\\n    \"PH\",\\n    \"PK\",\\n    \"PL\",\\n    \"PM\",\\n    \"PN\",\\n    \"PR\",\\n    \"PT\",\\n    \"PY\",\\n    \"QA\",\\n    \"RE\",\\n    \"RO\",\\n    \"RS\",\\n    \"RU\",\\n    \"RW\",\\n    \"SA\",\\n    \"SC\",\\n    \"SD\",\\n    \"SE\",\\n    \"SG\",\\n    \"SH\",\\n    \"SI\",\\n    \"SJ\",\\n    \"SK\",\\n    \"SL\",\\n    \"SM\",\\n    \"SN\",\\n    \"SO\",\\n    \"ST\",\\n    \"SV\",\\n    \"SY\",\\n    \"SZ\",\\n    \"TC\",\\n    \"TD\",\\n    \"TF\",\\n    \"TG\",\\n    \"TH\",\\n    \"TJ\",\\n    \"TL\",\\n    \"TM\",\\n    \"TN\",\\n    \"TR\",\\n    \"TT\",\\n    \"TW\",\\n    \"TZ\",\\n    \"UA\",\\n    \"UG\",\\n    \"UY\",\\n    \"UZ\",\\n    \"VA\",\\n    \"VC\",\\n    \"VE\",\\n    \"VG\",\\n    \"VN\",\\n    \"WF\",\\n    \"YE\",\\n    \"YT\",\\n    \"ZA\",\\n    \"ZM\",\\n    \"ZW\"\\n  ],\\n  \"publicationDate\": \"1998-06-22\",\\n  \"rdf\": \"\",\\n  \"urlPandora\": \"\",\\n  \"urlITunes\": \"\",\\n  \"urlSpotify\": \"\",\\n  \"urlYouTube\": \"\",\\n  \"urlAmazon\": \"\",\\n  \"urlHypeMachine\": \"\",\\n  \"urlGoEar\": \"\",\\n  \"urlLastFm\": \"\",\\n  \"multitrack_path\": \"\",\\n  \"multitrack_file\": \"\",\\n  \"id_song_musicbrainz\": \"f9303efd-b512-4236-b83e-2fff0ace17a9\",\\n  \"disambiguation\": \"\",\\n  \"language\": \"\",\\n  \"begin\": \"\",\\n  \"end\": \"\",\\n  \"id_artist_deezer\": \"3412\",\\n  \"id_album_deezer\": \"6585846\",\\n  \"urlDeezer\": \"http://www.deezer.com/track/67354198\",\\n  \"language_detect\": \"english\",\\n  \"title_accent_fold\": \"Cheeky Monkey\",\\n  \"animux_paths\": [],\\n  \"chords_metadata\": {\\n    \"confidence\": 0.7140212864414622,\\n    \"duration\": 216.00759637188207,\\n    \"chordSequence\": [\\n      {\\n        \"start\": 0,\\n        \"end\": 1.55,\\n        \"label\": \"Emaj\"\\n      },\\n      {\\n        \"start\": 1.55,\\n        \"end\": 2.35,\\n        \"label\": \"Dmaj\"\\n      },\\n      {\\n        \"start\": 2.35,\\n        \"end\": 2.95,\\n        \"label\": \"Amaj\"\\n      },\\n      {\\n        \"start\": 2.95,\\n        \"end\": 4.15,\\n        \"label\": \"Emaj\"\\n      },\\n      {\\n        \"start\": 4.15,\\n        \"end\": 4.65,\\n        \"label\": \"Bmin7\"\\n      },\\n      {\\n        \"start\": 4.65,\\n        \"end\": 5.8500000000000005,\\n        \"label\": \"Amaj\"\\n      },\\n      {\\n        \"start\": 5.8500000000000005,\\n        \"end\": 6.75,\\n        \"label\": \"Emaj\"\\n      },\\n      {\\n        \"start\": 6.75,\\n        \"end\": 8.05,\\n        \"label\": \"Bmin7\"\\n      },\\n      {\\n        \"start\": 8.05,\\n        \"end\": 10.75,\\n        \"label\": \"Bmaj\"\\n      },\\n      {\\n        \"start\": 10.75,\\n        \"end\": 12.350000000000001,\\n        \"label\": \"Emaj\"\\n      },\\n      {\\n        \"start\": 12.350000000000001,\\n        \"end\": 13.45,\\n        \"label\": \"Amaj\"\\n      },\\n      {\\n        \"start\": 13.45,\\n        \"end\": 14.55,\\n        \"label\": \"Emaj\"\\n      },\\n      {\\n        \"start\": 14.55,\\n        \"end\": 15.150000000000002,\\n        \"label\": \"Bmin7\"\\n      },\\n      {\\n        \"start\": 15.150000000000002,\\n        \"end\": 16.150000000000002,\\n        \"label\": \"Amaj\"\\n      },\\n      {\\n        \"start\": 16.150000000000002,\\n        \"end\": 17.250000000000004,\\n        \"label\": \"Emaj\"\\n      },\\n      {\\n        \"start\": 17.250000000000004,\\n        \"end\": 17.750000000000004,\\n        \"label\": \"Bmin7\"\\n      },\\n      {\\n        \"start\": 17.750000000000004,\\n        \"end\": 18.55,\\n        \"label\": \"Amaj\"\\n      },\\n      {\\n        \"start\": 18.55,\\n        \"end\": 24.450000000000003,\\n        \"label\": \"Bmaj\"\\n      },\\n      {\\n        \"start\": 24.450000000000003,\\n        \"end\": 32.949999999999996,\\n        \"label\": \"Bmin7\"\\n      },\\n      {\\n        \"start\": 32.949999999999996,\\n        \"end\": 34.849999999999994,\\n        \"label\": \"Emaj\"\\n      },\\n      {\\n        \"start\": 34.849999999999994,\\n        \"end\": 37.55,\\n        \"label\": \"Amaj\"\\n      },\\n      {\\n        \"start\": 37.55,\\n        \"end\": 39.85,\\n        \"label\": \"Gmaj\"\\n      },\\n      {\\n        \"start\": 39.85,\\n        \"end\": 42.25,\\n        \"label\": \"Dmaj\"\\n      },\\n      {\\n        \"start\": 42.25,\\n        \"end\": 47.45,\\n        \"label\": \"Amaj\"\\n      },\\n      {\\n        \"start\": 47.45,\\n        \"end\": 49.85,\\n        \"label\": \"Gmaj\"\\n      },\\n      {\\n        \"start\": 49.85,\\n        \"end\": 52.25,\\n        \"label\": \"Dmaj\"\\n      },\\n      {\\n        \"start\": 52.25,\\n        \"end\": 54.85,\\n        \"label\": \"Fmaj\"\\n      },\\n      {\\n        \"start\": 54.85,\\n        \"end\": 56.15,\\n        \"label\": \"Emaj\"\\n      },\\n      {\\n        \"start\": 56.15,\\n        \"end\": 57.55,\\n        \"label\": \"Amaj\"\\n      },\\n      {\\n        \"start\": 57.55,\\n        \"end\": 58.65,\\n        \"label\": \"Emaj\"\\n      },\\n      {\\n        \"start\": 58.65,\\n        \"end\": 59.25,\\n        \"label\": \"Bmin7\"\\n      },\\n      {\\n        \"start\": 59.25,\\n        \"end\": 60.05,\\n        \"label\": \"Amaj\"\\n      },\\n      {\\n        \"start\": 60.05,\\n        \"end\": 61.15,\\n        \"label\": \"Emaj\"\\n      },\\n      {\\n        \"start\": 61.15,\\n        \"end\": 62.55,\\n        \"label\": \"Bmin7\"\\n      },\\n      {\\n        \"start\": 62.55,\\n        \"end\": 65.25000000000001,\\n        \"label\": \"Bmaj\"\\n      },\\n      {\\n        \"start\": 65.25000000000001,\\n        \"end\": 66.35000000000001,\\n        \"label\": \"Emaj\"\\n      },\\n      {\\n        \"start\": 66.35000000000001,\\n        \"end\": 67.85000000000001,\\n        \"label\": \"Amaj\"\\n      },\\n      {\\n        \"start\": 67.85000000000001,\\n        \"end\": 68.95,\\n        \"label\": \"Emaj\"\\n      },\\n      {\\n        \"start\": 68.95,\\n        \"end\": 69.75000000000001,\\n        \"label\": \"Bmin7\"\\n      },\\n      {\\n        \"start\": 69.75000000000001,\\n        \"end\": 70.45,\\n        \"label\": \"Amaj\"\\n      },\\n      {\\n        \"start\": 70.45,\\n        \"end\": 71.65000000000002,\\n        \"label\": \"Emaj\"\\n      },\\n      {\\n        \"start\": 71.65000000000002,\\n        \"end\": 72.85000000000001,\\n        \"label\": \"Dmaj7\"\\n      },\\n      {\\n        \"start\": 72.85000000000001,\\n        \"end\": 78.75000000000001,\\n        \"label\": \"Bmaj\"\\n      },\\n      {\\n        \"start\": 78.75000000000001,\\n        \"end\": 87.85000000000001,\\n        \"label\": \"Bmin7\"\\n      },\\n      {\\n        \"start\": 87.85000000000001,\\n        \"end\": 89.25000000000001,\\n        \"label\": \"Emaj\"\\n      },\\n      {\\n        \"start\": 89.25000000000001,\\n        \"end\": 91.95,\\n        \"label\": \"Amaj\"\\n      },\\n      {\\n        \"start\": 91.95,\\n        \"end\": 94.25000000000001,\\n        \"label\": \"Gmaj\"\\n      },\\n      {\\n        \"start\": 94.25000000000001,\\n        \"end\": 96.75000000000001,\\n        \"label\": \"Dmaj\"\\n      },\\n      {\\n        \"start\": 96.75000000000001,\\n        \"end\": 101.85000000000001,\\n        \"label\": \"Amaj\"\\n      },\\n      {\\n        \"start\": 101.85000000000001,\\n        \"end\": 104.35000000000001,\\n        \"label\": \"Gmaj\"\\n      },\\n      {\\n        \"start\": 104.35000000000001,\\n        \"end\": 106.75000000000001,\\n        \"label\": \"Dmaj\"\\n      },\\n      {\\n        \"start\": 106.75000000000001,\\n        \"end\": 109.45,\\n        \"label\": \"Fmaj\"\\n      },\\n      {\\n        \"start\": 109.45,\\n        \"end\": 115.05000000000001,\\n        \"label\": \"Amaj\"\\n      },\\n      {\\n        \"start\": 115.05000000000001,\\n        \"end\": 117.25000000000001,\\n        \"label\": \"Dmaj7\"\\n      },\\n      {\\n        \"start\": 117.25000000000001,\\n        \"end\": 118.25000000000001,\\n        \"label\": \"Dmin7\"\\n      },\\n      {\\n        \"start\": 118.25000000000001,\\n        \"end\": 119.65000000000002,\\n        \"label\": \"Gmaj\"\\n      },\\n      {\\n        \"start\": 119.65000000000002,\\n        \"end\": 122.85000000000001,\\n        \"label\": \"Amaj\"\\n      },\\n      {\\n        \"start\": 122.85000000000001,\\n        \"end\": 123.65000000000002,\\n        \"label\": \"Bmin7\"\\n      },\\n      {\\n        \"start\": 123.65000000000002,\\n        \"end\": 126.15000000000002,\\n        \"label\": \"Gbmin7\"\\n      },\\n      {\\n        \"start\": 126.15000000000002,\\n        \"end\": 127.35000000000001,\\n        \"label\": \"Dmaj\"\\n      },\\n      {\\n        \"start\": 127.35000000000001,\\n        \"end\": 128.55,\\n        \"label\": \"Dmin7\"\\n      },\\n      {\\n        \"start\": 128.55,\\n        \"end\": 130.15,\\n        \"label\": \"Gmaj\"\\n      },\\n      {\\n        \"start\": 130.15,\\n        \"end\": 132.75,\\n        \"label\": \"Emaj\"\\n      },\\n      {\\n        \"start\": 132.75,\\n        \"end\": 140.15,\\n        \"label\": \"Bmaj\"\\n      },\\n      {\\n        \"start\": 140.15,\\n        \"end\": 142.45,\\n        \"label\": \"Db7\"\\n      },\\n      {\\n        \"start\": 142.45,\\n        \"end\": 150.65,\\n        \"label\": \"Bmaj\"\\n      },\\n      {\\n        \"start\": 150.65,\\n        \"end\": 155.55,\\n        \"label\": \"Dbmaj\"\\n      },\\n      {\\n        \"start\": 155.55,\\n        \"end\": 156.95,\\n        \"label\": \"Dmaj7\"\\n      },\\n      {\\n        \"start\": 156.95,\\n        \"end\": 158.25,\\n        \"label\": \"Emaj\"\\n      },\\n      {\\n        \"start\": 158.25,\\n        \"end\": 166.75,\\n        \"label\": \"Bmin7\"\\n      },\\n      {\\n        \"start\": 166.75,\\n        \"end\": 169.35000000000002,\\n        \"label\": \"Amaj\"\\n      },\\n      {\\n        \"start\": 169.35000000000002,\\n        \"end\": 171.55,\\n        \"label\": \"Gmaj\"\\n      },\\n      {\\n        \"start\": 171.55,\\n        \"end\": 174.05,\\n        \"label\": \"Dmaj\"\\n      },\\n      {\\n        \"start\": 174.05,\\n        \"end\": 179.05,\\n        \"label\": \"Amaj\"\\n      },\\n      {\\n        \"start\": 179.05,\\n        \"end\": 181.65000000000003,\\n        \"label\": \"Gmaj\"\\n      },\\n      {\\n        \"start\": 181.65000000000003,\\n        \"end\": 184.15000000000003,\\n        \"label\": \"Dmaj\"\\n      },\\n      {\\n        \"start\": 184.15000000000003,\\n        \"end\": 188.95,\\n        \"label\": \"Bmaj\"\\n      },\\n      {\\n        \"start\": 188.95,\\n        \"end\": 200.85000000000002,\\n        \"label\": \"Bmin7\"\\n      },\\n      {\\n        \"start\": 200.85000000000002,\\n        \"end\": 202.55,\\n        \"label\": \"Bmaj\"\\n      },\\n      {\\n        \"start\": 202.55,\\n        \"end\": 203.75,\\n        \"label\": \"Emaj\"\\n      },\\n      {\\n        \"start\": 203.75,\\n        \"end\": 208.95,\\n        \"label\": \"Bmin7\"\\n      },\\n      {\\n        \"start\": 208.95,\\n        \"end\": 211.65000000000003,\\n        \"label\": \"Fmaj\"\\n      },\\n      {\\n        \"start\": 211.65000000000003,\\n        \"end\": 212.55,\\n        \"label\": \"E7\"\\n      },\\n      {\\n        \"start\": 212.55,\\n        \"end\": 216,\\n        \"label\": \"Bmin7\"\\n      }\\n    ],\\n    \"_id\": \"deezer:67354198\"\\n  },\\n  \"arousal\": \"\",\\n  \"arousal_predicted\": \"0.4871664000000001\",\\n  \"album_genre\": \"Alternative Rock\",\\n  \"has_emotion_tags\": \"False\",\\n  \"has_social_tags\": \"False\",\\n  \"lastfm_id\": \"\",\\n  \"valence\": \"\",\\n  \"valence_predicted\": \"0.22384201\"\n",
       "3                                                                                                                                                                                                                                                                                                                                                                                                                                                                                                                                                                                                                                                                                                                                                                                                                                                                                                                                                                                                                                                                                                                                                                                                                                                                                                                                                                                                                                                                                                                                                                                                                                                                                                                                                                                                                                                                                                                                                                                                                                                                                                                                                                                                                                                                                                                                                                                                                                                                                                                                                                                                                                                                                                                                                                                                                                                                                                                                                                                                                                                                                                                                                                                                                                                                                                                                                                                                                                                                                                                                                                                                                                                                                                                                                                                                                                                                                                                                                                                                                                                                                                                                                                                                                                                                                                                                                                                                                                                                                                                                                                                                                                                                                                                                                                                                                                                                                                                                                                                                                                                                                                                                                                                                                                                                                                                                                                                                                                                                                                                                                                                                                                                                                                                                                                                                                                                                                                                                                                                                                                                                                                                                                     \"_id\": {\\n    \"$oid\": \"5714dec325ac0d8aee3804ea\"\\n  },\\n  \"name\": \"A\",\\n  \"position\": 3,\\n  \"lengthAlbum\": \"57:52\",\\n  \"urlSong\": \"http://lyrics.wikia.com/A:No._1\",\\n  \"lyrics\": \"Got to get out more<br>Get in the place<br>Got to work out more<br>And sort out my face<br>I&apos;ve got all the &apos;zines that tell me what to eat<br>And I&apos;m tired of being told what to wear on my feet<br>And I don&apos;t have the time to get all worked up<br>About the year on the street<br><br>And it&apos;s not my fault, I can find my way<br>Yeah it&apos;s not my fault, there goes another day<br>I&apos;ve been here too long, do I have to change<br>Into what it takes<br>To make it number one? <br><br>I feel out of favour<br>I don&apos;t look like a picture<br>You think I&apos;m a loser,<br>But I can see through you<br>You&apos;re running around like you&apos;re running the country<br>I know that you think that you&apos;ve got one on me<br>Ear to the ground, like the boy about town<br>Can&apos;t get nothing to fit me <br><br>And it&apos;s not my fault, I can find my way<br>Yeah it&apos;s not my fault, there goes another day<br>I&apos;ve been here too long, do I have to change<br>Into what it takes<br>To make it number one? <br><br>Got a call from an old friend, used to be real close<br>Said he couldn&apos;t go on the American way<br>Sold his house, sold his car<br>Bought a ticket to the West Coast<br>Now he gives &apos;em a stand-up routine in L.A.\",\\n  \"urlWikipedia\": \"\",\\n  \"id_album\": {\\n    \"$oid\": \"5714debb25ac0d8aee34d59a\"\\n  },\\n  \"isClassic\": false,\\n  \"urlAllmusic\": \"http://www.allmusic.com/song/mt0013319228\",\\n  \"urlMusicBrainz\": \"http://musicbrainz.org/recording/52ef8537-c61d-4163-a6cc-737cac0c9703\",\\n  \"title\": \"No. 1\",\\n  \"publicationDateAlbum\": \"1997\",\\n  \"albumTitle\": \"How Ace Are Buildings\",\\n  \"deezer_mapping\": [\\n    [\\n      67354199,\\n      \"search-exact\"\\n    ]\\n  ],\\n  \"id_song_deezer\": \"67354199\",\\n  \"isrc\": \"GBAAP9700053\",\\n  \"length\": \"230\",\\n  \"explicitLyrics\": false,\\n  \"rank\": 308436,\\n  \"bpm\": \"96\",\\n  \"gain\": \"-10.6\",\\n  \"preview\": \"http://e-cdn-preview-6.deezer.com/stream/667cdea9fa342efa9dce027512c15e3d-1.mp3\",\\n  \"availableCountries\": [\\n    \"AD\",\\n    \"AE\",\\n    \"AG\",\\n    \"AI\",\\n    \"AL\",\\n    \"AM\",\\n    \"AO\",\\n    \"AR\",\\n    \"AT\",\\n    \"AU\",\\n    \"AW\",\\n    \"AX\",\\n    \"AZ\",\\n    \"BA\",\\n    \"BB\",\\n    \"BD\",\\n    \"BE\",\\n    \"BF\",\\n    \"BG\",\\n    \"BH\",\\n    \"BI\",\\n    \"BJ\",\\n    \"BM\",\\n    \"BN\",\\n    \"BO\",\\n    \"BR\",\\n    \"BS\",\\n    \"BV\",\\n    \"BW\",\\n    \"BY\",\\n    \"BZ\",\\n    \"CD\",\\n    \"CF\",\\n    \"CG\",\\n    \"CH\",\\n    \"CI\",\\n    \"CL\",\\n    \"CM\",\\n    \"CN\",\\n    \"CO\",\\n    \"CR\",\\n    \"CV\",\\n    \"CY\",\\n    \"CZ\",\\n    \"DE\",\\n    \"DJ\",\\n    \"DK\",\\n    \"DM\",\\n    \"DO\",\\n    \"DZ\",\\n    \"EC\",\\n    \"EE\",\\n    \"EG\",\\n    \"EH\",\\n    \"ER\",\\n    \"ES\",\\n    \"ET\",\\n    \"FI\",\\n    \"FJ\",\\n    \"FK\",\\n    \"FM\",\\n    \"FO\",\\n    \"FR\",\\n    \"GA\",\\n    \"GB\",\\n    \"GD\",\\n    \"GE\",\\n    \"GF\",\\n    \"GG\",\\n    \"GH\",\\n    \"GI\",\\n    \"GL\",\\n    \"GM\",\\n    \"GN\",\\n    \"GP\",\\n    \"GQ\",\\n    \"GR\",\\n    \"GS\",\\n    \"GT\",\\n    \"GW\",\\n    \"HK\",\\n    \"HN\",\\n    \"HR\",\\n    \"HT\",\\n    \"HU\",\\n    \"ID\",\\n    \"IE\",\\n    \"IL\",\\n    \"IM\",\\n    \"IN\",\\n    \"IO\",\\n    \"IQ\",\\n    \"IS\",\\n    \"IT\",\\n    \"JE\",\\n    \"JM\",\\n    \"JO\",\\n    \"KE\",\\n    \"KG\",\\n    \"KH\",\\n    \"KM\",\\n    \"KN\",\\n    \"KR\",\\n    \"KW\",\\n    \"KY\",\\n    \"KZ\",\\n    \"LA\",\\n    \"LB\",\\n    \"LC\",\\n    \"LI\",\\n    \"LK\",\\n    \"LR\",\\n    \"LS\",\\n    \"LT\",\\n    \"LU\",\\n    \"LV\",\\n    \"LY\",\\n    \"MA\",\\n    \"MC\",\\n    \"MD\",\\n    \"ME\",\\n    \"MG\",\\n    \"MK\",\\n    \"ML\",\\n    \"MM\",\\n    \"MN\",\\n    \"MO\",\\n    \"MQ\",\\n    \"MR\",\\n    \"MS\",\\n    \"MT\",\\n    \"MU\",\\n    \"MW\",\\n    \"MY\",\\n    \"MZ\",\\n    \"NA\",\\n    \"NC\",\\n    \"NE\",\\n    \"NG\",\\n    \"NI\",\\n    \"NL\",\\n    \"NO\",\\n    \"NP\",\\n    \"NZ\",\\n    \"OM\",\\n    \"PA\",\\n    \"PE\",\\n    \"PF\",\\n    \"PG\",\\n    \"PH\",\\n    \"PK\",\\n    \"PL\",\\n    \"PM\",\\n    \"PN\",\\n    \"PR\",\\n    \"PT\",\\n    \"PY\",\\n    \"QA\",\\n    \"RE\",\\n    \"RO\",\\n    \"RS\",\\n    \"RU\",\\n    \"RW\",\\n    \"SA\",\\n    \"SC\",\\n    \"SD\",\\n    \"SE\",\\n    \"SG\",\\n    \"SH\",\\n    \"SI\",\\n    \"SJ\",\\n    \"SK\",\\n    \"SL\",\\n    \"SM\",\\n    \"SN\",\\n    \"SO\",\\n    \"ST\",\\n    \"SV\",\\n    \"SY\",\\n    \"SZ\",\\n    \"TC\",\\n    \"TD\",\\n    \"TF\",\\n    \"TG\",\\n    \"TH\",\\n    \"TJ\",\\n    \"TL\",\\n    \"TM\",\\n    \"TN\",\\n    \"TR\",\\n    \"TT\",\\n    \"TW\",\\n    \"TZ\",\\n    \"UA\",\\n    \"UG\",\\n    \"UY\",\\n    \"UZ\",\\n    \"VA\",\\n    \"VC\",\\n    \"VE\",\\n    \"VG\",\\n    \"VN\",\\n    \"WF\",\\n    \"YE\",\\n    \"YT\",\\n    \"ZA\",\\n    \"ZM\",\\n    \"ZW\"\\n  ],\\n  \"publicationDate\": \"1998-06-22\",\\n  \"rdf\": \"\",\\n  \"urlPandora\": \"\",\\n  \"urlITunes\": \"\",\\n  \"urlSpotify\": \"\",\\n  \"urlYouTube\": \"\",\\n  \"urlAmazon\": \"\",\\n  \"urlHypeMachine\": \"\",\\n  \"urlGoEar\": \"\",\\n  \"urlLastFm\": \"\",\\n  \"multitrack_path\": \"\",\\n  \"multitrack_file\": \"\",\\n  \"id_song_musicbrainz\": \"52ef8537-c61d-4163-a6cc-737cac0c9703\",\\n  \"disambiguation\": \"\",\\n  \"language\": \"\",\\n  \"begin\": \"\",\\n  \"end\": \"\",\\n  \"id_artist_deezer\": \"3412\",\\n  \"id_album_deezer\": \"6585846\",\\n  \"urlDeezer\": \"http://www.deezer.com/track/67354199\",\\n  \"language_detect\": \"english\",\\n  \"title_accent_fold\": \"No. 1\",\\n  \"animux_paths\": [],\\n  \"chords_metadata\": {\\n    \"confidence\": 0.7674923946110387,\\n    \"duration\": 230.00922902494332,\\n    \"chordSequence\": [\\n      {\\n        \"start\": 0,\\n        \"end\": 4.65,\\n        \"label\": \"Gmin7\"\\n      },\\n      {\\n        \"start\": 4.65,\\n        \"end\": 7.15,\\n        \"label\": \"Bmin7\"\\n      },\\n      {\\n        \"start\": 7.15,\\n        \"end\": 8.15,\\n        \"label\": \"Gmin7\"\\n      },\\n      {\\n        \"start\": 8.15,\\n        \"end\": 9.45,\\n        \"label\": \"Dmin\"\\n      },\\n      {\\n        \"start\": 9.45,\\n        \"end\": 14.75,\\n        \"label\": \"G7\"\\n      },\\n      {\\n        \"start\": 14.75,\\n        \"end\": 16.750000000000004,\\n        \"label\": \"Bmin\"\\n      },\\n      {\\n        \"start\": 16.750000000000004,\\n        \"end\": 39.25,\\n        \"label\": \"Gmaj\"\\n      },\\n      {\\n        \"start\": 39.25,\\n        \"end\": 59.25,\\n        \"label\": \"Emaj\"\\n      },\\n      {\\n        \"start\": 59.25,\\n        \"end\": 61.75,\\n        \"label\": \"Gmaj\"\\n      },\\n      {\\n        \"start\": 61.75,\\n        \"end\": 64.15000000000002,\\n        \"label\": \"G7\"\\n      },\\n      {\\n        \"start\": 64.15000000000002,\\n        \"end\": 66.95,\\n        \"label\": \"Gmaj7\"\\n      },\\n      {\\n        \"start\": 66.95,\\n        \"end\": 68.45,\\n        \"label\": \"Cmaj\"\\n      },\\n      {\\n        \"start\": 68.45,\\n        \"end\": 69.25000000000001,\\n        \"label\": \"Dmaj\"\\n      },\\n      {\\n        \"start\": 69.25000000000001,\\n        \"end\": 72.35000000000001,\\n        \"label\": \"Gmaj\"\\n      },\\n      {\\n        \"start\": 72.35000000000001,\\n        \"end\": 74.75000000000001,\\n        \"label\": \"Dmin7\"\\n      },\\n      {\\n        \"start\": 74.75000000000001,\\n        \"end\": 77.15000000000002,\\n        \"label\": \"Gmaj7\"\\n      },\\n      {\\n        \"start\": 77.15000000000002,\\n        \"end\": 78.45,\\n        \"label\": \"Cmaj\"\\n      },\\n      {\\n        \"start\": 78.45,\\n        \"end\": 79.75000000000001,\\n        \"label\": \"Gmaj\"\\n      },\\n      {\\n        \"start\": 79.75000000000001,\\n        \"end\": 87.75000000000001,\\n        \"label\": \"Amaj\"\\n      },\\n      {\\n        \"start\": 87.75000000000001,\\n        \"end\": 90.85000000000001,\\n        \"label\": \"Emin7\"\\n      },\\n      {\\n        \"start\": 90.85000000000001,\\n        \"end\": 96.75000000000001,\\n        \"label\": \"Amaj\"\\n      },\\n      {\\n        \"start\": 96.75000000000001,\\n        \"end\": 119.45,\\n        \"label\": \"Emaj\"\\n      },\\n      {\\n        \"start\": 119.45,\\n        \"end\": 121.95,\\n        \"label\": \"Gmaj\"\\n      },\\n      {\\n        \"start\": 121.95,\\n        \"end\": 124.45,\\n        \"label\": \"Gmin7\"\\n      },\\n      {\\n        \"start\": 124.45,\\n        \"end\": 127.35000000000001,\\n        \"label\": \"Gmaj7\"\\n      },\\n      {\\n        \"start\": 127.35000000000001,\\n        \"end\": 128.65,\\n        \"label\": \"Cmaj\"\\n      },\\n      {\\n        \"start\": 128.65,\\n        \"end\": 129.75,\\n        \"label\": \"Dmaj\"\\n      },\\n      {\\n        \"start\": 129.75,\\n        \"end\": 132.75,\\n        \"label\": \"Gmaj\"\\n      },\\n      {\\n        \"start\": 132.75,\\n        \"end\": 135.05,\\n        \"label\": \"Dmin7\"\\n      },\\n      {\\n        \"start\": 135.05,\\n        \"end\": 137.45,\\n        \"label\": \"Gmaj7\"\\n      },\\n      {\\n        \"start\": 137.45,\\n        \"end\": 138.85000000000002,\\n        \"label\": \"Cmaj\"\\n      },\\n      {\\n        \"start\": 138.85000000000002,\\n        \"end\": 139.95,\\n        \"label\": \"Gmaj\"\\n      },\\n      {\\n        \"start\": 139.95,\\n        \"end\": 150.05,\\n        \"label\": \"Amaj\"\\n      },\\n      {\\n        \"start\": 150.05,\\n        \"end\": 160.35000000000002,\\n        \"label\": \"Emaj\"\\n      },\\n      {\\n        \"start\": 160.35000000000002,\\n        \"end\": 163.75,\\n        \"label\": \"Cmaj\"\\n      },\\n      {\\n        \"start\": 163.75,\\n        \"end\": 165.45,\\n        \"label\": \"Bmin7\"\\n      },\\n      {\\n        \"start\": 165.45,\\n        \"end\": 168.75,\\n        \"label\": \"Cmaj\"\\n      },\\n      {\\n        \"start\": 168.75,\\n        \"end\": 177.95,\\n        \"label\": \"Dmaj\"\\n      },\\n      {\\n        \"start\": 177.95,\\n        \"end\": 184.05,\\n        \"label\": \"Gmaj\"\\n      },\\n      {\\n        \"start\": 184.05,\\n        \"end\": 186.15000000000003,\\n        \"label\": \"Bmin\"\\n      },\\n      {\\n        \"start\": 186.15000000000003,\\n        \"end\": 187.55,\\n        \"label\": \"Cmaj\"\\n      },\\n      {\\n        \"start\": 187.55,\\n        \"end\": 191.55,\\n        \"label\": \"Gmaj\"\\n      },\\n      {\\n        \"start\": 191.55,\\n        \"end\": 193.75,\\n        \"label\": \"Dmin7\"\\n      },\\n      {\\n        \"start\": 193.75,\\n        \"end\": 196.25,\\n        \"label\": \"Bmin\"\\n      },\\n      {\\n        \"start\": 196.25,\\n        \"end\": 197.55,\\n        \"label\": \"Cmaj\"\\n      },\\n      {\\n        \"start\": 197.55,\\n        \"end\": 204.05,\\n        \"label\": \"Gmaj\"\\n      },\\n      {\\n        \"start\": 204.05,\\n        \"end\": 206.15000000000003,\\n        \"label\": \"Bmin\"\\n      },\\n      {\\n        \"start\": 206.15000000000003,\\n        \"end\": 207.55,\\n        \"label\": \"Cmaj\"\\n      },\\n      {\\n        \"start\": 207.55,\\n        \"end\": 211.55,\\n        \"label\": \"Gmaj\"\\n      },\\n      {\\n        \"start\": 211.55,\\n        \"end\": 213.45,\\n        \"label\": \"Dmin7\"\\n      },\\n      {\\n        \"start\": 213.45,\\n        \"end\": 216.15000000000003,\\n        \"label\": \"Gmaj7\"\\n      },\\n      {\\n        \"start\": 216.15000000000003,\\n        \"end\": 217.45,\\n        \"label\": \"Cmaj\"\\n      },\\n      {\\n        \"start\": 217.45,\\n        \"end\": 230,\\n        \"label\": \"Gmaj\"\\n      }\\n    ],\\n    \"_id\": \"deezer:67354199\"\\n  },\\n  \"arousal\": \"\",\\n  \"arousal_predicted\": \"0.20962961\",\\n  \"album_genre\": \"Alternative Rock\",\\n  \"has_emotion_tags\": \"False\",\\n  \"has_social_tags\": \"False\",\\n  \"lastfm_id\": \"\",\\n  \"valence\": \"\",\\n  \"valence_predicted\": \"-0.016932294\"\n",
       "4                                                                                                                                                                                                                                                                                                                                                                                                                                                                                                                                                                                                                                                                                                                                                                                                                                                                                                                                                                                                                                                                                                                                                                                                                                                                                                                                                                                                                                                                                                                                                                                                                                                                                                                                                                                                                                                                                                                                                                                                                                                                                                                                                                                                                                                                                                                                                                                                                                                                                                                                                                                                                                                                                                                                                                                                                                                                                                                                                                                                                                                                                                                                                                                                                                                                                                                                                                                                                                                                                                                                                                                                                                                                                                                                                                                                                                                                                                                                                                                                                                                                                                                                                                                                                                                                                                                                                                                                                                                                                                                                                                                                                                                                                                                                                                                                                                                                                                                                                                                                                                                                                                                                                                                                                                                                                                                                                                                                     \"_id\": {\\n    \"$oid\": \"5714dec325ac0d8aee3804eb\"\\n  },\\n  \"name\": \"A\",\\n  \"position\": 4,\\n  \"lengthAlbum\": \"57:52\",\\n  \"urlSong\": \"http://lyrics.wikia.com/A:Bad_Idea\",\\n  \"lyrics\": \"Bad idea (x4) <br><br>Ninety-nine per cent is great,<br>The other one percent I hate,<br>Little things keep bugging in my head <br><br>Wake up calls, smack and that, fashion cafe, friendly fire<br>GMTV, darker mornings and pay per view, litter dropping <br><br>I made a list, I got the lot and all<br>That stuff is all on top It&apos;s not fair but I don&apos;t care not me <br><br>Rocky Five, Indie shite, KKK, number crunching<br>bungee jumping, paying taxes, pavement cracks<br>car alarms, dinosaurs and protest songs are- <br><br>Bad idea (x4) <br><br>Give me a B-A-D-I<br>Give me a D-E-A...<br>BAD IDEA!\",\\n  \"urlWikipedia\": \"\",\\n  \"id_album\": {\\n    \"$oid\": \"5714debb25ac0d8aee34d59a\"\\n  },\\n  \"isClassic\": false,\\n  \"urlAllmusic\": \"http://www.allmusic.com/song/mt0031820543\",\\n  \"urlMusicBrainz\": \"http://musicbrainz.org/recording/53ae7abb-e5c8-4097-8c42-3182e215ae82\",\\n  \"title\": \"Bad Idea\",\\n  \"publicationDateAlbum\": \"1997\",\\n  \"albumTitle\": \"How Ace Are Buildings\",\\n  \"deezer_mapping\": [\\n    [\\n      67354200,\\n      \"search-exact\"\\n    ]\\n  ],\\n  \"id_song_deezer\": \"67354200\",\\n  \"isrc\": \"GBAAP9700012\",\\n  \"length\": \"141\",\\n  \"explicitLyrics\": true,\\n  \"rank\": 273805,\\n  \"bpm\": \"101\",\\n  \"gain\": \"-9.9\",\\n  \"preview\": \"http://e-cdn-preview-7.deezer.com/stream/7cc55373b7e21a16d660f3e7459d30ba-1.mp3\",\\n  \"availableCountries\": [\\n    \"AD\",\\n    \"AE\",\\n    \"AG\",\\n    \"AI\",\\n    \"AL\",\\n    \"AM\",\\n    \"AO\",\\n    \"AR\",\\n    \"AT\",\\n    \"AU\",\\n    \"AW\",\\n    \"AX\",\\n    \"AZ\",\\n    \"BA\",\\n    \"BB\",\\n    \"BD\",\\n    \"BE\",\\n    \"BF\",\\n    \"BG\",\\n    \"BH\",\\n    \"BI\",\\n    \"BJ\",\\n    \"BM\",\\n    \"BN\",\\n    \"BO\",\\n    \"BR\",\\n    \"BS\",\\n    \"BV\",\\n    \"BW\",\\n    \"BY\",\\n    \"BZ\",\\n    \"CD\",\\n    \"CF\",\\n    \"CG\",\\n    \"CH\",\\n    \"CI\",\\n    \"CL\",\\n    \"CM\",\\n    \"CN\",\\n    \"CO\",\\n    \"CR\",\\n    \"CV\",\\n    \"CY\",\\n    \"CZ\",\\n    \"DE\",\\n    \"DJ\",\\n    \"DK\",\\n    \"DM\",\\n    \"DO\",\\n    \"DZ\",\\n    \"EC\",\\n    \"EE\",\\n    \"EG\",\\n    \"EH\",\\n    \"ER\",\\n    \"ES\",\\n    \"ET\",\\n    \"FI\",\\n    \"FJ\",\\n    \"FK\",\\n    \"FM\",\\n    \"FO\",\\n    \"FR\",\\n    \"GA\",\\n    \"GB\",\\n    \"GD\",\\n    \"GE\",\\n    \"GF\",\\n    \"GG\",\\n    \"GH\",\\n    \"GI\",\\n    \"GL\",\\n    \"GM\",\\n    \"GN\",\\n    \"GP\",\\n    \"GQ\",\\n    \"GR\",\\n    \"GS\",\\n    \"GT\",\\n    \"GW\",\\n    \"HK\",\\n    \"HN\",\\n    \"HR\",\\n    \"HT\",\\n    \"HU\",\\n    \"ID\",\\n    \"IE\",\\n    \"IL\",\\n    \"IM\",\\n    \"IN\",\\n    \"IO\",\\n    \"IQ\",\\n    \"IS\",\\n    \"IT\",\\n    \"JE\",\\n    \"JM\",\\n    \"JO\",\\n    \"KE\",\\n    \"KG\",\\n    \"KH\",\\n    \"KM\",\\n    \"KN\",\\n    \"KR\",\\n    \"KW\",\\n    \"KY\",\\n    \"KZ\",\\n    \"LA\",\\n    \"LB\",\\n    \"LC\",\\n    \"LI\",\\n    \"LK\",\\n    \"LR\",\\n    \"LS\",\\n    \"LT\",\\n    \"LU\",\\n    \"LV\",\\n    \"LY\",\\n    \"MA\",\\n    \"MC\",\\n    \"MD\",\\n    \"ME\",\\n    \"MG\",\\n    \"MK\",\\n    \"ML\",\\n    \"MM\",\\n    \"MN\",\\n    \"MO\",\\n    \"MQ\",\\n    \"MR\",\\n    \"MS\",\\n    \"MT\",\\n    \"MU\",\\n    \"MW\",\\n    \"MY\",\\n    \"MZ\",\\n    \"NA\",\\n    \"NC\",\\n    \"NE\",\\n    \"NG\",\\n    \"NI\",\\n    \"NL\",\\n    \"NO\",\\n    \"NP\",\\n    \"NZ\",\\n    \"OM\",\\n    \"PA\",\\n    \"PE\",\\n    \"PF\",\\n    \"PG\",\\n    \"PH\",\\n    \"PK\",\\n    \"PL\",\\n    \"PM\",\\n    \"PN\",\\n    \"PR\",\\n    \"PT\",\\n    \"PY\",\\n    \"QA\",\\n    \"RE\",\\n    \"RO\",\\n    \"RS\",\\n    \"RU\",\\n    \"RW\",\\n    \"SA\",\\n    \"SC\",\\n    \"SD\",\\n    \"SE\",\\n    \"SG\",\\n    \"SH\",\\n    \"SI\",\\n    \"SJ\",\\n    \"SK\",\\n    \"SL\",\\n    \"SM\",\\n    \"SN\",\\n    \"SO\",\\n    \"ST\",\\n    \"SV\",\\n    \"SY\",\\n    \"SZ\",\\n    \"TC\",\\n    \"TD\",\\n    \"TF\",\\n    \"TG\",\\n    \"TH\",\\n    \"TJ\",\\n    \"TL\",\\n    \"TM\",\\n    \"TN\",\\n    \"TR\",\\n    \"TT\",\\n    \"TW\",\\n    \"TZ\",\\n    \"UA\",\\n    \"UG\",\\n    \"UY\",\\n    \"UZ\",\\n    \"VA\",\\n    \"VC\",\\n    \"VE\",\\n    \"VG\",\\n    \"VN\",\\n    \"WF\",\\n    \"YE\",\\n    \"YT\",\\n    \"ZA\",\\n    \"ZM\",\\n    \"ZW\"\\n  ],\\n  \"publicationDate\": \"1998-06-22\",\\n  \"rdf\": \"\",\\n  \"urlPandora\": \"\",\\n  \"urlITunes\": \"\",\\n  \"urlSpotify\": \"\",\\n  \"urlYouTube\": \"\",\\n  \"urlAmazon\": \"\",\\n  \"urlHypeMachine\": \"\",\\n  \"urlGoEar\": \"\",\\n  \"urlLastFm\": \"\",\\n  \"multitrack_path\": \"\",\\n  \"multitrack_file\": \"\",\\n  \"id_song_musicbrainz\": \"53ae7abb-e5c8-4097-8c42-3182e215ae82\",\\n  \"disambiguation\": \"\",\\n  \"language\": \"\",\\n  \"begin\": \"\",\\n  \"end\": \"\",\\n  \"id_artist_deezer\": \"3412\",\\n  \"id_album_deezer\": \"6585846\",\\n  \"urlDeezer\": \"http://www.deezer.com/track/67354200\",\\n  \"language_detect\": \"english\",\\n  \"title_accent_fold\": \"Bad Idea\",\\n  \"animux_paths\": [],\\n  \"chords_metadata\": {\\n    \"confidence\": 0.7873848334514528,\\n    \"duration\": 141.01004535147393,\\n    \"chordSequence\": [\\n      {\\n        \"start\": 0,\\n        \"end\": 1.7500000000000002,\\n        \"label\": \"Amaj7\"\\n      },\\n      {\\n        \"start\": 1.7500000000000002,\\n        \"end\": 4.550000000000001,\\n        \"label\": \"Bmin7\"\\n      },\\n      {\\n        \"start\": 4.550000000000001,\\n        \"end\": 6.45,\\n        \"label\": \"Emaj\"\\n      },\\n      {\\n        \"start\": 6.45,\\n        \"end\": 7.050000000000001,\\n        \"label\": \"Gmaj7\"\\n      },\\n      {\\n        \"start\": 7.050000000000001,\\n        \"end\": 7.65,\\n        \"label\": \"Amaj\"\\n      },\\n      {\\n        \"start\": 7.65,\\n        \"end\": 8.850000000000001,\\n        \"label\": \"Emaj\"\\n      },\\n      {\\n        \"start\": 8.850000000000001,\\n        \"end\": 9.45,\\n        \"label\": \"Emin7\"\\n      },\\n      {\\n        \"start\": 9.45,\\n        \"end\": 10.05,\\n        \"label\": \"Amaj\"\\n      },\\n      {\\n        \"start\": 10.05,\\n        \"end\": 10.850000000000001,\\n        \"label\": \"Emaj\"\\n      },\\n      {\\n        \"start\": 10.850000000000001,\\n        \"end\": 11.650000000000002,\\n        \"label\": \"Bmaj\"\\n      },\\n      {\\n        \"start\": 11.650000000000002,\\n        \"end\": 12.350000000000001,\\n        \"label\": \"Amaj\"\\n      },\\n      {\\n        \"start\": 12.350000000000001,\\n        \"end\": 20.150000000000002,\\n        \"label\": \"Emaj\"\\n      },\\n      {\\n        \"start\": 20.150000000000002,\\n        \"end\": 20.950000000000003,\\n        \"label\": \"Bmaj\"\\n      },\\n      {\\n        \"start\": 20.950000000000003,\\n        \"end\": 21.55,\\n        \"label\": \"Amaj\"\\n      },\\n      {\\n        \"start\": 21.55,\\n        \"end\": 22.450000000000003,\\n        \"label\": \"Emaj\"\\n      },\\n      {\\n        \"start\": 22.450000000000003,\\n        \"end\": 23.250000000000004,\\n        \"label\": \"Bmaj\"\\n      },\\n      {\\n        \"start\": 23.250000000000004,\\n        \"end\": 23.750000000000004,\\n        \"label\": \"Amaj\"\\n      },\\n      {\\n        \"start\": 23.750000000000004,\\n        \"end\": 26.450000000000003,\\n        \"label\": \"Emaj\"\\n      },\\n      {\\n        \"start\": 26.450000000000003,\\n        \"end\": 28.650000000000002,\\n        \"label\": \"Bmaj\"\\n      },\\n      {\\n        \"start\": 28.650000000000002,\\n        \"end\": 31.150000000000002,\\n        \"label\": \"Amaj\"\\n      },\\n      {\\n        \"start\": 31.150000000000002,\\n        \"end\": 35.949999999999996,\\n        \"label\": \"Emaj\"\\n      },\\n      {\\n        \"start\": 35.949999999999996,\\n        \"end\": 37.449999999999996,\\n        \"label\": \"Bmaj\"\\n      },\\n      {\\n        \"start\": 37.449999999999996,\\n        \"end\": 38.25,\\n        \"label\": \"Emaj7\"\\n      },\\n      {\\n        \"start\": 38.25,\\n        \"end\": 40.65,\\n        \"label\": \"Amaj\"\\n      },\\n      {\\n        \"start\": 40.65,\\n        \"end\": 43.05,\\n        \"label\": \"Emaj\"\\n      },\\n      {\\n        \"start\": 43.05,\\n        \"end\": 50.65,\\n        \"label\": \"Gbmaj\"\\n      },\\n      {\\n        \"start\": 50.65,\\n        \"end\": 52.25,\\n        \"label\": \"Emaj7\"\\n      },\\n      {\\n        \"start\": 52.25,\\n        \"end\": 54.75,\\n        \"label\": \"Emaj\"\\n      },\\n      {\\n        \"start\": 54.75,\\n        \"end\": 57.05,\\n        \"label\": \"Bmaj\"\\n      },\\n      {\\n        \"start\": 57.05,\\n        \"end\": 59.35,\\n        \"label\": \"Amaj\"\\n      },\\n      {\\n        \"start\": 59.35,\\n        \"end\": 64.25000000000001,\\n        \"label\": \"Emaj\"\\n      },\\n      {\\n        \"start\": 64.25000000000001,\\n        \"end\": 66.45,\\n        \"label\": \"Bmaj\"\\n      },\\n      {\\n        \"start\": 66.45,\\n        \"end\": 68.75000000000001,\\n        \"label\": \"Amaj\"\\n      },\\n      {\\n        \"start\": 68.75000000000001,\\n        \"end\": 71.15000000000002,\\n        \"label\": \"Emaj\"\\n      },\\n      {\\n        \"start\": 71.15000000000002,\\n        \"end\": 78.85000000000001,\\n        \"label\": \"Gmaj\"\\n      },\\n      {\\n        \"start\": 78.85000000000001,\\n        \"end\": 80.55000000000001,\\n        \"label\": \"Abmin7\"\\n      },\\n      {\\n        \"start\": 80.55000000000001,\\n        \"end\": 83.15000000000002,\\n        \"label\": \"Emaj\"\\n      },\\n      {\\n        \"start\": 83.15000000000002,\\n        \"end\": 85.55000000000001,\\n        \"label\": \"Bmaj\"\\n      },\\n      {\\n        \"start\": 85.55000000000001,\\n        \"end\": 87.75000000000001,\\n        \"label\": \"Amaj\"\\n      },\\n      {\\n        \"start\": 87.75000000000001,\\n        \"end\": 92.55000000000001,\\n        \"label\": \"Emaj\"\\n      },\\n      {\\n        \"start\": 92.55000000000001,\\n        \"end\": 94.85000000000001,\\n        \"label\": \"Bmaj\"\\n      },\\n      {\\n        \"start\": 94.85000000000001,\\n        \"end\": 97.35000000000001,\\n        \"label\": \"Amaj\"\\n      },\\n      {\\n        \"start\": 97.35000000000001,\\n        \"end\": 102.15000000000002,\\n        \"label\": \"Emaj\"\\n      },\\n      {\\n        \"start\": 102.15000000000002,\\n        \"end\": 104.55000000000001,\\n        \"label\": \"Bmaj\"\\n      },\\n      {\\n        \"start\": 104.55000000000001,\\n        \"end\": 106.95,\\n        \"label\": \"Amaj\"\\n      },\\n      {\\n        \"start\": 106.95,\\n        \"end\": 111.75000000000001,\\n        \"label\": \"Emaj\"\\n      },\\n      {\\n        \"start\": 111.75000000000001,\\n        \"end\": 114.25000000000001,\\n        \"label\": \"Bmaj\"\\n      },\\n      {\\n        \"start\": 114.25000000000001,\\n        \"end\": 116.45,\\n        \"label\": \"Amaj\"\\n      },\\n      {\\n        \"start\": 116.45,\\n        \"end\": 122.35000000000001,\\n        \"label\": \"Emaj\"\\n      },\\n      {\\n        \"start\": 122.35000000000001,\\n        \"end\": 122.95,\\n        \"label\": \"Gmaj\"\\n      },\\n      {\\n        \"start\": 122.95,\\n        \"end\": 123.55000000000001,\\n        \"label\": \"A7\"\\n      },\\n      {\\n        \"start\": 123.55000000000001,\\n        \"end\": 124.15000000000002,\\n        \"label\": \"Emaj\"\\n      },\\n      {\\n        \"start\": 124.15000000000002,\\n        \"end\": 125.25000000000001,\\n        \"label\": \"Bmaj\"\\n      },\\n      {\\n        \"start\": 125.25000000000001,\\n        \"end\": 125.85000000000001,\\n        \"label\": \"A7\"\\n      },\\n      {\\n        \"start\": 125.85000000000001,\\n        \"end\": 128.85000000000002,\\n        \"label\": \"Emaj\"\\n      },\\n      {\\n        \"start\": 128.85000000000002,\\n        \"end\": 129.75,\\n        \"label\": \"Bmaj\"\\n      },\\n      {\\n        \"start\": 129.75,\\n        \"end\": 130.35000000000002,\\n        \"label\": \"Amaj\"\\n      },\\n      {\\n        \"start\": 130.35000000000002,\\n        \"end\": 134.45,\\n        \"label\": \"Emaj7\"\\n      },\\n      {\\n        \"start\": 134.45,\\n        \"end\": 135.25,\\n        \"label\": \"Amaj\"\\n      },\\n      {\\n        \"start\": 135.25,\\n        \"end\": 136.75,\\n        \"label\": \"Emaj7\"\\n      },\\n      {\\n        \"start\": 136.75,\\n        \"end\": 137.65,\\n        \"label\": \"Amaj\"\\n      },\\n      {\\n        \"start\": 137.65,\\n        \"end\": 141,\\n        \"label\": \"Bmin7\"\\n      }\\n    ],\\n    \"_id\": \"deezer:67354200\"\\n  },\\n  \"arousal\": \"\",\\n  \"arousal_predicted\": \"0.40359053\",\\n  \"album_genre\": \"Alternative Rock\",\\n  \"has_emotion_tags\": \"False\",\\n  \"has_social_tags\": \"False\",\\n  \"lastfm_id\": \"\",\\n  \"valence\": \"\",\\n  \"valence_predicted\": \"0.33913383\""
      ]
     },
     "execution_count": 8,
     "metadata": {},
     "output_type": "execute_result"
    }
   ],
   "source": [
    "# now we have one JSON per line\n",
    "\n",
    "song_lines.head()"
   ]
  },
  {
   "cell_type": "code",
   "execution_count": 9,
   "metadata": {
    "collapsed": false,
    "jupyter": {
     "outputs_hidden": false
    }
   },
   "outputs": [
    {
     "name": "stderr",
     "output_type": "stream",
     "text": [
      "                                                                                \r"
     ]
    },
    {
     "data": {
      "text/plain": [
       "value    2079510\n",
       "dtype: int64"
      ]
     },
     "execution_count": 9,
     "metadata": {},
     "output_type": "execute_result"
    }
   ],
   "source": [
    "# and around 2.1M songs in total\n",
    "\n",
    "song_lines.count()"
   ]
  },
  {
   "cell_type": "code",
   "execution_count": 10,
   "metadata": {},
   "outputs": [
    {
     "data": {
      "text/plain": [
       "pyspark.pandas.frame.DataFrame"
      ]
     },
     "execution_count": 10,
     "metadata": {},
     "output_type": "execute_result"
    }
   ],
   "source": [
    "# notice that ``song_lines`` is a real ``pandas.DataFrame``\n",
    "\n",
    "type(song_lines)"
   ]
  },
  {
   "cell_type": "code",
   "execution_count": 11,
   "metadata": {},
   "outputs": [
    {
     "name": "stdout",
     "output_type": "stream",
     "text": [
      "DataFrame[value: string]\n"
     ]
    },
    {
     "data": {
      "text/plain": [
       "pyspark.sql.dataframe.DataFrame"
      ]
     },
     "execution_count": 11,
     "metadata": {},
     "output_type": "execute_result"
    }
   ],
   "source": [
    "# it's only a wrapper around a Spark DataFrame\n",
    "\n",
    "print(song_lines.spark.frame())\n",
    "type(song_lines.spark.frame())"
   ]
  },
  {
   "cell_type": "code",
   "execution_count": 12,
   "metadata": {},
   "outputs": [
    {
     "name": "stdout",
     "output_type": "stream",
     "text": [
      "MapPartitionsRDD[22] at javaToPython at NativeMethodAccessorImpl.java:0\n"
     ]
    },
    {
     "data": {
      "text/plain": [
       "pyspark.rdd.RDD"
      ]
     },
     "execution_count": 12,
     "metadata": {},
     "output_type": "execute_result"
    }
   ],
   "source": [
    "# which in turn is a wrapper around something called RDD\n",
    "# (Resilient Distributed Dataset)\n",
    "\n",
    "print(song_lines.spark.frame().rdd)\n",
    "type(song_lines.spark.frame().rdd)"
   ]
  },
  {
   "cell_type": "code",
   "execution_count": 13,
   "metadata": {},
   "outputs": [
    {
     "data": {
      "text/plain": [
       "97"
      ]
     },
     "execution_count": 13,
     "metadata": {},
     "output_type": "execute_result"
    }
   ],
   "source": [
    "# RDD is distributed\n",
    "# here it was spread over several partitions of roughly the same size\n",
    "\n",
    "song_lines.spark.frame().rdd.getNumPartitions()"
   ]
  },
  {
   "cell_type": "code",
   "execution_count": 14,
   "metadata": {},
   "outputs": [
    {
     "name": "stdout",
     "output_type": "stream",
     "text": [
      "== Physical Plan ==\n",
      "*(1) Project [monotonically_increasing_id() AS __index_level_0__#2L, value#0]\n",
      "+- FileScan text [value#0] Batched: false, DataFilters: [], Format: Text, Location: InMemoryFileIndex(1 paths)[file:/home/boris/data/wasabi/json/song.json], PartitionFilters: [], PushedFilters: [], ReadSchema: struct<value:string>\n",
      "\n",
      "\n"
     ]
    }
   ],
   "source": [
    "# RDD is resilient which means it's not data\n",
    "# it's only a sequence of instructions, so-called lineage\n",
    "\n",
    "song_lines.spark.explain()"
   ]
  },
  {
   "cell_type": "code",
   "execution_count": 15,
   "metadata": {},
   "outputs": [
    {
     "name": "stdout",
     "output_type": "stream",
     "text": [
      "<class 'pandas.core.frame.DataFrame'>\n"
     ]
    },
    {
     "data": {
      "text/html": [
       "<div>\n",
       "<style scoped>\n",
       "    .dataframe tbody tr th:only-of-type {\n",
       "        vertical-align: middle;\n",
       "    }\n",
       "\n",
       "    .dataframe tbody tr th {\n",
       "        vertical-align: top;\n",
       "    }\n",
       "\n",
       "    .dataframe thead th {\n",
       "        text-align: right;\n",
       "    }\n",
       "</style>\n",
       "<table border=\"1\" class=\"dataframe\">\n",
       "  <thead>\n",
       "    <tr style=\"text-align: right;\">\n",
       "      <th></th>\n",
       "      <th>value</th>\n",
       "    </tr>\n",
       "  </thead>\n",
       "  <tbody>\n",
       "    <tr>\n",
       "      <th>0</th>\n",
       "      <td>[{\\n  \"_id\": {\\n    \"$oid\": \"5714dec325ac0d8ae...</td>\n",
       "    </tr>\n",
       "    <tr>\n",
       "      <th>1</th>\n",
       "      <td>\"_id\": {\\n    \"$oid\": \"5714dec325ac0d8aee380...</td>\n",
       "    </tr>\n",
       "    <tr>\n",
       "      <th>2</th>\n",
       "      <td>\"_id\": {\\n    \"$oid\": \"5714dec325ac0d8aee380...</td>\n",
       "    </tr>\n",
       "    <tr>\n",
       "      <th>3</th>\n",
       "      <td>\"_id\": {\\n    \"$oid\": \"5714dec325ac0d8aee380...</td>\n",
       "    </tr>\n",
       "    <tr>\n",
       "      <th>4</th>\n",
       "      <td>\"_id\": {\\n    \"$oid\": \"5714dec325ac0d8aee380...</td>\n",
       "    </tr>\n",
       "  </tbody>\n",
       "</table>\n",
       "</div>"
      ],
      "text/plain": [
       "                                               value\n",
       "0  [{\\n  \"_id\": {\\n    \"$oid\": \"5714dec325ac0d8ae...\n",
       "1    \"_id\": {\\n    \"$oid\": \"5714dec325ac0d8aee380...\n",
       "2    \"_id\": {\\n    \"$oid\": \"5714dec325ac0d8aee380...\n",
       "3    \"_id\": {\\n    \"$oid\": \"5714dec325ac0d8aee380...\n",
       "4    \"_id\": {\\n    \"$oid\": \"5714dec325ac0d8aee380..."
      ]
     },
     "execution_count": 15,
     "metadata": {},
     "output_type": "execute_result"
    }
   ],
   "source": [
    "# ``to_pandas`` method collects the data from all workers to driver\n",
    "# usually that will kill the driver by OOM (out-of-memory error)\n",
    "# but if we take only the head, that's OK\n",
    "\n",
    "pandas_df = song_lines.head().to_pandas()\n",
    "print(type(pandas_df))\n",
    "pandas_df"
   ]
  },
  {
   "cell_type": "code",
   "execution_count": 16,
   "metadata": {},
   "outputs": [],
   "source": [
    "def to_a_valid_json(\n",
    "    pandas_df: pd.DataFrame[\"value\": str]\n",
    ") -> pd.DataFrame[\"value\": str]:\n",
    "    \"\"\"\n",
    "    :param pandas_df: a ``pandas.DataFrame`` with only one string column\n",
    "    :return: the same dataframe, but where all lines are valid JSON strings\n",
    "    \"\"\"\n",
    "    pandas_df[\"value\"] = pandas_df[\"value\"].str.replace(\"[{\\n\", \" \", regex=False)\n",
    "    pandas_df[\"value\"] = pandas_df[\"value\"].str.replace(\"}]\", \" \", regex=False)\n",
    "    pandas_df[\"value\"] = pandas_df[\"value\"].str.replace(\"\\n\", \" \", regex=False)\n",
    "    pandas_df[\"value\"] = \"{\" + pandas_df[\"value\"] + \"}\"\n",
    "    return pandas_df"
   ]
  },
  {
   "cell_type": "code",
   "execution_count": 17,
   "metadata": {},
   "outputs": [],
   "source": [
    "# let's test that our function works on a real Pandas DataFrames well\n",
    "import json\n",
    "import pandas\n",
    "\n",
    "pandas_df = (song_lines.head().to_pandas().append(song_lines.tail().to_pandas()))\n",
    "transformed_df = to_a_valid_json(pandas_df)\n",
    "assert isinstance(transformed_df, pandas.DataFrame)\n",
    "for _, row in transformed_df.iterrows():\n",
    "    json.loads(row.value)"
   ]
  },
  {
   "cell_type": "code",
   "execution_count": 18,
   "metadata": {
    "collapsed": false,
    "jupyter": {
     "outputs_hidden": false
    }
   },
   "outputs": [
    {
     "name": "stderr",
     "output_type": "stream",
     "text": [
      "                                                                                \r"
     ]
    },
    {
     "data": {
      "text/html": [
       "<div>\n",
       "<style scoped>\n",
       "    .dataframe tbody tr th:only-of-type {\n",
       "        vertical-align: middle;\n",
       "    }\n",
       "\n",
       "    .dataframe tbody tr th {\n",
       "        vertical-align: top;\n",
       "    }\n",
       "\n",
       "    .dataframe thead th {\n",
       "        text-align: right;\n",
       "    }\n",
       "</style>\n",
       "<table border=\"1\" class=\"dataframe\">\n",
       "  <thead>\n",
       "    <tr style=\"text-align: right;\">\n",
       "      <th></th>\n",
       "      <th>value</th>\n",
       "    </tr>\n",
       "  </thead>\n",
       "  <tbody>\n",
       "    <tr>\n",
       "      <th>0</th>\n",
       "      <td>{   \"_id\": {     \"$oid\": \"5714dec325ac0d8aee38...</td>\n",
       "    </tr>\n",
       "    <tr>\n",
       "      <th>1</th>\n",
       "      <td>{  \"_id\": {     \"$oid\": \"5714dec325ac0d8aee380...</td>\n",
       "    </tr>\n",
       "    <tr>\n",
       "      <th>2</th>\n",
       "      <td>{  \"_id\": {     \"$oid\": \"5714dec325ac0d8aee380...</td>\n",
       "    </tr>\n",
       "    <tr>\n",
       "      <th>3</th>\n",
       "      <td>{  \"_id\": {     \"$oid\": \"5714dec325ac0d8aee380...</td>\n",
       "    </tr>\n",
       "    <tr>\n",
       "      <th>4</th>\n",
       "      <td>{  \"_id\": {     \"$oid\": \"5714dec325ac0d8aee380...</td>\n",
       "    </tr>\n",
       "  </tbody>\n",
       "</table>\n",
       "</div>"
      ],
      "text/plain": [
       "                                                                                                                                                                                                                                                                                                                                                                                                                                                                                                                                                                                                                                                                                                                                                                                                                                                                                                                                                                                                                                                                                                                                                                                                                                                                                                                                                                                                                                                                                                                                                                                                                                                                                                                                                                                                                                                                                                                                                                                                                                                                                                                                                                                                                                                                                                                                                                                                                                                                                                                                                                                                                                                                                                                                                                                                                                                                                                                                                                                                                                                                                                                                                                                                                                                                                                                                                                                                                                                                                                                                                                                                                                                                                                                                                                                                                                                                                                                                                                                                                                                                                                                                                                                                                                                                                                                                                                                                                                                                                                                                                                                                                                                                                                                                                                                                                                                                                                                                                                                                                                                                                                                                                                                                                                                                                                                                                                                                                                                                                                                                                                                                                                                                                                                                                                                                                                                                                                                                                                                                                                                                                                                                                                                                                                                                                                                                                                                                                                                                                                                                                                                                                                                                                                                                                                                                                                                                                                                                                                                                                                                                                                                                                                                                                                                                                                                                                                                                                                                                                                                                                                                                                                                                                                                                                                                                                                                                                                                                                                                                                                                                                                                                                                                                                                                                                                                                                                                                                                                                                                                                                                                                                                                                                                                                                                                                                                                                                                                                                                                                                                                                                                                                                                                                                                                                                                                                                                                                                                                                                                                                                                                                                                                                                                                                                                                                                                                                                                                                                                                                                                                                                                                                                                                                                                                                                                                                                                                                                                                                                                                                                                                                                                                                                                                                                                                                                                                                                                                                                                                                                                                                                                                                                                                                                                                                                                                                                                                                                                                                                                                                                                                                                                                                                                                                                                                                                                                                                                                                                                                                                                                                                                                                                                                                                                                                                                                                                                                                                                                                                                                                                                                                                                                                                                                                                                                                                                                                                                                                                                                                                                                                                                                                                                                                                                                                                                                                                                                                                                                                                                                                                                                                                                                                                                                                                                                                                                                                                                                                                                                                                                                                                                                                                                                                                                                                                                                                                                                                                                                                                                                                                                                                                                                                                                                                                                                                                                                                                                                                                                                                                                                                                                                                                                                                                                                                                                                                                                                                                                                                                                                                                                                                                                                                                                                                                                                                                                                                                                                                                                                                                                                                                                                                                                                                                                                                                                                                                                                                                                                                                                                                                                                value\n",
       "0                                                                                                                                                                                                                                                                                                                                                                                                                                                                                                                                                                                                                                                                                                                                                                                                                                                                                                                                                                                                                                                                                                                                                                                                                                                                                                                                                                                                                                                                                                                                                                                                                                                                                                                                                                                                                                                                                                                                                                                                                                                                                                                                                                                                                                                                                                                                                                                                                                                                                                                                                                                                                                                                                                                                                                                                                                                                                                                                                                                                                                                                                                                                                                                                                                                                                                                                                                                                                                                                                                                                                                                                                                                                                                                                                                                                                                                                                                                                                                                                                                                                                                                                                                                                                                                                                                                                                                                                                                                                                                                                                                                                                                                                                                                                                                                                                                                                                                                                                                                                                                                                                                                                                                                                                                                                                                                                                                                                                                                                                                                                                                                                                                                                                                                                                                                                                                                                                                                                                                                                                                                                                                                                                                                                                                                                                                                                                                                                                                                                                                                                                                                                                                                                                                                                                                                                                                                                                                                                                                                                                                                                                                                                                                                                                                                                                                                                                                                                                                                                                                                                                                                                                                                                                                                                                                                                                                                                                                                              {   \"_id\": {     \"$oid\": \"5714dec325ac0d8aee3804e7\"   },   \"position\": 0,   \"lengthAlbum\": \"57:52\",   \"urlSong\": \"http://lyrics.wikia.com/A:Turn_It_Up\",   \"lyrics\": \"Turn it up<br>I don&apos;t know where you&apos;re plugging in<br>Listen up<br>Yeah, we&apos;re all set to begin<br>Turn it up<br>Because we hope you like it loud<br>Tune it up<br>Any second now<br>Making like<br>Cheeky Monkey grins<br>And for tonight<br>I&apos;d love to let you in\",   \"urlWikipedia\": \"\",   \"id_album\": {     \"$oid\": \"5714debb25ac0d8aee34d59a\"   },   \"isClassic\": false,   \"urlAllmusic\": \"http://www.allmusic.com/song/mt0013320473\",   \"urlMusicBrainz\": \"http://musicbrainz.org/recording/3db608e4-eb72-437e-bc52-872f0a51434f\",   \"title\": \"Turn It Up\",   \"publicationDateAlbum\": \"1997\",   \"albumTitle\": \"How Ace Are Buildings\",   \"deezer_mapping\": [     [       67354194,       \"search-exact\"     ]   ],   \"id_song_deezer\": \"67354194\",   \"isrc\": \"GBAAP9700050\",   \"length\": \"93\",   \"explicitLyrics\": false,   \"rank\": 261631,   \"bpm\": \"77\",   \"gain\": \"-29.4\",   \"preview\": \"http://e-cdn-preview-8.deezer.com/stream/8e564ba9cde487278546b33c12ee1266-1.mp3\",   \"availableCountries\": [     \"AD\",     \"AE\",     \"AG\",     \"AI\",     \"AL\",     \"AM\",     \"AO\",     \"AR\",     \"AT\",     \"AU\",     \"AW\",     \"AX\",     \"AZ\",     \"BA\",     \"BB\",     \"BD\",     \"BE\",     \"BF\",     \"BG\",     \"BH\",     \"BI\",     \"BJ\",     \"BM\",     \"BN\",     \"BO\",     \"BR\",     \"BS\",     \"BV\",     \"BW\",     \"BY\",     \"BZ\",     \"CD\",     \"CF\",     \"CG\",     \"CH\",     \"CI\",     \"CL\",     \"CM\",     \"CN\",     \"CO\",     \"CR\",     \"CV\",     \"CY\",     \"CZ\",     \"DE\",     \"DJ\",     \"DK\",     \"DM\",     \"DO\",     \"DZ\",     \"EC\",     \"EE\",     \"EG\",     \"EH\",     \"ER\",     \"ES\",     \"ET\",     \"FI\",     \"FJ\",     \"FK\",     \"FM\",     \"FO\",     \"FR\",     \"GA\",     \"GB\",     \"GD\",     \"GE\",     \"GF\",     \"GG\",     \"GH\",     \"GI\",     \"GL\",     \"GM\",     \"GN\",     \"GP\",     \"GQ\",     \"GR\",     \"GS\",     \"GT\",     \"GW\",     \"HK\",     \"HN\",     \"HR\",     \"HT\",     \"HU\",     \"ID\",     \"IE\",     \"IL\",     \"IM\",     \"IN\",     \"IO\",     \"IQ\",     \"IS\",     \"IT\",     \"JE\",     \"JM\",     \"JO\",     \"KE\",     \"KG\",     \"KH\",     \"KM\",     \"KN\",     \"KR\",     \"KW\",     \"KY\",     \"KZ\",     \"LA\",     \"LB\",     \"LC\",     \"LI\",     \"LK\",     \"LR\",     \"LS\",     \"LT\",     \"LU\",     \"LV\",     \"LY\",     \"MA\",     \"MC\",     \"MD\",     \"ME\",     \"MG\",     \"MK\",     \"ML\",     \"MM\",     \"MN\",     \"MO\",     \"MQ\",     \"MR\",     \"MS\",     \"MT\",     \"MU\",     \"MW\",     \"MY\",     \"MZ\",     \"NA\",     \"NC\",     \"NE\",     \"NG\",     \"NI\",     \"NL\",     \"NO\",     \"NP\",     \"NZ\",     \"OM\",     \"PA\",     \"PE\",     \"PF\",     \"PG\",     \"PH\",     \"PK\",     \"PL\",     \"PM\",     \"PN\",     \"PR\",     \"PT\",     \"PY\",     \"QA\",     \"RE\",     \"RO\",     \"RS\",     \"RU\",     \"RW\",     \"SA\",     \"SC\",     \"SD\",     \"SE\",     \"SG\",     \"SH\",     \"SI\",     \"SJ\",     \"SK\",     \"SL\",     \"SM\",     \"SN\",     \"SO\",     \"ST\",     \"SV\",     \"SY\",     \"SZ\",     \"TC\",     \"TD\",     \"TF\",     \"TG\",     \"TH\",     \"TJ\",     \"TL\",     \"TM\",     \"TN\",     \"TR\",     \"TT\",     \"TW\",     \"TZ\",     \"UA\",     \"UG\",     \"UY\",     \"UZ\",     \"VA\",     \"VC\",     \"VE\",     \"VG\",     \"VN\",     \"WF\",     \"YE\",     \"YT\",     \"ZA\",     \"ZM\",     \"ZW\"   ],   \"publicationDate\": \"1998-06-22\",   \"rdf\": \"\",   \"urlPandora\": \"\",   \"urlITunes\": \"\",   \"urlSpotify\": \"\",   \"urlYouTube\": \"\",   \"urlAmazon\": \"\",   \"urlHypeMachine\": \"\",   \"urlGoEar\": \"\",   \"urlLastFm\": \"\",   \"multitrack_path\": \"\",   \"multitrack_file\": \"\",   \"id_song_musicbrainz\": \"3db608e4-eb72-437e-bc52-872f0a51434f\",   \"disambiguation\": \"\",   \"language\": \"\",   \"begin\": \"\",   \"end\": \"\",   \"id_artist_deezer\": \"3412\",   \"id_album_deezer\": \"6585846\",   \"urlDeezer\": \"http://www.deezer.com/track/67354194\",   \"language_detect\": \"english\",   \"name\": \"A\",   \"title_accent_fold\": \"Turn It Up\",   \"animux_paths\": [],   \"chords_metadata\": {     \"confidence\": 0.7465091299677766,     \"duration\": 93.02310657596372,     \"chordSequence\": [       {         \"start\": 0,         \"end\": 16.150000000000002,         \"label\": \"Amaj\"       },       {         \"start\": 16.150000000000002,         \"end\": 18.05,         \"label\": \"Dmaj\"       },       {         \"start\": 18.05,         \"end\": 19.150000000000002,         \"label\": \"Amaj\"       },       {         \"start\": 19.150000000000002,         \"end\": 21.150000000000002,         \"label\": \"Bmin7\"       },       {         \"start\": 21.150000000000002,         \"end\": 22.450000000000003,         \"label\": \"Amaj\"       },       {         \"start\": 22.450000000000003,         \"end\": 24.350000000000005,         \"label\": \"Dmaj\"       },       {         \"start\": 24.350000000000005,         \"end\": 25.350000000000005,         \"label\": \"Amaj\"       },       {         \"start\": 25.350000000000005,         \"end\": 27.350000000000005,         \"label\": \"Dmaj\"       },       {         \"start\": 27.350000000000005,         \"end\": 28.450000000000003,         \"label\": \"Amaj\"       },       {         \"start\": 28.450000000000003,         \"end\": 30.350000000000005,         \"label\": \"Dmaj\"       },       {         \"start\": 30.350000000000005,         \"end\": 31.450000000000003,         \"label\": \"Amaj\"       },       {         \"start\": 31.450000000000003,         \"end\": 33.449999999999996,         \"label\": \"Bmin7\"       },       {         \"start\": 33.449999999999996,         \"end\": 34.75,         \"label\": \"Amaj\"       },       {         \"start\": 34.75,         \"end\": 36.55,         \"label\": \"Dmaj\"       },       {         \"start\": 36.55,         \"end\": 37.65,         \"label\": \"Amaj\"       },       {         \"start\": 37.65,         \"end\": 39.65,         \"label\": \"Dmaj\"       },       {         \"start\": 39.65,         \"end\": 42.95,         \"label\": \"Amaj\"       },       {         \"start\": 42.95,         \"end\": 44.45,         \"label\": \"Dbmin7\"       },       {         \"start\": 44.45,         \"end\": 46.05,         \"label\": \"Gbmin\"       },       {         \"start\": 46.05,         \"end\": 48.95,         \"label\": \"Dmaj\"       },       {         \"start\": 48.95,         \"end\": 52.05,         \"label\": \"Cmaj\"       },       {         \"start\": 52.05,         \"end\": 55.35,         \"label\": \"Amaj\"       },       {         \"start\": 55.35,         \"end\": 56.75,         \"label\": \"Dbmin7\"       },       {         \"start\": 56.75,         \"end\": 58.15,         \"label\": \"Gbmin\"       },       {         \"start\": 58.15,         \"end\": 64.15000000000002,         \"label\": \"Fmaj\"       },       {         \"start\": 64.15000000000002,         \"end\": 65.65000000000002,         \"label\": \"Amaj\"       },       {         \"start\": 65.65000000000002,         \"end\": 67.25000000000001,         \"label\": \"Dmaj\"       },       {         \"start\": 67.25000000000001,         \"end\": 68.45,         \"label\": \"Amaj\"       },       {         \"start\": 68.45,         \"end\": 70.45,         \"label\": \"Bmin7\"       },       {         \"start\": 70.45,         \"end\": 71.55000000000001,         \"label\": \"Amaj\"       },       {         \"start\": 71.55000000000001,         \"end\": 73.45,         \"label\": \"Dmaj\"       },       {         \"start\": 73.45,         \"end\": 74.65000000000002,         \"label\": \"Amaj\"       },       {         \"start\": 74.65000000000002,         \"end\": 76.55000000000001,         \"label\": \"Dmaj\"       },       {         \"start\": 76.55000000000001,         \"end\": 77.75000000000001,         \"label\": \"Amaj\"       },       {         \"start\": 77.75000000000001,         \"end\": 79.65000000000002,         \"label\": \"Dmaj\"       },       {         \"start\": 79.65000000000002,         \"end\": 80.75000000000001,         \"label\": \"Amaj\"       },       {         \"start\": 80.75000000000001,         \"end\": 82.65000000000002,         \"label\": \"Bmin7\"       },       {         \"start\": 82.65000000000002,         \"end\": 83.85000000000001,         \"label\": \"Amaj\"       },       {         \"start\": 83.85000000000001,         \"end\": 86.15000000000002,         \"label\": \"Dmaj\"       },       {         \"start\": 86.15000000000002,         \"end\": 93,         \"label\": \"Amaj7\"       }     ],     \"_id\": \"deezer:67354194\"   },   \"arousal\": \"\",   \"arousal_predicted\": \"0.46977222\",   \"album_genre\": \"Alternative Rock\",   \"has_emotion_tags\": \"False\",   \"has_social_tags\": \"False\",   \"lastfm_id\": \"\",   \"valence\": \"\",   \"valence_predicted\": \"0.6578529000000001\"}\n",
       "1  {  \"_id\": {     \"$oid\": \"5714dec325ac0d8aee3804e8\"   },   \"name\": \"A\",   \"position\": 1,   \"lengthAlbum\": \"57:52\",   \"urlSong\": \"http://lyrics.wikia.com/A:Foghorn\",   \"lyrics\": \"Sick of you, how old do you think you are?<br>Never move, you think everything&apos;s too far<br>Telling you you&apos;re a fool but you don&apos;t wanna know<br>You think you do but let me tell you, you&apos;re not even close <br><br>I can&apos;t stay, you&apos;re in the way so<br>Listen when I&apos;m talking<br>(x4) <br><br>It&apos;s better than alright<br>I&apos;m out there every night<br>You said to me you might<br>But you won&apos;t <br><br>What kept you? I&apos;m not bothered any more<br>Complacent, got me headed for the door<br>Foot down, you&apos;re not allowed to look outside<br>You&apos;re frightened you&apos;ll find something that you like <br><br>I can&apos;t stay, you&apos;re in the way so<br>Listen when I&apos;m talking<br>(x4) <br><br>You tell me when I should<br>I don&apos;t drink in your pub<br>What makes you think I would,<br>Round your way? <br><br>I don&apos;t feel bad, I don&apos;t look back (x3) <br><br>Shame on you, you hate everything that&apos;s new<br>You look down your nose at everything I do<br>You catch on years later, you&apos;re not even slow<br>Can&apos;t stay, have a good day, now I&apos;ve gotta go<br>I can&apos;t stay, you&apos;re in the way so<br>Listen when I&apos;m talking<br>(Repeat) <br><br>It&apos;s better than alright<br>I&apos;m out there every night<br>You said to me you might<br>When I&apos;m talking <br><br>It&apos;s better than alright<br>I&apos;m out there every night<br>You said to me you might<br>When I won&apos;t<br>Won&apos;t<br>Won&apos;t\",   \"urlWikipedia\": \"\",   \"id_album\": {     \"$oid\": \"5714debb25ac0d8aee34d59a\"   },   \"isClassic\": false,   \"urlAllmusic\": \"http://www.allmusic.com/song/mt0013315202\",   \"urlMusicBrainz\": \"http://musicbrainz.org/recording/84feea0c-187f-40f1-bb29-4818da1f61b6\",   \"title\": \"Foghorn\",   \"publicationDateAlbum\": \"1997\",   \"albumTitle\": \"How Ace Are Buildings\",   \"deezer_mapping\": [     [       67354196,       \"search-exact\"     ]   ],   \"id_song_deezer\": \"67354196\",   \"isrc\": \"GBAAP9700051\",   \"length\": \"184\",   \"explicitLyrics\": false,   \"rank\": 297455,   \"bpm\": \"106\",   \"gain\": \"-10.6\",   \"preview\": \"http://e-cdn-preview-0.deezer.com/stream/08ac09c1046fa893512def06669dae09-1.mp3\",   \"availableCountries\": [     \"AD\",     \"AE\",     \"AG\",     \"AI\",     \"AL\",     \"AM\",     \"AO\",     \"AR\",     \"AT\",     \"AU\",     \"AW\",     \"AX\",     \"AZ\",     \"BA\",     \"BB\",     \"BD\",     \"BE\",     \"BF\",     \"BG\",     \"BH\",     \"BI\",     \"BJ\",     \"BM\",     \"BN\",     \"BO\",     \"BR\",     \"BS\",     \"BV\",     \"BW\",     \"BY\",     \"BZ\",     \"CD\",     \"CF\",     \"CG\",     \"CH\",     \"CI\",     \"CL\",     \"CM\",     \"CN\",     \"CO\",     \"CR\",     \"CV\",     \"CY\",     \"CZ\",     \"DE\",     \"DJ\",     \"DK\",     \"DM\",     \"DO\",     \"DZ\",     \"EC\",     \"EE\",     \"EG\",     \"EH\",     \"ER\",     \"ES\",     \"ET\",     \"FI\",     \"FJ\",     \"FK\",     \"FM\",     \"FO\",     \"FR\",     \"GA\",     \"GB\",     \"GD\",     \"GE\",     \"GF\",     \"GG\",     \"GH\",     \"GI\",     \"GL\",     \"GM\",     \"GN\",     \"GP\",     \"GQ\",     \"GR\",     \"GS\",     \"GT\",     \"GW\",     \"HK\",     \"HN\",     \"HR\",     \"HT\",     \"HU\",     \"ID\",     \"IE\",     \"IL\",     \"IM\",     \"IN\",     \"IO\",     \"IQ\",     \"IS\",     \"IT\",     \"JE\",     \"JM\",     \"JO\",     \"KE\",     \"KG\",     \"KH\",     \"KM\",     \"KN\",     \"KR\",     \"KW\",     \"KY\",     \"KZ\",     \"LA\",     \"LB\",     \"LC\",     \"LI\",     \"LK\",     \"LR\",     \"LS\",     \"LT\",     \"LU\",     \"LV\",     \"LY\",     \"MA\",     \"MC\",     \"MD\",     \"ME\",     \"MG\",     \"MK\",     \"ML\",     \"MM\",     \"MN\",     \"MO\",     \"MQ\",     \"MR\",     \"MS\",     \"MT\",     \"MU\",     \"MW\",     \"MY\",     \"MZ\",     \"NA\",     \"NC\",     \"NE\",     \"NG\",     \"NI\",     \"NL\",     \"NO\",     \"NP\",     \"NZ\",     \"OM\",     \"PA\",     \"PE\",     \"PF\",     \"PG\",     \"PH\",     \"PK\",     \"PL\",     \"PM\",     \"PN\",     \"PR\",     \"PT\",     \"PY\",     \"QA\",     \"RE\",     \"RO\",     \"RS\",     \"RU\",     \"RW\",     \"SA\",     \"SC\",     \"SD\",     \"SE\",     \"SG\",     \"SH\",     \"SI\",     \"SJ\",     \"SK\",     \"SL\",     \"SM\",     \"SN\",     \"SO\",     \"ST\",     \"SV\",     \"SY\",     \"SZ\",     \"TC\",     \"TD\",     \"TF\",     \"TG\",     \"TH\",     \"TJ\",     \"TL\",     \"TM\",     \"TN\",     \"TR\",     \"TT\",     \"TW\",     \"TZ\",     \"UA\",     \"UG\",     \"UY\",     \"UZ\",     \"VA\",     \"VC\",     \"VE\",     \"VG\",     \"VN\",     \"WF\",     \"YE\",     \"YT\",     \"ZA\",     \"ZM\",     \"ZW\"   ],   \"publicationDate\": \"1998-06-22\",   \"rdf\": \"\",   \"urlPandora\": \"\",   \"urlITunes\": \"\",   \"urlSpotify\": \"\",   \"urlYouTube\": \"\",   \"urlAmazon\": \"\",   \"urlHypeMachine\": \"\",   \"urlGoEar\": \"\",   \"urlLastFm\": \"\",   \"multitrack_path\": \"\",   \"multitrack_file\": \"\",   \"id_song_musicbrainz\": \"84feea0c-187f-40f1-bb29-4818da1f61b6\",   \"disambiguation\": \"\",   \"language\": \"\",   \"begin\": \"\",   \"end\": \"\",   \"id_artist_deezer\": \"3412\",   \"id_album_deezer\": \"6585846\",   \"urlDeezer\": \"http://www.deezer.com/track/67354196\",   \"language_detect\": \"english\",   \"title_accent_fold\": \"Foghorn\",   \"animux_paths\": [],   \"chords_metadata\": {     \"confidence\": 0.8071700162954916,     \"duration\": 184.00759637188207,     \"chordSequence\": [       {         \"start\": 0,         \"end\": 1.6500000000000001,         \"label\": \"E7\"       },       {         \"start\": 1.6500000000000001,         \"end\": 3.75,         \"label\": \"Bmaj7\"       },       {         \"start\": 3.75,         \"end\": 4.35,         \"label\": \"Db7\"       },       {         \"start\": 4.35,         \"end\": 6.8500000000000005,         \"label\": \"Gbmaj\"       },       {         \"start\": 6.8500000000000005,         \"end\": 8.350000000000001,         \"label\": \"Bmaj7\"       },       {         \"start\": 8.350000000000001,         \"end\": 8.850000000000001,         \"label\": \"Db7\"       },       {         \"start\": 8.850000000000001,         \"end\": 11.650000000000002,         \"label\": \"Gbmaj\"       },       {         \"start\": 11.650000000000002,         \"end\": 12.850000000000001,         \"label\": \"Amaj\"       },       {         \"start\": 12.850000000000001,         \"end\": 16.55,         \"label\": \"Emaj\"       },       {         \"start\": 16.55,         \"end\": 17.150000000000002,         \"label\": \"Amaj\"       },       {         \"start\": 17.150000000000002,         \"end\": 17.950000000000003,         \"label\": \"Bmaj\"       },       {         \"start\": 17.950000000000003,         \"end\": 18.950000000000003,         \"label\": \"Amaj\"       },       {         \"start\": 18.950000000000003,         \"end\": 20.250000000000004,         \"label\": \"Dmaj\"       },       {         \"start\": 20.250000000000004,         \"end\": 21.250000000000004,         \"label\": \"Amaj\"       },       {         \"start\": 21.250000000000004,         \"end\": 22.55,         \"label\": \"Dmaj\"       },       {         \"start\": 22.55,         \"end\": 23.55,         \"label\": \"Amaj\"       },       {         \"start\": 23.55,         \"end\": 24.750000000000004,         \"label\": \"Dmaj\"       },       {         \"start\": 24.750000000000004,         \"end\": 27.05,         \"label\": \"Cmaj\"       },       {         \"start\": 27.05,         \"end\": 28.05,         \"label\": \"Amaj\"       },       {         \"start\": 28.05,         \"end\": 29.350000000000005,         \"label\": \"Dmaj\"       },       {         \"start\": 29.350000000000005,         \"end\": 30.350000000000005,         \"label\": \"Amaj\"       },       {         \"start\": 30.350000000000005,         \"end\": 31.450000000000003,         \"label\": \"Dmaj\"       },       {         \"start\": 31.450000000000003,         \"end\": 32.55,         \"label\": \"Amaj\"       },       {         \"start\": 32.55,         \"end\": 34.05,         \"label\": \"Dmaj\"       },       {         \"start\": 34.05,         \"end\": 38.15,         \"label\": \"Gbmaj\"       },       {         \"start\": 38.15,         \"end\": 41.05,         \"label\": \"Bmaj7\"       },       {         \"start\": 41.05,         \"end\": 41.75,         \"label\": \"Dbmin7\"       },       {         \"start\": 41.75,         \"end\": 44.05,         \"label\": \"Gbmaj\"       },       {         \"start\": 44.05,         \"end\": 45.65,         \"label\": \"Bmaj\"       },       {         \"start\": 45.65,         \"end\": 46.35,         \"label\": \"Dbmin7\"       },       {         \"start\": 46.35,         \"end\": 48.95,         \"label\": \"Gbmaj\"       },       {         \"start\": 48.95,         \"end\": 50.25,         \"label\": \"Amaj\"       },       {         \"start\": 50.25,         \"end\": 50.95,         \"label\": \"Bmaj\"       },       {         \"start\": 50.95,         \"end\": 54.25,         \"label\": \"Emaj\"       },       {         \"start\": 54.25,         \"end\": 54.75,         \"label\": \"Amaj\"       },       {         \"start\": 54.75,         \"end\": 55.45,         \"label\": \"Bmaj\"       },       {         \"start\": 55.45,         \"end\": 56.45,         \"label\": \"Amaj\"       },       {         \"start\": 56.45,         \"end\": 57.75,         \"label\": \"Dmaj\"       },       {         \"start\": 57.75,         \"end\": 58.85,         \"label\": \"Amaj\"       },       {         \"start\": 58.85,         \"end\": 60.15,         \"label\": \"Dmaj\"       },       {         \"start\": 60.15,         \"end\": 61.05,         \"label\": \"Amaj\"       },       {         \"start\": 61.05,         \"end\": 62.35,         \"label\": \"Dmaj\"       },       {         \"start\": 62.35,         \"end\": 63.85,         \"label\": \"Cmaj\"       },       {         \"start\": 63.85,         \"end\": 64.75000000000001,         \"label\": \"Emin\"       },       {         \"start\": 64.75000000000001,         \"end\": 65.65000000000002,         \"label\": \"Amaj\"       },       {         \"start\": 65.65000000000002,         \"end\": 67.05000000000001,         \"label\": \"Dmaj\"       },       {         \"start\": 67.05000000000001,         \"end\": 67.95,         \"label\": \"Amaj\"       },       {         \"start\": 67.95,         \"end\": 69.25000000000001,         \"label\": \"Dmaj\"       },       {         \"start\": 69.25000000000001,         \"end\": 70.15000000000002,         \"label\": \"Amaj\"       },       {         \"start\": 70.15000000000002,         \"end\": 71.45,         \"label\": \"Dmaj\"       },       {         \"start\": 71.45,         \"end\": 73.45,         \"label\": \"Emaj\"       },       {         \"start\": 73.45,         \"end\": 76.35000000000001,         \"label\": \"Emin7\"       },       {         \"start\": 76.35000000000001,         \"end\": 78.35000000000001,         \"label\": \"Dmaj\"       },       {         \"start\": 78.35000000000001,         \"end\": 80.65000000000002,         \"label\": \"Gbmaj\"       },       {         \"start\": 80.65000000000002,         \"end\": 82.65000000000002,         \"label\": \"Emaj\"       },       {         \"start\": 82.65000000000002,         \"end\": 85.35000000000001,         \"label\": \"Emin7\"       },       {         \"start\": 85.35000000000001,         \"end\": 87.45,         \"label\": \"Dmaj\"       },       {         \"start\": 87.45,         \"end\": 91.75000000000001,         \"label\": \"Bmaj\"       },       {         \"start\": 91.75000000000001,         \"end\": 94.15000000000002,         \"label\": \"Emaj\"       },       {         \"start\": 94.15000000000002,         \"end\": 96.85000000000001,         \"label\": \"Emin7\"       },       {         \"start\": 96.85000000000001,         \"end\": 99.05000000000001,         \"label\": \"Dmaj\"       },       {         \"start\": 99.05000000000001,         \"end\": 101.35000000000001,         \"label\": \"Gbmaj\"       },       {         \"start\": 101.35000000000001,         \"end\": 103.65000000000002,         \"label\": \"Emaj\"       },       {         \"start\": 103.65000000000002,         \"end\": 106.45,         \"label\": \"Emin7\"       },       {         \"start\": 106.45,         \"end\": 108.45,         \"label\": \"Dmaj\"       },       {         \"start\": 108.45,         \"end\": 119.25000000000001,         \"label\": \"Bmaj\"       },       {         \"start\": 119.25000000000001,         \"end\": 119.85000000000001,         \"label\": \"Db7\"       },       {         \"start\": 119.85000000000001,         \"end\": 122.35000000000001,         \"label\": \"Gbmaj\"       },       {         \"start\": 122.35000000000001,         \"end\": 124.05000000000001,         \"label\": \"Abmin7\"       },       {         \"start\": 124.05000000000001,         \"end\": 124.65000000000002,         \"label\": \"Dbmaj\"       },       {         \"start\": 124.65000000000002,         \"end\": 127.25000000000001,         \"label\": \"Gbmaj\"       },       {         \"start\": 127.25000000000001,         \"end\": 128.55,         \"label\": \"Amaj\"       },       {         \"start\": 128.55,         \"end\": 129.25,         \"label\": \"Bmaj\"       },       {         \"start\": 129.25,         \"end\": 130.75,         \"label\": \"Emaj\"       },       {         \"start\": 130.75,         \"end\": 133.15,         \"label\": \"Amaj\"       },       {         \"start\": 133.15,         \"end\": 133.75,         \"label\": \"Bmaj\"       },       {         \"start\": 133.75,         \"end\": 137.05,         \"label\": \"Emaj\"       },       {         \"start\": 137.05,         \"end\": 139.85000000000002,         \"label\": \"Gmaj7\"       },       {         \"start\": 139.85000000000002,         \"end\": 141.55,         \"label\": \"Amaj\"       },       {         \"start\": 141.55,         \"end\": 142.75,         \"label\": \"Dmaj\"       },       {         \"start\": 142.75,         \"end\": 143.85000000000002,         \"label\": \"Amaj\"       },       {         \"start\": 143.85000000000002,         \"end\": 145.05,         \"label\": \"Dmaj\"       },       {         \"start\": 145.05,         \"end\": 146.15,         \"label\": \"Amaj\"       },       {         \"start\": 146.15,         \"end\": 147.45,         \"label\": \"Dmaj\"       },       {         \"start\": 147.45,         \"end\": 149.85000000000002,         \"label\": \"Cmaj\"       },       {         \"start\": 149.85000000000002,         \"end\": 150.65,         \"label\": \"Amaj\"       },       {         \"start\": 150.65,         \"end\": 152.05,         \"label\": \"Dmaj\"       },       {         \"start\": 152.05,         \"end\": 153.05,         \"label\": \"Amaj\"       },       {         \"start\": 153.05,         \"end\": 154.25,         \"label\": \"Dmaj\"       },       {         \"start\": 154.25,         \"end\": 155.25,         \"label\": \"Amaj\"       },       {         \"start\": 155.25,         \"end\": 156.65000000000003,         \"label\": \"Dmaj\"       },       {         \"start\": 156.65000000000003,         \"end\": 158.75,         \"label\": \"Cmaj\"       },       {         \"start\": 158.75,         \"end\": 159.75,         \"label\": \"Amaj\"       },       {         \"start\": 159.75,         \"end\": 160.95,         \"label\": \"Dmaj\"       },       {         \"start\": 160.95,         \"end\": 162.05,         \"label\": \"Amaj\"       },       {         \"start\": 162.05,         \"end\": 163.25,         \"label\": \"Dmaj\"       },       {         \"start\": 163.25,         \"end\": 164.35000000000002,         \"label\": \"Amaj\"       },       {         \"start\": 164.35000000000002,         \"end\": 165.55,         \"label\": \"Dmaj\"       },       {         \"start\": 165.55,         \"end\": 167.95,         \"label\": \"Cmaj7\"       },       {         \"start\": 167.95,         \"end\": 168.95,         \"label\": \"Amaj\"       },       {         \"start\": 168.95,         \"end\": 170.05,         \"label\": \"Dmaj\"       },       {         \"start\": 170.05,         \"end\": 171.15000000000003,         \"label\": \"Amaj\"       },       {         \"start\": 171.15000000000003,         \"end\": 172.35000000000002,         \"label\": \"Dmaj\"       },       {         \"start\": 172.35000000000002,         \"end\": 173.35000000000002,         \"label\": \"Amaj\"       },       {         \"start\": 173.35000000000002,         \"end\": 174.65000000000003,         \"label\": \"Dmaj\"       },       {         \"start\": 174.65000000000003,         \"end\": 184,         \"label\": \"Bmaj\"       }     ],     \"_id\": \"deezer:67354196\"   },   \"arousal\": \"\",   \"arousal_predicted\": \"0.044004172\",   \"album_genre\": \"Alternative Rock\",   \"has_emotion_tags\": \"False\",   \"has_social_tags\": \"False\",   \"lastfm_id\": \"\",   \"valence\": \"\",   \"valence_predicted\": \"-0.81023335\"}\n",
       "2                                                                                                                                                                                                                                                                                                                                                                                                                                                                                                                                                                                                                                                                                                                                                                                                                                                                                                                                                                                                                                                                                                                                                                                                                                                                                                                                                                                                                                                                                                                                                                                                                                                                                                                                                                                                                                                                                                                                                                                                                                                                                                                                                                                                                                                                 {  \"_id\": {     \"$oid\": \"5714dec325ac0d8aee3804e9\"   },   \"name\": \"A\",   \"position\": 2,   \"lengthAlbum\": \"57:52\",   \"urlSong\": \"http://lyrics.wikia.com/A:Cheeky_Monkey\",   \"lyrics\": \"My name is Jason<br>I&apos;ll rock yer face in<br>Cos I&apos;ve got relations in my band<br>We like Van Halen<br>And Iron Maiden<br>I&apos;ll do the talkin&apos;, understand? <br><br>Cheeky Monkey<br>Cheeky Monkey<br>Yeah, you know I&apos;m right<br>Do ya wanna fight?<br>I&apos;ll stay up all night<br>Just forget the time <br><br>Any time I want to<br>Any place I need to<br>I&apos;ll be there<br>Yeah, I&apos;ll be alright... <br><br>So get out the kitchen<br>Check out my pigeon<br>Fed-Ex are massive on my way<br>Jump on a rock bus<br>No-one can stop us<br>We&apos;re going bonkers today <br><br>Yeah, Cheeky Monkey!<br>Cheeky Monkey!<br>Do you know, I&apos;m right!<br>Do ya wanna fight?<br>I&apos;ll stay up all night<br>Just forget the time<br>Any time I want to<br>Any place I need to<br>I&apos;ll be there<br>Yeah, I&apos;ll be alright... <br><br>We&apos;re Cheeky Monkeys<br>We&apos;re Cheeky Monkeys<br>Just like the Bee Gees<br>We put the words down so they rhyme<br>Yeah, we rock in the summer<br>(Rock in the summer)<br>And we sleep in the winter<br>(Sleep in the winter)<br>Then we park where we want to<br>(Park where we want to), pay the fine <br><br>Yeah, Cheeky Monkeys<br>Cheeky Monkeys<br>Do you know, I&apos;m right!<br>Do ya wanna fight?<br>I&apos;ll stay up all night<br>Just forget the time<br>Any time I want to<br>Any place I need to<br>I&apos;ll be there<br>Yeah, I&apos;ll be alright... <br><br>Cheeky Monkeys<br>Cheeky Monkeys<br>Cheeky Monkeys<br>Cheeky Monkeys<br>Cheeky...\",   \"urlWikipedia\": \"\",   \"id_album\": {     \"$oid\": \"5714debb25ac0d8aee34d59a\"   },   \"isClassic\": false,   \"urlAllmusic\": \"http://www.allmusic.com/song/mt0013303555\",   \"urlMusicBrainz\": \"http://musicbrainz.org/recording/f9303efd-b512-4236-b83e-2fff0ace17a9\",   \"title\": \"Cheeky Monkey\",   \"publicationDateAlbum\": \"1997\",   \"albumTitle\": \"How Ace Are Buildings\",   \"deezer_mapping\": [     [       67354198,       \"search-exact\"     ]   ],   \"id_song_deezer\": \"67354198\",   \"isrc\": \"GBAAP9700052\",   \"length\": \"216\",   \"explicitLyrics\": false,   \"rank\": 268232,   \"bpm\": \"185\",   \"gain\": \"-10.4\",   \"preview\": \"http://e-cdn-preview-e.deezer.com/stream/ec4f87ad85271b7fcf314f03daa1b4b7-1.mp3\",   \"availableCountries\": [     \"AD\",     \"AE\",     \"AG\",     \"AI\",     \"AL\",     \"AM\",     \"AO\",     \"AR\",     \"AT\",     \"AU\",     \"AW\",     \"AX\",     \"AZ\",     \"BA\",     \"BB\",     \"BD\",     \"BE\",     \"BF\",     \"BG\",     \"BH\",     \"BI\",     \"BJ\",     \"BM\",     \"BN\",     \"BO\",     \"BR\",     \"BS\",     \"BV\",     \"BW\",     \"BY\",     \"BZ\",     \"CD\",     \"CF\",     \"CG\",     \"CH\",     \"CI\",     \"CL\",     \"CM\",     \"CN\",     \"CO\",     \"CR\",     \"CV\",     \"CY\",     \"CZ\",     \"DE\",     \"DJ\",     \"DK\",     \"DM\",     \"DO\",     \"DZ\",     \"EC\",     \"EE\",     \"EG\",     \"EH\",     \"ER\",     \"ES\",     \"ET\",     \"FI\",     \"FJ\",     \"FK\",     \"FM\",     \"FO\",     \"FR\",     \"GA\",     \"GB\",     \"GD\",     \"GE\",     \"GF\",     \"GG\",     \"GH\",     \"GI\",     \"GL\",     \"GM\",     \"GN\",     \"GP\",     \"GQ\",     \"GR\",     \"GS\",     \"GT\",     \"GW\",     \"HK\",     \"HN\",     \"HR\",     \"HT\",     \"HU\",     \"ID\",     \"IE\",     \"IL\",     \"IM\",     \"IN\",     \"IO\",     \"IQ\",     \"IS\",     \"IT\",     \"JE\",     \"JM\",     \"JO\",     \"KE\",     \"KG\",     \"KH\",     \"KM\",     \"KN\",     \"KR\",     \"KW\",     \"KY\",     \"KZ\",     \"LA\",     \"LB\",     \"LC\",     \"LI\",     \"LK\",     \"LR\",     \"LS\",     \"LT\",     \"LU\",     \"LV\",     \"LY\",     \"MA\",     \"MC\",     \"MD\",     \"ME\",     \"MG\",     \"MK\",     \"ML\",     \"MM\",     \"MN\",     \"MO\",     \"MQ\",     \"MR\",     \"MS\",     \"MT\",     \"MU\",     \"MW\",     \"MY\",     \"MZ\",     \"NA\",     \"NC\",     \"NE\",     \"NG\",     \"NI\",     \"NL\",     \"NO\",     \"NP\",     \"NZ\",     \"OM\",     \"PA\",     \"PE\",     \"PF\",     \"PG\",     \"PH\",     \"PK\",     \"PL\",     \"PM\",     \"PN\",     \"PR\",     \"PT\",     \"PY\",     \"QA\",     \"RE\",     \"RO\",     \"RS\",     \"RU\",     \"RW\",     \"SA\",     \"SC\",     \"SD\",     \"SE\",     \"SG\",     \"SH\",     \"SI\",     \"SJ\",     \"SK\",     \"SL\",     \"SM\",     \"SN\",     \"SO\",     \"ST\",     \"SV\",     \"SY\",     \"SZ\",     \"TC\",     \"TD\",     \"TF\",     \"TG\",     \"TH\",     \"TJ\",     \"TL\",     \"TM\",     \"TN\",     \"TR\",     \"TT\",     \"TW\",     \"TZ\",     \"UA\",     \"UG\",     \"UY\",     \"UZ\",     \"VA\",     \"VC\",     \"VE\",     \"VG\",     \"VN\",     \"WF\",     \"YE\",     \"YT\",     \"ZA\",     \"ZM\",     \"ZW\"   ],   \"publicationDate\": \"1998-06-22\",   \"rdf\": \"\",   \"urlPandora\": \"\",   \"urlITunes\": \"\",   \"urlSpotify\": \"\",   \"urlYouTube\": \"\",   \"urlAmazon\": \"\",   \"urlHypeMachine\": \"\",   \"urlGoEar\": \"\",   \"urlLastFm\": \"\",   \"multitrack_path\": \"\",   \"multitrack_file\": \"\",   \"id_song_musicbrainz\": \"f9303efd-b512-4236-b83e-2fff0ace17a9\",   \"disambiguation\": \"\",   \"language\": \"\",   \"begin\": \"\",   \"end\": \"\",   \"id_artist_deezer\": \"3412\",   \"id_album_deezer\": \"6585846\",   \"urlDeezer\": \"http://www.deezer.com/track/67354198\",   \"language_detect\": \"english\",   \"title_accent_fold\": \"Cheeky Monkey\",   \"animux_paths\": [],   \"chords_metadata\": {     \"confidence\": 0.7140212864414622,     \"duration\": 216.00759637188207,     \"chordSequence\": [       {         \"start\": 0,         \"end\": 1.55,         \"label\": \"Emaj\"       },       {         \"start\": 1.55,         \"end\": 2.35,         \"label\": \"Dmaj\"       },       {         \"start\": 2.35,         \"end\": 2.95,         \"label\": \"Amaj\"       },       {         \"start\": 2.95,         \"end\": 4.15,         \"label\": \"Emaj\"       },       {         \"start\": 4.15,         \"end\": 4.65,         \"label\": \"Bmin7\"       },       {         \"start\": 4.65,         \"end\": 5.8500000000000005,         \"label\": \"Amaj\"       },       {         \"start\": 5.8500000000000005,         \"end\": 6.75,         \"label\": \"Emaj\"       },       {         \"start\": 6.75,         \"end\": 8.05,         \"label\": \"Bmin7\"       },       {         \"start\": 8.05,         \"end\": 10.75,         \"label\": \"Bmaj\"       },       {         \"start\": 10.75,         \"end\": 12.350000000000001,         \"label\": \"Emaj\"       },       {         \"start\": 12.350000000000001,         \"end\": 13.45,         \"label\": \"Amaj\"       },       {         \"start\": 13.45,         \"end\": 14.55,         \"label\": \"Emaj\"       },       {         \"start\": 14.55,         \"end\": 15.150000000000002,         \"label\": \"Bmin7\"       },       {         \"start\": 15.150000000000002,         \"end\": 16.150000000000002,         \"label\": \"Amaj\"       },       {         \"start\": 16.150000000000002,         \"end\": 17.250000000000004,         \"label\": \"Emaj\"       },       {         \"start\": 17.250000000000004,         \"end\": 17.750000000000004,         \"label\": \"Bmin7\"       },       {         \"start\": 17.750000000000004,         \"end\": 18.55,         \"label\": \"Amaj\"       },       {         \"start\": 18.55,         \"end\": 24.450000000000003,         \"label\": \"Bmaj\"       },       {         \"start\": 24.450000000000003,         \"end\": 32.949999999999996,         \"label\": \"Bmin7\"       },       {         \"start\": 32.949999999999996,         \"end\": 34.849999999999994,         \"label\": \"Emaj\"       },       {         \"start\": 34.849999999999994,         \"end\": 37.55,         \"label\": \"Amaj\"       },       {         \"start\": 37.55,         \"end\": 39.85,         \"label\": \"Gmaj\"       },       {         \"start\": 39.85,         \"end\": 42.25,         \"label\": \"Dmaj\"       },       {         \"start\": 42.25,         \"end\": 47.45,         \"label\": \"Amaj\"       },       {         \"start\": 47.45,         \"end\": 49.85,         \"label\": \"Gmaj\"       },       {         \"start\": 49.85,         \"end\": 52.25,         \"label\": \"Dmaj\"       },       {         \"start\": 52.25,         \"end\": 54.85,         \"label\": \"Fmaj\"       },       {         \"start\": 54.85,         \"end\": 56.15,         \"label\": \"Emaj\"       },       {         \"start\": 56.15,         \"end\": 57.55,         \"label\": \"Amaj\"       },       {         \"start\": 57.55,         \"end\": 58.65,         \"label\": \"Emaj\"       },       {         \"start\": 58.65,         \"end\": 59.25,         \"label\": \"Bmin7\"       },       {         \"start\": 59.25,         \"end\": 60.05,         \"label\": \"Amaj\"       },       {         \"start\": 60.05,         \"end\": 61.15,         \"label\": \"Emaj\"       },       {         \"start\": 61.15,         \"end\": 62.55,         \"label\": \"Bmin7\"       },       {         \"start\": 62.55,         \"end\": 65.25000000000001,         \"label\": \"Bmaj\"       },       {         \"start\": 65.25000000000001,         \"end\": 66.35000000000001,         \"label\": \"Emaj\"       },       {         \"start\": 66.35000000000001,         \"end\": 67.85000000000001,         \"label\": \"Amaj\"       },       {         \"start\": 67.85000000000001,         \"end\": 68.95,         \"label\": \"Emaj\"       },       {         \"start\": 68.95,         \"end\": 69.75000000000001,         \"label\": \"Bmin7\"       },       {         \"start\": 69.75000000000001,         \"end\": 70.45,         \"label\": \"Amaj\"       },       {         \"start\": 70.45,         \"end\": 71.65000000000002,         \"label\": \"Emaj\"       },       {         \"start\": 71.65000000000002,         \"end\": 72.85000000000001,         \"label\": \"Dmaj7\"       },       {         \"start\": 72.85000000000001,         \"end\": 78.75000000000001,         \"label\": \"Bmaj\"       },       {         \"start\": 78.75000000000001,         \"end\": 87.85000000000001,         \"label\": \"Bmin7\"       },       {         \"start\": 87.85000000000001,         \"end\": 89.25000000000001,         \"label\": \"Emaj\"       },       {         \"start\": 89.25000000000001,         \"end\": 91.95,         \"label\": \"Amaj\"       },       {         \"start\": 91.95,         \"end\": 94.25000000000001,         \"label\": \"Gmaj\"       },       {         \"start\": 94.25000000000001,         \"end\": 96.75000000000001,         \"label\": \"Dmaj\"       },       {         \"start\": 96.75000000000001,         \"end\": 101.85000000000001,         \"label\": \"Amaj\"       },       {         \"start\": 101.85000000000001,         \"end\": 104.35000000000001,         \"label\": \"Gmaj\"       },       {         \"start\": 104.35000000000001,         \"end\": 106.75000000000001,         \"label\": \"Dmaj\"       },       {         \"start\": 106.75000000000001,         \"end\": 109.45,         \"label\": \"Fmaj\"       },       {         \"start\": 109.45,         \"end\": 115.05000000000001,         \"label\": \"Amaj\"       },       {         \"start\": 115.05000000000001,         \"end\": 117.25000000000001,         \"label\": \"Dmaj7\"       },       {         \"start\": 117.25000000000001,         \"end\": 118.25000000000001,         \"label\": \"Dmin7\"       },       {         \"start\": 118.25000000000001,         \"end\": 119.65000000000002,         \"label\": \"Gmaj\"       },       {         \"start\": 119.65000000000002,         \"end\": 122.85000000000001,         \"label\": \"Amaj\"       },       {         \"start\": 122.85000000000001,         \"end\": 123.65000000000002,         \"label\": \"Bmin7\"       },       {         \"start\": 123.65000000000002,         \"end\": 126.15000000000002,         \"label\": \"Gbmin7\"       },       {         \"start\": 126.15000000000002,         \"end\": 127.35000000000001,         \"label\": \"Dmaj\"       },       {         \"start\": 127.35000000000001,         \"end\": 128.55,         \"label\": \"Dmin7\"       },       {         \"start\": 128.55,         \"end\": 130.15,         \"label\": \"Gmaj\"       },       {         \"start\": 130.15,         \"end\": 132.75,         \"label\": \"Emaj\"       },       {         \"start\": 132.75,         \"end\": 140.15,         \"label\": \"Bmaj\"       },       {         \"start\": 140.15,         \"end\": 142.45,         \"label\": \"Db7\"       },       {         \"start\": 142.45,         \"end\": 150.65,         \"label\": \"Bmaj\"       },       {         \"start\": 150.65,         \"end\": 155.55,         \"label\": \"Dbmaj\"       },       {         \"start\": 155.55,         \"end\": 156.95,         \"label\": \"Dmaj7\"       },       {         \"start\": 156.95,         \"end\": 158.25,         \"label\": \"Emaj\"       },       {         \"start\": 158.25,         \"end\": 166.75,         \"label\": \"Bmin7\"       },       {         \"start\": 166.75,         \"end\": 169.35000000000002,         \"label\": \"Amaj\"       },       {         \"start\": 169.35000000000002,         \"end\": 171.55,         \"label\": \"Gmaj\"       },       {         \"start\": 171.55,         \"end\": 174.05,         \"label\": \"Dmaj\"       },       {         \"start\": 174.05,         \"end\": 179.05,         \"label\": \"Amaj\"       },       {         \"start\": 179.05,         \"end\": 181.65000000000003,         \"label\": \"Gmaj\"       },       {         \"start\": 181.65000000000003,         \"end\": 184.15000000000003,         \"label\": \"Dmaj\"       },       {         \"start\": 184.15000000000003,         \"end\": 188.95,         \"label\": \"Bmaj\"       },       {         \"start\": 188.95,         \"end\": 200.85000000000002,         \"label\": \"Bmin7\"       },       {         \"start\": 200.85000000000002,         \"end\": 202.55,         \"label\": \"Bmaj\"       },       {         \"start\": 202.55,         \"end\": 203.75,         \"label\": \"Emaj\"       },       {         \"start\": 203.75,         \"end\": 208.95,         \"label\": \"Bmin7\"       },       {         \"start\": 208.95,         \"end\": 211.65000000000003,         \"label\": \"Fmaj\"       },       {         \"start\": 211.65000000000003,         \"end\": 212.55,         \"label\": \"E7\"       },       {         \"start\": 212.55,         \"end\": 216,         \"label\": \"Bmin7\"       }     ],     \"_id\": \"deezer:67354198\"   },   \"arousal\": \"\",   \"arousal_predicted\": \"0.4871664000000001\",   \"album_genre\": \"Alternative Rock\",   \"has_emotion_tags\": \"False\",   \"has_social_tags\": \"False\",   \"lastfm_id\": \"\",   \"valence\": \"\",   \"valence_predicted\": \"0.22384201\"}\n",
       "3                                                                                                                                                                                                                                                                                                                                                                                                                                                                                                                                                                                                                                                                                                                                                                                                                                                                                                                                                                                                                                                                                                                                                                                                                                                                                                                                                                                                                                                                                                                                                                                                                                                                                                                                                                                                                                                                                                                                                                                                                                                                                                                                                                                                                                                                                                                                                                                                                                                                                                                                                                                                                                                                                                                                                                                                                                                                                                                                                                                                                                                                                                                                                                                                                                                                                                                                                                                                                                                                                                                                                                                                                                                                                                                                                                                                                                                                                                                                                                                                                                                                                                                                                                                                                                                                                                                                                                                                                                                                                                                                                                                                                                                                                                                                                                                                                                                                                                                                                                                                                                                                                                                                                                                                                                                                                                                                                                                                                                                                                                                                                                                                                                                                                                                                                                                                                                                                          {  \"_id\": {     \"$oid\": \"5714dec325ac0d8aee3804ea\"   },   \"name\": \"A\",   \"position\": 3,   \"lengthAlbum\": \"57:52\",   \"urlSong\": \"http://lyrics.wikia.com/A:No._1\",   \"lyrics\": \"Got to get out more<br>Get in the place<br>Got to work out more<br>And sort out my face<br>I&apos;ve got all the &apos;zines that tell me what to eat<br>And I&apos;m tired of being told what to wear on my feet<br>And I don&apos;t have the time to get all worked up<br>About the year on the street<br><br>And it&apos;s not my fault, I can find my way<br>Yeah it&apos;s not my fault, there goes another day<br>I&apos;ve been here too long, do I have to change<br>Into what it takes<br>To make it number one? <br><br>I feel out of favour<br>I don&apos;t look like a picture<br>You think I&apos;m a loser,<br>But I can see through you<br>You&apos;re running around like you&apos;re running the country<br>I know that you think that you&apos;ve got one on me<br>Ear to the ground, like the boy about town<br>Can&apos;t get nothing to fit me <br><br>And it&apos;s not my fault, I can find my way<br>Yeah it&apos;s not my fault, there goes another day<br>I&apos;ve been here too long, do I have to change<br>Into what it takes<br>To make it number one? <br><br>Got a call from an old friend, used to be real close<br>Said he couldn&apos;t go on the American way<br>Sold his house, sold his car<br>Bought a ticket to the West Coast<br>Now he gives &apos;em a stand-up routine in L.A.\",   \"urlWikipedia\": \"\",   \"id_album\": {     \"$oid\": \"5714debb25ac0d8aee34d59a\"   },   \"isClassic\": false,   \"urlAllmusic\": \"http://www.allmusic.com/song/mt0013319228\",   \"urlMusicBrainz\": \"http://musicbrainz.org/recording/52ef8537-c61d-4163-a6cc-737cac0c9703\",   \"title\": \"No. 1\",   \"publicationDateAlbum\": \"1997\",   \"albumTitle\": \"How Ace Are Buildings\",   \"deezer_mapping\": [     [       67354199,       \"search-exact\"     ]   ],   \"id_song_deezer\": \"67354199\",   \"isrc\": \"GBAAP9700053\",   \"length\": \"230\",   \"explicitLyrics\": false,   \"rank\": 308436,   \"bpm\": \"96\",   \"gain\": \"-10.6\",   \"preview\": \"http://e-cdn-preview-6.deezer.com/stream/667cdea9fa342efa9dce027512c15e3d-1.mp3\",   \"availableCountries\": [     \"AD\",     \"AE\",     \"AG\",     \"AI\",     \"AL\",     \"AM\",     \"AO\",     \"AR\",     \"AT\",     \"AU\",     \"AW\",     \"AX\",     \"AZ\",     \"BA\",     \"BB\",     \"BD\",     \"BE\",     \"BF\",     \"BG\",     \"BH\",     \"BI\",     \"BJ\",     \"BM\",     \"BN\",     \"BO\",     \"BR\",     \"BS\",     \"BV\",     \"BW\",     \"BY\",     \"BZ\",     \"CD\",     \"CF\",     \"CG\",     \"CH\",     \"CI\",     \"CL\",     \"CM\",     \"CN\",     \"CO\",     \"CR\",     \"CV\",     \"CY\",     \"CZ\",     \"DE\",     \"DJ\",     \"DK\",     \"DM\",     \"DO\",     \"DZ\",     \"EC\",     \"EE\",     \"EG\",     \"EH\",     \"ER\",     \"ES\",     \"ET\",     \"FI\",     \"FJ\",     \"FK\",     \"FM\",     \"FO\",     \"FR\",     \"GA\",     \"GB\",     \"GD\",     \"GE\",     \"GF\",     \"GG\",     \"GH\",     \"GI\",     \"GL\",     \"GM\",     \"GN\",     \"GP\",     \"GQ\",     \"GR\",     \"GS\",     \"GT\",     \"GW\",     \"HK\",     \"HN\",     \"HR\",     \"HT\",     \"HU\",     \"ID\",     \"IE\",     \"IL\",     \"IM\",     \"IN\",     \"IO\",     \"IQ\",     \"IS\",     \"IT\",     \"JE\",     \"JM\",     \"JO\",     \"KE\",     \"KG\",     \"KH\",     \"KM\",     \"KN\",     \"KR\",     \"KW\",     \"KY\",     \"KZ\",     \"LA\",     \"LB\",     \"LC\",     \"LI\",     \"LK\",     \"LR\",     \"LS\",     \"LT\",     \"LU\",     \"LV\",     \"LY\",     \"MA\",     \"MC\",     \"MD\",     \"ME\",     \"MG\",     \"MK\",     \"ML\",     \"MM\",     \"MN\",     \"MO\",     \"MQ\",     \"MR\",     \"MS\",     \"MT\",     \"MU\",     \"MW\",     \"MY\",     \"MZ\",     \"NA\",     \"NC\",     \"NE\",     \"NG\",     \"NI\",     \"NL\",     \"NO\",     \"NP\",     \"NZ\",     \"OM\",     \"PA\",     \"PE\",     \"PF\",     \"PG\",     \"PH\",     \"PK\",     \"PL\",     \"PM\",     \"PN\",     \"PR\",     \"PT\",     \"PY\",     \"QA\",     \"RE\",     \"RO\",     \"RS\",     \"RU\",     \"RW\",     \"SA\",     \"SC\",     \"SD\",     \"SE\",     \"SG\",     \"SH\",     \"SI\",     \"SJ\",     \"SK\",     \"SL\",     \"SM\",     \"SN\",     \"SO\",     \"ST\",     \"SV\",     \"SY\",     \"SZ\",     \"TC\",     \"TD\",     \"TF\",     \"TG\",     \"TH\",     \"TJ\",     \"TL\",     \"TM\",     \"TN\",     \"TR\",     \"TT\",     \"TW\",     \"TZ\",     \"UA\",     \"UG\",     \"UY\",     \"UZ\",     \"VA\",     \"VC\",     \"VE\",     \"VG\",     \"VN\",     \"WF\",     \"YE\",     \"YT\",     \"ZA\",     \"ZM\",     \"ZW\"   ],   \"publicationDate\": \"1998-06-22\",   \"rdf\": \"\",   \"urlPandora\": \"\",   \"urlITunes\": \"\",   \"urlSpotify\": \"\",   \"urlYouTube\": \"\",   \"urlAmazon\": \"\",   \"urlHypeMachine\": \"\",   \"urlGoEar\": \"\",   \"urlLastFm\": \"\",   \"multitrack_path\": \"\",   \"multitrack_file\": \"\",   \"id_song_musicbrainz\": \"52ef8537-c61d-4163-a6cc-737cac0c9703\",   \"disambiguation\": \"\",   \"language\": \"\",   \"begin\": \"\",   \"end\": \"\",   \"id_artist_deezer\": \"3412\",   \"id_album_deezer\": \"6585846\",   \"urlDeezer\": \"http://www.deezer.com/track/67354199\",   \"language_detect\": \"english\",   \"title_accent_fold\": \"No. 1\",   \"animux_paths\": [],   \"chords_metadata\": {     \"confidence\": 0.7674923946110387,     \"duration\": 230.00922902494332,     \"chordSequence\": [       {         \"start\": 0,         \"end\": 4.65,         \"label\": \"Gmin7\"       },       {         \"start\": 4.65,         \"end\": 7.15,         \"label\": \"Bmin7\"       },       {         \"start\": 7.15,         \"end\": 8.15,         \"label\": \"Gmin7\"       },       {         \"start\": 8.15,         \"end\": 9.45,         \"label\": \"Dmin\"       },       {         \"start\": 9.45,         \"end\": 14.75,         \"label\": \"G7\"       },       {         \"start\": 14.75,         \"end\": 16.750000000000004,         \"label\": \"Bmin\"       },       {         \"start\": 16.750000000000004,         \"end\": 39.25,         \"label\": \"Gmaj\"       },       {         \"start\": 39.25,         \"end\": 59.25,         \"label\": \"Emaj\"       },       {         \"start\": 59.25,         \"end\": 61.75,         \"label\": \"Gmaj\"       },       {         \"start\": 61.75,         \"end\": 64.15000000000002,         \"label\": \"G7\"       },       {         \"start\": 64.15000000000002,         \"end\": 66.95,         \"label\": \"Gmaj7\"       },       {         \"start\": 66.95,         \"end\": 68.45,         \"label\": \"Cmaj\"       },       {         \"start\": 68.45,         \"end\": 69.25000000000001,         \"label\": \"Dmaj\"       },       {         \"start\": 69.25000000000001,         \"end\": 72.35000000000001,         \"label\": \"Gmaj\"       },       {         \"start\": 72.35000000000001,         \"end\": 74.75000000000001,         \"label\": \"Dmin7\"       },       {         \"start\": 74.75000000000001,         \"end\": 77.15000000000002,         \"label\": \"Gmaj7\"       },       {         \"start\": 77.15000000000002,         \"end\": 78.45,         \"label\": \"Cmaj\"       },       {         \"start\": 78.45,         \"end\": 79.75000000000001,         \"label\": \"Gmaj\"       },       {         \"start\": 79.75000000000001,         \"end\": 87.75000000000001,         \"label\": \"Amaj\"       },       {         \"start\": 87.75000000000001,         \"end\": 90.85000000000001,         \"label\": \"Emin7\"       },       {         \"start\": 90.85000000000001,         \"end\": 96.75000000000001,         \"label\": \"Amaj\"       },       {         \"start\": 96.75000000000001,         \"end\": 119.45,         \"label\": \"Emaj\"       },       {         \"start\": 119.45,         \"end\": 121.95,         \"label\": \"Gmaj\"       },       {         \"start\": 121.95,         \"end\": 124.45,         \"label\": \"Gmin7\"       },       {         \"start\": 124.45,         \"end\": 127.35000000000001,         \"label\": \"Gmaj7\"       },       {         \"start\": 127.35000000000001,         \"end\": 128.65,         \"label\": \"Cmaj\"       },       {         \"start\": 128.65,         \"end\": 129.75,         \"label\": \"Dmaj\"       },       {         \"start\": 129.75,         \"end\": 132.75,         \"label\": \"Gmaj\"       },       {         \"start\": 132.75,         \"end\": 135.05,         \"label\": \"Dmin7\"       },       {         \"start\": 135.05,         \"end\": 137.45,         \"label\": \"Gmaj7\"       },       {         \"start\": 137.45,         \"end\": 138.85000000000002,         \"label\": \"Cmaj\"       },       {         \"start\": 138.85000000000002,         \"end\": 139.95,         \"label\": \"Gmaj\"       },       {         \"start\": 139.95,         \"end\": 150.05,         \"label\": \"Amaj\"       },       {         \"start\": 150.05,         \"end\": 160.35000000000002,         \"label\": \"Emaj\"       },       {         \"start\": 160.35000000000002,         \"end\": 163.75,         \"label\": \"Cmaj\"       },       {         \"start\": 163.75,         \"end\": 165.45,         \"label\": \"Bmin7\"       },       {         \"start\": 165.45,         \"end\": 168.75,         \"label\": \"Cmaj\"       },       {         \"start\": 168.75,         \"end\": 177.95,         \"label\": \"Dmaj\"       },       {         \"start\": 177.95,         \"end\": 184.05,         \"label\": \"Gmaj\"       },       {         \"start\": 184.05,         \"end\": 186.15000000000003,         \"label\": \"Bmin\"       },       {         \"start\": 186.15000000000003,         \"end\": 187.55,         \"label\": \"Cmaj\"       },       {         \"start\": 187.55,         \"end\": 191.55,         \"label\": \"Gmaj\"       },       {         \"start\": 191.55,         \"end\": 193.75,         \"label\": \"Dmin7\"       },       {         \"start\": 193.75,         \"end\": 196.25,         \"label\": \"Bmin\"       },       {         \"start\": 196.25,         \"end\": 197.55,         \"label\": \"Cmaj\"       },       {         \"start\": 197.55,         \"end\": 204.05,         \"label\": \"Gmaj\"       },       {         \"start\": 204.05,         \"end\": 206.15000000000003,         \"label\": \"Bmin\"       },       {         \"start\": 206.15000000000003,         \"end\": 207.55,         \"label\": \"Cmaj\"       },       {         \"start\": 207.55,         \"end\": 211.55,         \"label\": \"Gmaj\"       },       {         \"start\": 211.55,         \"end\": 213.45,         \"label\": \"Dmin7\"       },       {         \"start\": 213.45,         \"end\": 216.15000000000003,         \"label\": \"Gmaj7\"       },       {         \"start\": 216.15000000000003,         \"end\": 217.45,         \"label\": \"Cmaj\"       },       {         \"start\": 217.45,         \"end\": 230,         \"label\": \"Gmaj\"       }     ],     \"_id\": \"deezer:67354199\"   },   \"arousal\": \"\",   \"arousal_predicted\": \"0.20962961\",   \"album_genre\": \"Alternative Rock\",   \"has_emotion_tags\": \"False\",   \"has_social_tags\": \"False\",   \"lastfm_id\": \"\",   \"valence\": \"\",   \"valence_predicted\": \"-0.016932294\"}\n",
       "4                                                                                                                                                                                                                                                                                                                                                                                                                                                                                                                                                                                                                                                                                                                                                                                                                                                                                                                                                                                                                                                                                                                                                                                                                                                                                                                                                                                                                                                                                                                                                                                                                                                                                                                                                                                                                                                                                                                                                                                                                                                                                                                                                                                                                                                                                                                                                                                                                                                                                                                                                                                                                                                                                                                                                                                                                                                                                                                                                                                                                                                                                                                                                                                                                                                                                                                                                                                                                                                                                                                                                                                                                                                                                                                                                                                                                                                                                                                                                                                                                                                                                                                                                                                                                                                                                                                                                                                                                                                                                                                                                                                                                                                                                                                                                                                                                                                                                                                                                                                                                                                                                                                                                                       {  \"_id\": {     \"$oid\": \"5714dec325ac0d8aee3804eb\"   },   \"name\": \"A\",   \"position\": 4,   \"lengthAlbum\": \"57:52\",   \"urlSong\": \"http://lyrics.wikia.com/A:Bad_Idea\",   \"lyrics\": \"Bad idea (x4) <br><br>Ninety-nine per cent is great,<br>The other one percent I hate,<br>Little things keep bugging in my head <br><br>Wake up calls, smack and that, fashion cafe, friendly fire<br>GMTV, darker mornings and pay per view, litter dropping <br><br>I made a list, I got the lot and all<br>That stuff is all on top It&apos;s not fair but I don&apos;t care not me <br><br>Rocky Five, Indie shite, KKK, number crunching<br>bungee jumping, paying taxes, pavement cracks<br>car alarms, dinosaurs and protest songs are- <br><br>Bad idea (x4) <br><br>Give me a B-A-D-I<br>Give me a D-E-A...<br>BAD IDEA!\",   \"urlWikipedia\": \"\",   \"id_album\": {     \"$oid\": \"5714debb25ac0d8aee34d59a\"   },   \"isClassic\": false,   \"urlAllmusic\": \"http://www.allmusic.com/song/mt0031820543\",   \"urlMusicBrainz\": \"http://musicbrainz.org/recording/53ae7abb-e5c8-4097-8c42-3182e215ae82\",   \"title\": \"Bad Idea\",   \"publicationDateAlbum\": \"1997\",   \"albumTitle\": \"How Ace Are Buildings\",   \"deezer_mapping\": [     [       67354200,       \"search-exact\"     ]   ],   \"id_song_deezer\": \"67354200\",   \"isrc\": \"GBAAP9700012\",   \"length\": \"141\",   \"explicitLyrics\": true,   \"rank\": 273805,   \"bpm\": \"101\",   \"gain\": \"-9.9\",   \"preview\": \"http://e-cdn-preview-7.deezer.com/stream/7cc55373b7e21a16d660f3e7459d30ba-1.mp3\",   \"availableCountries\": [     \"AD\",     \"AE\",     \"AG\",     \"AI\",     \"AL\",     \"AM\",     \"AO\",     \"AR\",     \"AT\",     \"AU\",     \"AW\",     \"AX\",     \"AZ\",     \"BA\",     \"BB\",     \"BD\",     \"BE\",     \"BF\",     \"BG\",     \"BH\",     \"BI\",     \"BJ\",     \"BM\",     \"BN\",     \"BO\",     \"BR\",     \"BS\",     \"BV\",     \"BW\",     \"BY\",     \"BZ\",     \"CD\",     \"CF\",     \"CG\",     \"CH\",     \"CI\",     \"CL\",     \"CM\",     \"CN\",     \"CO\",     \"CR\",     \"CV\",     \"CY\",     \"CZ\",     \"DE\",     \"DJ\",     \"DK\",     \"DM\",     \"DO\",     \"DZ\",     \"EC\",     \"EE\",     \"EG\",     \"EH\",     \"ER\",     \"ES\",     \"ET\",     \"FI\",     \"FJ\",     \"FK\",     \"FM\",     \"FO\",     \"FR\",     \"GA\",     \"GB\",     \"GD\",     \"GE\",     \"GF\",     \"GG\",     \"GH\",     \"GI\",     \"GL\",     \"GM\",     \"GN\",     \"GP\",     \"GQ\",     \"GR\",     \"GS\",     \"GT\",     \"GW\",     \"HK\",     \"HN\",     \"HR\",     \"HT\",     \"HU\",     \"ID\",     \"IE\",     \"IL\",     \"IM\",     \"IN\",     \"IO\",     \"IQ\",     \"IS\",     \"IT\",     \"JE\",     \"JM\",     \"JO\",     \"KE\",     \"KG\",     \"KH\",     \"KM\",     \"KN\",     \"KR\",     \"KW\",     \"KY\",     \"KZ\",     \"LA\",     \"LB\",     \"LC\",     \"LI\",     \"LK\",     \"LR\",     \"LS\",     \"LT\",     \"LU\",     \"LV\",     \"LY\",     \"MA\",     \"MC\",     \"MD\",     \"ME\",     \"MG\",     \"MK\",     \"ML\",     \"MM\",     \"MN\",     \"MO\",     \"MQ\",     \"MR\",     \"MS\",     \"MT\",     \"MU\",     \"MW\",     \"MY\",     \"MZ\",     \"NA\",     \"NC\",     \"NE\",     \"NG\",     \"NI\",     \"NL\",     \"NO\",     \"NP\",     \"NZ\",     \"OM\",     \"PA\",     \"PE\",     \"PF\",     \"PG\",     \"PH\",     \"PK\",     \"PL\",     \"PM\",     \"PN\",     \"PR\",     \"PT\",     \"PY\",     \"QA\",     \"RE\",     \"RO\",     \"RS\",     \"RU\",     \"RW\",     \"SA\",     \"SC\",     \"SD\",     \"SE\",     \"SG\",     \"SH\",     \"SI\",     \"SJ\",     \"SK\",     \"SL\",     \"SM\",     \"SN\",     \"SO\",     \"ST\",     \"SV\",     \"SY\",     \"SZ\",     \"TC\",     \"TD\",     \"TF\",     \"TG\",     \"TH\",     \"TJ\",     \"TL\",     \"TM\",     \"TN\",     \"TR\",     \"TT\",     \"TW\",     \"TZ\",     \"UA\",     \"UG\",     \"UY\",     \"UZ\",     \"VA\",     \"VC\",     \"VE\",     \"VG\",     \"VN\",     \"WF\",     \"YE\",     \"YT\",     \"ZA\",     \"ZM\",     \"ZW\"   ],   \"publicationDate\": \"1998-06-22\",   \"rdf\": \"\",   \"urlPandora\": \"\",   \"urlITunes\": \"\",   \"urlSpotify\": \"\",   \"urlYouTube\": \"\",   \"urlAmazon\": \"\",   \"urlHypeMachine\": \"\",   \"urlGoEar\": \"\",   \"urlLastFm\": \"\",   \"multitrack_path\": \"\",   \"multitrack_file\": \"\",   \"id_song_musicbrainz\": \"53ae7abb-e5c8-4097-8c42-3182e215ae82\",   \"disambiguation\": \"\",   \"language\": \"\",   \"begin\": \"\",   \"end\": \"\",   \"id_artist_deezer\": \"3412\",   \"id_album_deezer\": \"6585846\",   \"urlDeezer\": \"http://www.deezer.com/track/67354200\",   \"language_detect\": \"english\",   \"title_accent_fold\": \"Bad Idea\",   \"animux_paths\": [],   \"chords_metadata\": {     \"confidence\": 0.7873848334514528,     \"duration\": 141.01004535147393,     \"chordSequence\": [       {         \"start\": 0,         \"end\": 1.7500000000000002,         \"label\": \"Amaj7\"       },       {         \"start\": 1.7500000000000002,         \"end\": 4.550000000000001,         \"label\": \"Bmin7\"       },       {         \"start\": 4.550000000000001,         \"end\": 6.45,         \"label\": \"Emaj\"       },       {         \"start\": 6.45,         \"end\": 7.050000000000001,         \"label\": \"Gmaj7\"       },       {         \"start\": 7.050000000000001,         \"end\": 7.65,         \"label\": \"Amaj\"       },       {         \"start\": 7.65,         \"end\": 8.850000000000001,         \"label\": \"Emaj\"       },       {         \"start\": 8.850000000000001,         \"end\": 9.45,         \"label\": \"Emin7\"       },       {         \"start\": 9.45,         \"end\": 10.05,         \"label\": \"Amaj\"       },       {         \"start\": 10.05,         \"end\": 10.850000000000001,         \"label\": \"Emaj\"       },       {         \"start\": 10.850000000000001,         \"end\": 11.650000000000002,         \"label\": \"Bmaj\"       },       {         \"start\": 11.650000000000002,         \"end\": 12.350000000000001,         \"label\": \"Amaj\"       },       {         \"start\": 12.350000000000001,         \"end\": 20.150000000000002,         \"label\": \"Emaj\"       },       {         \"start\": 20.150000000000002,         \"end\": 20.950000000000003,         \"label\": \"Bmaj\"       },       {         \"start\": 20.950000000000003,         \"end\": 21.55,         \"label\": \"Amaj\"       },       {         \"start\": 21.55,         \"end\": 22.450000000000003,         \"label\": \"Emaj\"       },       {         \"start\": 22.450000000000003,         \"end\": 23.250000000000004,         \"label\": \"Bmaj\"       },       {         \"start\": 23.250000000000004,         \"end\": 23.750000000000004,         \"label\": \"Amaj\"       },       {         \"start\": 23.750000000000004,         \"end\": 26.450000000000003,         \"label\": \"Emaj\"       },       {         \"start\": 26.450000000000003,         \"end\": 28.650000000000002,         \"label\": \"Bmaj\"       },       {         \"start\": 28.650000000000002,         \"end\": 31.150000000000002,         \"label\": \"Amaj\"       },       {         \"start\": 31.150000000000002,         \"end\": 35.949999999999996,         \"label\": \"Emaj\"       },       {         \"start\": 35.949999999999996,         \"end\": 37.449999999999996,         \"label\": \"Bmaj\"       },       {         \"start\": 37.449999999999996,         \"end\": 38.25,         \"label\": \"Emaj7\"       },       {         \"start\": 38.25,         \"end\": 40.65,         \"label\": \"Amaj\"       },       {         \"start\": 40.65,         \"end\": 43.05,         \"label\": \"Emaj\"       },       {         \"start\": 43.05,         \"end\": 50.65,         \"label\": \"Gbmaj\"       },       {         \"start\": 50.65,         \"end\": 52.25,         \"label\": \"Emaj7\"       },       {         \"start\": 52.25,         \"end\": 54.75,         \"label\": \"Emaj\"       },       {         \"start\": 54.75,         \"end\": 57.05,         \"label\": \"Bmaj\"       },       {         \"start\": 57.05,         \"end\": 59.35,         \"label\": \"Amaj\"       },       {         \"start\": 59.35,         \"end\": 64.25000000000001,         \"label\": \"Emaj\"       },       {         \"start\": 64.25000000000001,         \"end\": 66.45,         \"label\": \"Bmaj\"       },       {         \"start\": 66.45,         \"end\": 68.75000000000001,         \"label\": \"Amaj\"       },       {         \"start\": 68.75000000000001,         \"end\": 71.15000000000002,         \"label\": \"Emaj\"       },       {         \"start\": 71.15000000000002,         \"end\": 78.85000000000001,         \"label\": \"Gmaj\"       },       {         \"start\": 78.85000000000001,         \"end\": 80.55000000000001,         \"label\": \"Abmin7\"       },       {         \"start\": 80.55000000000001,         \"end\": 83.15000000000002,         \"label\": \"Emaj\"       },       {         \"start\": 83.15000000000002,         \"end\": 85.55000000000001,         \"label\": \"Bmaj\"       },       {         \"start\": 85.55000000000001,         \"end\": 87.75000000000001,         \"label\": \"Amaj\"       },       {         \"start\": 87.75000000000001,         \"end\": 92.55000000000001,         \"label\": \"Emaj\"       },       {         \"start\": 92.55000000000001,         \"end\": 94.85000000000001,         \"label\": \"Bmaj\"       },       {         \"start\": 94.85000000000001,         \"end\": 97.35000000000001,         \"label\": \"Amaj\"       },       {         \"start\": 97.35000000000001,         \"end\": 102.15000000000002,         \"label\": \"Emaj\"       },       {         \"start\": 102.15000000000002,         \"end\": 104.55000000000001,         \"label\": \"Bmaj\"       },       {         \"start\": 104.55000000000001,         \"end\": 106.95,         \"label\": \"Amaj\"       },       {         \"start\": 106.95,         \"end\": 111.75000000000001,         \"label\": \"Emaj\"       },       {         \"start\": 111.75000000000001,         \"end\": 114.25000000000001,         \"label\": \"Bmaj\"       },       {         \"start\": 114.25000000000001,         \"end\": 116.45,         \"label\": \"Amaj\"       },       {         \"start\": 116.45,         \"end\": 122.35000000000001,         \"label\": \"Emaj\"       },       {         \"start\": 122.35000000000001,         \"end\": 122.95,         \"label\": \"Gmaj\"       },       {         \"start\": 122.95,         \"end\": 123.55000000000001,         \"label\": \"A7\"       },       {         \"start\": 123.55000000000001,         \"end\": 124.15000000000002,         \"label\": \"Emaj\"       },       {         \"start\": 124.15000000000002,         \"end\": 125.25000000000001,         \"label\": \"Bmaj\"       },       {         \"start\": 125.25000000000001,         \"end\": 125.85000000000001,         \"label\": \"A7\"       },       {         \"start\": 125.85000000000001,         \"end\": 128.85000000000002,         \"label\": \"Emaj\"       },       {         \"start\": 128.85000000000002,         \"end\": 129.75,         \"label\": \"Bmaj\"       },       {         \"start\": 129.75,         \"end\": 130.35000000000002,         \"label\": \"Amaj\"       },       {         \"start\": 130.35000000000002,         \"end\": 134.45,         \"label\": \"Emaj7\"       },       {         \"start\": 134.45,         \"end\": 135.25,         \"label\": \"Amaj\"       },       {         \"start\": 135.25,         \"end\": 136.75,         \"label\": \"Emaj7\"       },       {         \"start\": 136.75,         \"end\": 137.65,         \"label\": \"Amaj\"       },       {         \"start\": 137.65,         \"end\": 141,         \"label\": \"Bmin7\"       }     ],     \"_id\": \"deezer:67354200\"   },   \"arousal\": \"\",   \"arousal_predicted\": \"0.40359053\",   \"album_genre\": \"Alternative Rock\",   \"has_emotion_tags\": \"False\",   \"has_social_tags\": \"False\",   \"lastfm_id\": \"\",   \"valence\": \"\",   \"valence_predicted\": \"0.33913383\"}"
      ]
     },
     "execution_count": 18,
     "metadata": {},
     "output_type": "execute_result"
    }
   ],
   "source": [
    "# now we can apply our function in a batch mode to the Spark DataFrame\n",
    "json_lines = song_lines.pandas_on_spark.transform_batch(to_a_valid_json)\n",
    "json_lines.head()"
   ]
  },
  {
   "cell_type": "code",
   "execution_count": 19,
   "metadata": {},
   "outputs": [
    {
     "name": "stderr",
     "output_type": "stream",
     "text": [
      "                                                                                \r"
     ]
    }
   ],
   "source": [
    "# now we write the Spark DataFrame as a simple text files\n",
    "# line by line to the disk\n",
    "json_lines.spark.frame().write.mode(\"overwrite\").text(\"song.json_lines\")"
   ]
  },
  {
   "cell_type": "code",
   "execution_count": 20,
   "metadata": {},
   "outputs": [
    {
     "name": "stdout",
     "output_type": "stream",
     "text": [
      "part-00000-e357f437-08f0-4131-9b93-a6a88afa710d-c000.txt\n",
      "part-00001-e357f437-08f0-4131-9b93-a6a88afa710d-c000.txt\n",
      "part-00002-e357f437-08f0-4131-9b93-a6a88afa710d-c000.txt\n",
      "part-00003-e357f437-08f0-4131-9b93-a6a88afa710d-c000.txt\n",
      "part-00004-e357f437-08f0-4131-9b93-a6a88afa710d-c000.txt\n",
      "part-00005-e357f437-08f0-4131-9b93-a6a88afa710d-c000.txt\n",
      "part-00006-e357f437-08f0-4131-9b93-a6a88afa710d-c000.txt\n",
      "part-00007-e357f437-08f0-4131-9b93-a6a88afa710d-c000.txt\n",
      "part-00008-e357f437-08f0-4131-9b93-a6a88afa710d-c000.txt\n",
      "part-00009-e357f437-08f0-4131-9b93-a6a88afa710d-c000.txt\n",
      "part-00010-e357f437-08f0-4131-9b93-a6a88afa710d-c000.txt\n",
      "part-00011-e357f437-08f0-4131-9b93-a6a88afa710d-c000.txt\n",
      "part-00012-e357f437-08f0-4131-9b93-a6a88afa710d-c000.txt\n",
      "part-00013-e357f437-08f0-4131-9b93-a6a88afa710d-c000.txt\n",
      "part-00014-e357f437-08f0-4131-9b93-a6a88afa710d-c000.txt\n",
      "part-00015-e357f437-08f0-4131-9b93-a6a88afa710d-c000.txt\n",
      "part-00016-e357f437-08f0-4131-9b93-a6a88afa710d-c000.txt\n",
      "part-00017-e357f437-08f0-4131-9b93-a6a88afa710d-c000.txt\n",
      "part-00018-e357f437-08f0-4131-9b93-a6a88afa710d-c000.txt\n",
      "part-00019-e357f437-08f0-4131-9b93-a6a88afa710d-c000.txt\n",
      "part-00020-e357f437-08f0-4131-9b93-a6a88afa710d-c000.txt\n",
      "part-00021-e357f437-08f0-4131-9b93-a6a88afa710d-c000.txt\n",
      "part-00022-e357f437-08f0-4131-9b93-a6a88afa710d-c000.txt\n",
      "part-00023-e357f437-08f0-4131-9b93-a6a88afa710d-c000.txt\n",
      "part-00024-e357f437-08f0-4131-9b93-a6a88afa710d-c000.txt\n",
      "part-00025-e357f437-08f0-4131-9b93-a6a88afa710d-c000.txt\n",
      "part-00026-e357f437-08f0-4131-9b93-a6a88afa710d-c000.txt\n",
      "part-00027-e357f437-08f0-4131-9b93-a6a88afa710d-c000.txt\n",
      "part-00028-e357f437-08f0-4131-9b93-a6a88afa710d-c000.txt\n",
      "part-00029-e357f437-08f0-4131-9b93-a6a88afa710d-c000.txt\n",
      "part-00030-e357f437-08f0-4131-9b93-a6a88afa710d-c000.txt\n",
      "part-00031-e357f437-08f0-4131-9b93-a6a88afa710d-c000.txt\n",
      "part-00032-e357f437-08f0-4131-9b93-a6a88afa710d-c000.txt\n",
      "part-00033-e357f437-08f0-4131-9b93-a6a88afa710d-c000.txt\n",
      "part-00034-e357f437-08f0-4131-9b93-a6a88afa710d-c000.txt\n",
      "part-00035-e357f437-08f0-4131-9b93-a6a88afa710d-c000.txt\n",
      "part-00036-e357f437-08f0-4131-9b93-a6a88afa710d-c000.txt\n",
      "part-00037-e357f437-08f0-4131-9b93-a6a88afa710d-c000.txt\n",
      "part-00038-e357f437-08f0-4131-9b93-a6a88afa710d-c000.txt\n",
      "part-00039-e357f437-08f0-4131-9b93-a6a88afa710d-c000.txt\n",
      "part-00040-e357f437-08f0-4131-9b93-a6a88afa710d-c000.txt\n",
      "part-00041-e357f437-08f0-4131-9b93-a6a88afa710d-c000.txt\n",
      "part-00042-e357f437-08f0-4131-9b93-a6a88afa710d-c000.txt\n",
      "part-00043-e357f437-08f0-4131-9b93-a6a88afa710d-c000.txt\n",
      "part-00044-e357f437-08f0-4131-9b93-a6a88afa710d-c000.txt\n",
      "part-00045-e357f437-08f0-4131-9b93-a6a88afa710d-c000.txt\n",
      "part-00046-e357f437-08f0-4131-9b93-a6a88afa710d-c000.txt\n",
      "part-00047-e357f437-08f0-4131-9b93-a6a88afa710d-c000.txt\n",
      "part-00048-e357f437-08f0-4131-9b93-a6a88afa710d-c000.txt\n",
      "part-00049-e357f437-08f0-4131-9b93-a6a88afa710d-c000.txt\n",
      "part-00050-e357f437-08f0-4131-9b93-a6a88afa710d-c000.txt\n",
      "part-00051-e357f437-08f0-4131-9b93-a6a88afa710d-c000.txt\n",
      "part-00052-e357f437-08f0-4131-9b93-a6a88afa710d-c000.txt\n",
      "part-00053-e357f437-08f0-4131-9b93-a6a88afa710d-c000.txt\n",
      "part-00054-e357f437-08f0-4131-9b93-a6a88afa710d-c000.txt\n",
      "part-00055-e357f437-08f0-4131-9b93-a6a88afa710d-c000.txt\n",
      "part-00056-e357f437-08f0-4131-9b93-a6a88afa710d-c000.txt\n",
      "part-00057-e357f437-08f0-4131-9b93-a6a88afa710d-c000.txt\n",
      "part-00058-e357f437-08f0-4131-9b93-a6a88afa710d-c000.txt\n",
      "part-00059-e357f437-08f0-4131-9b93-a6a88afa710d-c000.txt\n",
      "part-00060-e357f437-08f0-4131-9b93-a6a88afa710d-c000.txt\n",
      "part-00061-e357f437-08f0-4131-9b93-a6a88afa710d-c000.txt\n",
      "part-00062-e357f437-08f0-4131-9b93-a6a88afa710d-c000.txt\n",
      "part-00063-e357f437-08f0-4131-9b93-a6a88afa710d-c000.txt\n",
      "part-00064-e357f437-08f0-4131-9b93-a6a88afa710d-c000.txt\n",
      "part-00065-e357f437-08f0-4131-9b93-a6a88afa710d-c000.txt\n",
      "part-00066-e357f437-08f0-4131-9b93-a6a88afa710d-c000.txt\n",
      "part-00067-e357f437-08f0-4131-9b93-a6a88afa710d-c000.txt\n",
      "part-00068-e357f437-08f0-4131-9b93-a6a88afa710d-c000.txt\n",
      "part-00069-e357f437-08f0-4131-9b93-a6a88afa710d-c000.txt\n",
      "part-00070-e357f437-08f0-4131-9b93-a6a88afa710d-c000.txt\n",
      "part-00071-e357f437-08f0-4131-9b93-a6a88afa710d-c000.txt\n",
      "part-00072-e357f437-08f0-4131-9b93-a6a88afa710d-c000.txt\n",
      "part-00073-e357f437-08f0-4131-9b93-a6a88afa710d-c000.txt\n",
      "part-00074-e357f437-08f0-4131-9b93-a6a88afa710d-c000.txt\n",
      "part-00075-e357f437-08f0-4131-9b93-a6a88afa710d-c000.txt\n",
      "part-00076-e357f437-08f0-4131-9b93-a6a88afa710d-c000.txt\n",
      "part-00077-e357f437-08f0-4131-9b93-a6a88afa710d-c000.txt\n",
      "part-00078-e357f437-08f0-4131-9b93-a6a88afa710d-c000.txt\n",
      "part-00079-e357f437-08f0-4131-9b93-a6a88afa710d-c000.txt\n",
      "part-00080-e357f437-08f0-4131-9b93-a6a88afa710d-c000.txt\n",
      "part-00081-e357f437-08f0-4131-9b93-a6a88afa710d-c000.txt\n",
      "part-00082-e357f437-08f0-4131-9b93-a6a88afa710d-c000.txt\n",
      "part-00083-e357f437-08f0-4131-9b93-a6a88afa710d-c000.txt\n",
      "part-00084-e357f437-08f0-4131-9b93-a6a88afa710d-c000.txt\n",
      "part-00085-e357f437-08f0-4131-9b93-a6a88afa710d-c000.txt\n",
      "part-00086-e357f437-08f0-4131-9b93-a6a88afa710d-c000.txt\n",
      "part-00087-e357f437-08f0-4131-9b93-a6a88afa710d-c000.txt\n",
      "part-00088-e357f437-08f0-4131-9b93-a6a88afa710d-c000.txt\n",
      "part-00089-e357f437-08f0-4131-9b93-a6a88afa710d-c000.txt\n",
      "part-00090-e357f437-08f0-4131-9b93-a6a88afa710d-c000.txt\n",
      "part-00091-e357f437-08f0-4131-9b93-a6a88afa710d-c000.txt\n",
      "part-00092-e357f437-08f0-4131-9b93-a6a88afa710d-c000.txt\n",
      "part-00093-e357f437-08f0-4131-9b93-a6a88afa710d-c000.txt\n",
      "part-00094-e357f437-08f0-4131-9b93-a6a88afa710d-c000.txt\n",
      "part-00095-e357f437-08f0-4131-9b93-a6a88afa710d-c000.txt\n",
      "part-00096-e357f437-08f0-4131-9b93-a6a88afa710d-c000.txt\n",
      "_SUCCESS\n"
     ]
    }
   ],
   "source": [
    "# notice that the output is a directory rather than file\n",
    "\n",
    "!ls song.json_lines"
   ]
  },
  {
   "cell_type": "code",
   "execution_count": 21,
   "metadata": {},
   "outputs": [
    {
     "name": "stdout",
     "output_type": "stream",
     "text": [
      "{   \"_id\": {     \"$oid\": \"5714dec325ac0d8aee3804e7\"   },   \"position\": 0,   \"lengthAlbum\": \"57:52\",   \"urlSong\": \"http://lyrics.wikia.com/A:Turn_It_Up\",   \"lyrics\": \"Turn it up<br>I don&apos;t know where you&apos;re plugging in<br>Listen up<br>Yeah, we&apos;re all set to begin<br>Turn it up<br>Because we hope you like it loud<br>Tune it up<br>Any second now<br>Making like<br>Cheeky Monkey grins<br>And for tonight<br>I&apos;d love to let you in\",   \"urlWikipedia\": \"\",   \"id_album\": {     \"$oid\": \"5714debb25ac0d8aee34d59a\"   },   \"isClassic\": false,   \"urlAllmusic\": \"http://www.allmusic.com/song/mt0013320473\",   \"urlMusicBrainz\": \"http://musicbrainz.org/recording/3db608e4-eb72-437e-bc52-872f0a51434f\",   \"title\": \"Turn It Up\",   \"publicationDateAlbum\": \"1997\",   \"albumTitle\": \"How Ace Are Buildings\",   \"deezer_mapping\": [     [       67354194,       \"search-exact\"     ]   ],   \"id_song_deezer\": \"67354194\",   \"isrc\": \"GBAAP9700050\",   \"length\": \"93\",   \"explicitLyrics\": false,   \"rank\": 261631,   \"bpm\": \"77\",   \"gain\": \"-29.4\",   \"preview\": \"http://e-cdn-preview-8.deezer.com/stream/8e564ba9cde487278546b33c12ee1266-1.mp3\",   \"availableCountries\": [     \"AD\",     \"AE\",     \"AG\",     \"AI\",     \"AL\",     \"AM\",     \"AO\",     \"AR\",     \"AT\",     \"AU\",     \"AW\",     \"AX\",     \"AZ\",     \"BA\",     \"BB\",     \"BD\",     \"BE\",     \"BF\",     \"BG\",     \"BH\",     \"BI\",     \"BJ\",     \"BM\",     \"BN\",     \"BO\",     \"BR\",     \"BS\",     \"BV\",     \"BW\",     \"BY\",     \"BZ\",     \"CD\",     \"CF\",     \"CG\",     \"CH\",     \"CI\",     \"CL\",     \"CM\",     \"CN\",     \"CO\",     \"CR\",     \"CV\",     \"CY\",     \"CZ\",     \"DE\",     \"DJ\",     \"DK\",     \"DM\",     \"DO\",     \"DZ\",     \"EC\",     \"EE\",     \"EG\",     \"EH\",     \"ER\",     \"ES\",     \"ET\",     \"FI\",     \"FJ\",     \"FK\",     \"FM\",     \"FO\",     \"FR\",     \"GA\",     \"GB\",     \"GD\",     \"GE\",     \"GF\",     \"GG\",     \"GH\",     \"GI\",     \"GL\",     \"GM\",     \"GN\",     \"GP\",     \"GQ\",     \"GR\",     \"GS\",     \"GT\",     \"GW\",     \"HK\",     \"HN\",     \"HR\",     \"HT\",     \"HU\",     \"ID\",     \"IE\",     \"IL\",     \"IM\",     \"IN\",     \"IO\",     \"IQ\",     \"IS\",     \"IT\",     \"JE\",     \"JM\",     \"JO\",     \"KE\",     \"KG\",     \"KH\",     \"KM\",     \"KN\",     \"KR\",     \"KW\",     \"KY\",     \"KZ\",     \"LA\",     \"LB\",     \"LC\",     \"LI\",     \"LK\",     \"LR\",     \"LS\",     \"LT\",     \"LU\",     \"LV\",     \"LY\",     \"MA\",     \"MC\",     \"MD\",     \"ME\",     \"MG\",     \"MK\",     \"ML\",     \"MM\",     \"MN\",     \"MO\",     \"MQ\",     \"MR\",     \"MS\",     \"MT\",     \"MU\",     \"MW\",     \"MY\",     \"MZ\",     \"NA\",     \"NC\",     \"NE\",     \"NG\",     \"NI\",     \"NL\",     \"NO\",     \"NP\",     \"NZ\",     \"OM\",     \"PA\",     \"PE\",     \"PF\",     \"PG\",     \"PH\",     \"PK\",     \"PL\",     \"PM\",     \"PN\",     \"PR\",     \"PT\",     \"PY\",     \"QA\",     \"RE\",     \"RO\",     \"RS\",     \"RU\",     \"RW\",     \"SA\",     \"SC\",     \"SD\",     \"SE\",     \"SG\",     \"SH\",     \"SI\",     \"SJ\",     \"SK\",     \"SL\",     \"SM\",     \"SN\",     \"SO\",     \"ST\",     \"SV\",     \"SY\",     \"SZ\",     \"TC\",     \"TD\",     \"TF\",     \"TG\",     \"TH\",     \"TJ\",     \"TL\",     \"TM\",     \"TN\",     \"TR\",     \"TT\",     \"TW\",     \"TZ\",     \"UA\",     \"UG\",     \"UY\",     \"UZ\",     \"VA\",     \"VC\",     \"VE\",     \"VG\",     \"VN\",     \"WF\",     \"YE\",     \"YT\",     \"ZA\",     \"ZM\",     \"ZW\"   ],   \"publicationDate\": \"1998-06-22\",   \"rdf\": \"\",   \"urlPandora\": \"\",   \"urlITunes\": \"\",   \"urlSpotify\": \"\",   \"urlYouTube\": \"\",   \"urlAmazon\": \"\",   \"urlHypeMachine\": \"\",   \"urlGoEar\": \"\",   \"urlLastFm\": \"\",   \"multitrack_path\": \"\",   \"multitrack_file\": \"\",   \"id_song_musicbrainz\": \"3db608e4-eb72-437e-bc52-872f0a51434f\",   \"disambiguation\": \"\",   \"language\": \"\",   \"begin\": \"\",   \"end\": \"\",   \"id_artist_deezer\": \"3412\",   \"id_album_deezer\": \"6585846\",   \"urlDeezer\": \"http://www.deezer.com/track/67354194\",   \"language_detect\": \"english\",   \"name\": \"A\",   \"title_accent_fold\": \"Turn It Up\",   \"animux_paths\": [],   \"chords_metadata\": {     \"confidence\": 0.7465091299677766,     \"duration\": 93.02310657596372,     \"chordSequence\": [       {         \"start\": 0,         \"end\": 16.150000000000002,         \"label\": \"Amaj\"       },       {         \"start\": 16.150000000000002,         \"end\": 18.05,         \"label\": \"Dmaj\"       },       {         \"start\": 18.05,         \"end\": 19.150000000000002,         \"label\": \"Amaj\"       },       {         \"start\": 19.150000000000002,         \"end\": 21.150000000000002,         \"label\": \"Bmin7\"       },       {         \"start\": 21.150000000000002,         \"end\": 22.450000000000003,         \"label\": \"Amaj\"       },       {         \"start\": 22.450000000000003,         \"end\": 24.350000000000005,         \"label\": \"Dmaj\"       },       {         \"start\": 24.350000000000005,         \"end\": 25.350000000000005,         \"label\": \"Amaj\"       },       {         \"start\": 25.350000000000005,         \"end\": 27.350000000000005,         \"label\": \"Dmaj\"       },       {         \"start\": 27.350000000000005,         \"end\": 28.450000000000003,         \"label\": \"Amaj\"       },       {         \"start\": 28.450000000000003,         \"end\": 30.350000000000005,         \"label\": \"Dmaj\"       },       {         \"start\": 30.350000000000005,         \"end\": 31.450000000000003,         \"label\": \"Amaj\"       },       {         \"start\": 31.450000000000003,         \"end\": 33.449999999999996,         \"label\": \"Bmin7\"       },       {         \"start\": 33.449999999999996,         \"end\": 34.75,         \"label\": \"Amaj\"       },       {         \"start\": 34.75,         \"end\": 36.55,         \"label\": \"Dmaj\"       },       {         \"start\": 36.55,         \"end\": 37.65,         \"label\": \"Amaj\"       },       {         \"start\": 37.65,         \"end\": 39.65,         \"label\": \"Dmaj\"       },       {         \"start\": 39.65,         \"end\": 42.95,         \"label\": \"Amaj\"       },       {         \"start\": 42.95,         \"end\": 44.45,         \"label\": \"Dbmin7\"       },       {         \"start\": 44.45,         \"end\": 46.05,         \"label\": \"Gbmin\"       },       {         \"start\": 46.05,         \"end\": 48.95,         \"label\": \"Dmaj\"       },       {         \"start\": 48.95,         \"end\": 52.05,         \"label\": \"Cmaj\"       },       {         \"start\": 52.05,         \"end\": 55.35,         \"label\": \"Amaj\"       },       {         \"start\": 55.35,         \"end\": 56.75,         \"label\": \"Dbmin7\"       },       {         \"start\": 56.75,         \"end\": 58.15,         \"label\": \"Gbmin\"       },       {         \"start\": 58.15,         \"end\": 64.15000000000002,         \"label\": \"Fmaj\"       },       {         \"start\": 64.15000000000002,         \"end\": 65.65000000000002,         \"label\": \"Amaj\"       },       {         \"start\": 65.65000000000002,         \"end\": 67.25000000000001,         \"label\": \"Dmaj\"       },       {         \"start\": 67.25000000000001,         \"end\": 68.45,         \"label\": \"Amaj\"       },       {         \"start\": 68.45,         \"end\": 70.45,         \"label\": \"Bmin7\"       },       {         \"start\": 70.45,         \"end\": 71.55000000000001,         \"label\": \"Amaj\"       },       {         \"start\": 71.55000000000001,         \"end\": 73.45,         \"label\": \"Dmaj\"       },       {         \"start\": 73.45,         \"end\": 74.65000000000002,         \"label\": \"Amaj\"       },       {         \"start\": 74.65000000000002,         \"end\": 76.55000000000001,         \"label\": \"Dmaj\"       },       {         \"start\": 76.55000000000001,         \"end\": 77.75000000000001,         \"label\": \"Amaj\"       },       {         \"start\": 77.75000000000001,         \"end\": 79.65000000000002,         \"label\": \"Dmaj\"       },       {         \"start\": 79.65000000000002,         \"end\": 80.75000000000001,         \"label\": \"Amaj\"       },       {         \"start\": 80.75000000000001,         \"end\": 82.65000000000002,         \"label\": \"Bmin7\"       },       {         \"start\": 82.65000000000002,         \"end\": 83.85000000000001,         \"label\": \"Amaj\"       },       {         \"start\": 83.85000000000001,         \"end\": 86.15000000000002,         \"label\": \"Dmaj\"       },       {         \"start\": 86.15000000000002,         \"end\": 93,         \"label\": \"Amaj7\"       }     ],     \"_id\": \"deezer:67354194\"   },   \"arousal\": \"\",   \"arousal_predicted\": \"0.46977222\",   \"album_genre\": \"Alternative Rock\",   \"has_emotion_tags\": \"False\",   \"has_social_tags\": \"False\",   \"lastfm_id\": \"\",   \"valence\": \"\",   \"valence_predicted\": \"0.6578529000000001\"}\n"
     ]
    }
   ],
   "source": [
    "# let's check that the first line of the first file looks like a valid JSON\n",
    "!head -1 song.json_lines/part-00000-*"
   ]
  },
  {
   "cell_type": "code",
   "execution_count": 22,
   "metadata": {},
   "outputs": [],
   "source": [
    "# on a local machine, it makes sense to manually stop Spark\n",
    "spark.stop()"
   ]
  }
 ],
 "metadata": {
  "kernelspec": {
   "display_name": "Python 3 (ipykernel)",
   "language": "python",
   "name": "python3"
  },
  "language_info": {
   "codemirror_mode": {
    "name": "ipython",
    "version": 3
   },
   "file_extension": ".py",
   "mimetype": "text/x-python",
   "name": "python",
   "nbconvert_exporter": "python",
   "pygments_lexer": "ipython3",
   "version": "3.8.10"
  },
  "name": "data-munging.ipynb"
 },
 "nbformat": 4,
 "nbformat_minor": 4
}
