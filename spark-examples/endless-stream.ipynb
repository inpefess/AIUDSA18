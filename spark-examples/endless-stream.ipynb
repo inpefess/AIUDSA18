{
 "cells": [
  {
   "cell_type": "code",
   "execution_count": null,
   "metadata": {},
   "outputs": [],
   "source": [
    "from kafka import KafkaAdminClient\n",
    "from kafka.admin import NewTopic\n",
    "from kafka import KafkaProducer\n",
    "from random import randint\n",
    "from time import sleep\n",
    "\n",
    "admin_client = KafkaAdminClient()\n",
    "admin_client.delete_topics(admin_client.list_topics())\n",
    "admin_client = KafkaAdminClient()\n",
    "admin_client.create_topics([\n",
    "    NewTopic(\n",
    "        name=\"input_topic\",\n",
    "        num_partitions=1,\n",
    "        replication_factor=1\n",
    "    )\n",
    "])\n",
    "admin_client.create_topics([\n",
    "    NewTopic(\n",
    "        name=\"output_topic\",\n",
    "        num_partitions=1,\n",
    "        replication_factor=1\n",
    "    )\n",
    "])\n",
    "producer = KafkaProducer()\n",
    "while True:\n",
    "    producer.send(\n",
    "        \"input_topic\",\n",
    "        bytes(\n",
    "            chr(\n",
    "                ord(\"a\".encode(\"utf8\")) + randint(0, 24)\n",
    "            ).encode(\"utf8\")\n",
    "        )\n",
    "    )"
   ]
  },
  {
   "cell_type": "code",
   "execution_count": null,
   "metadata": {},
   "outputs": [],
   "source": []
  }
 ],
 "metadata": {
  "kernelspec": {
   "display_name": "Python 3",
   "language": "python",
   "name": "python3"
  },
  "language_info": {
   "codemirror_mode": {
    "name": "ipython",
    "version": 3
   },
   "file_extension": ".py",
   "mimetype": "text/x-python",
   "name": "python",
   "nbconvert_exporter": "python",
   "pygments_lexer": "ipython3",
   "version": "3.8.6"
  },
  "name": "endless-stream.ipynb"
 },
 "nbformat": 4,
 "nbformat_minor": 4
}
