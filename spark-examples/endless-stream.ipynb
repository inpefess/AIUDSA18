{
 "cells": [
  {
   "cell_type": "code",
   "execution_count": null,
   "metadata": {
    "collapsed": false
   },
   "outputs": [],
   "source": [
    "from kafka import KafkaAdminClient\n",
    "from kafka.admin import NewTopic\n",
    "from kafka import KafkaProducer\n",
    "from random import randint\n",
    "from time import sleep\n",
    "\n",
    "admin_client = KafkaAdminClient()\n",
    "admin_client.delete_topics(admin_client.list_topics())\n",
    "admin_client = KafkaAdminClient()\n",
    "admin_client.create_topics([\n",
    "    NewTopic(\n",
    "        name=\"input_topic\",\n",
    "        num_partitions=1,\n",
    "        replication_factor=1\n",
    "    )\n",
    "])\n",
    "admin_client.create_topics([\n",
    "    NewTopic(\n",
    "        name=\"output_topic\",\n",
    "        num_partitions=1,\n",
    "        replication_factor=1\n",
    "    )\n",
    "])\n",
    "producer = KafkaProducer()\n",
    "while True:\n",
    "    producer.send(\n",
    "        \"input_topic\",\n",
    "        bytes(chr(ord(\"a\".encode(\"utf8\")) + randint(0, 24)).encode(\"utf8\"))\n",
    "    )"
   ]
  },
  {
   "cell_type": "code",
   "execution_count": null,
   "metadata": {
    "collapsed": false
   },
   "outputs": [],
   "source": []
  }
 ],
 "metadata": {
  "kernelspec": {
   "argv": [
    "python",
    "-m",
    "ipykernel_launcher",
    "-f",
    "{connection_file}"
   ],
   "display_name": "Python 3",
   "env": null,
   "interrupt_mode": "signal",
   "language": "python",
   "metadata": null,
   "name": "python3"
  },
  "name": "endless-stream.ipynb"
 },
 "nbformat": 4,
 "nbformat_minor": 4
}
