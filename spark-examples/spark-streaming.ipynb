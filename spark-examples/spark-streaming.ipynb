{
 "cells": [
  {
   "cell_type": "code",
   "execution_count": 1,
   "metadata": {},
   "outputs": [],
   "source": [
    "from pyspark.sql import SparkSession\n",
    "\n",
    "# setting a checkpoint directory is mandatory\n",
    "# without it streaming jobs simply won't work\n",
    "# integration with Kafka is done as recommended by the official doc:\n",
    "# http://spark.apache.org/docs/latest/streaming-kafka-0-10-integration.html\n",
    "spark = (\n",
    "    SparkSession.builder\n",
    "    .config(\"spark.jars.packages\", \"org.apache.spark:spark-sql-kafka-0-10_2.12:3.0.1\")\n",
    "    .config(\"spark.sql.streaming.checkpointLocation\", \"checkpoints\")\n",
    "    .getOrCreate()\n",
    ")"
   ]
  },
  {
   "cell_type": "code",
   "execution_count": 2,
   "metadata": {},
   "outputs": [],
   "source": [
    "# this should work for any Kafka\n",
    "# but for Confluent it hanged on \"getting offsets\" stage\n",
    "\n",
    "input_topic = (\n",
    "    spark.readStream.format(\"kafka\")\n",
    "    .option(\"kafka.bootstrap.servers\", \"localhost:9092\")\n",
    "    .option(\"subscribe\", \"input_topic\")\n",
    "    .load()\n",
    ")"
   ]
  },
  {
   "cell_type": "code",
   "execution_count": 6,
   "metadata": {},
   "outputs": [],
   "source": [
    "from pyspark.sql.functions import col\n",
    "from pyspark.sql.types import StringType\n",
    "\n",
    "# two examples: without aggregation and with aggregation\n",
    "# as one can see, DataStream has an API similar to DataFrame\n",
    "transformations = (\n",
    "#    input_topic.selectExpr(\"value || value AS value\")\n",
    "     input_topic.groupby().count()\n",
    "     .selectExpr(\"CAST(count AS String) AS value\")\n",
    ")"
   ]
  },
  {
   "cell_type": "code",
   "execution_count": 7,
   "metadata": {},
   "outputs": [],
   "source": [
    "# jobs without aggregation should run in \"append\" mode\n",
    "# jobs with aggregation should run in \"complete\" mode\n",
    "# you can even write to a file or console\n",
    "job = (\n",
    "    transformations\n",
    "    .writeStream\n",
    "    .format(\"kafka\")\n",
    "    .option(\"kafka.bootstrap.servers\", \"localhost:9092\")\n",
    "    .outputMode(\"complete\")\n",
    "    .option(\"topic\", \"output_topic\")\n",
    "    .start()\n",
    ")"
   ]
  },
  {
   "cell_type": "code",
   "execution_count": 8,
   "metadata": {},
   "outputs": [],
   "source": [
    "job.stop()"
   ]
  },
  {
   "cell_type": "code",
   "execution_count": null,
   "metadata": {},
   "outputs": [],
   "source": []
  }
 ],
 "metadata": {
  "kernelspec": {
   "display_name": "Python 3",
   "language": "python",
   "name": "python3"
  },
  "language_info": {
   "codemirror_mode": {
    "name": "ipython",
    "version": 3
   },
   "file_extension": ".py",
   "mimetype": "text/x-python",
   "name": "python",
   "nbconvert_exporter": "python",
   "pygments_lexer": "ipython3",
   "version": "3.8.6"
  },
  "name": "spark-streaming.ipynb"
 },
 "nbformat": 4,
 "nbformat_minor": 4
}
