{
 "cells": [
  {
   "cell_type": "markdown",
   "id": "519f7591-eb40-45e6-93e9-7b9fd088de0c",
   "metadata": {
    "slideshow": {
     "slide_type": "slide"
    }
   },
   "source": [
    "# Distributed Big Data Lab Sessions\n",
    "\n",
    "* my name is Boris Shminke\n",
    "* we will have five 3-hour lab sessions\n",
    "* you wil do a course project\n",
    "* the mark for the project will be the mark for the whole course"
   ]
  },
  {
   "cell_type": "markdown",
   "id": "3b044d10-6c54-4605-ab9e-096365c4a22b",
   "metadata": {
    "slideshow": {
     "slide_type": "slide"
    }
   },
   "source": [
    "# Who I am\n",
    "\n",
    "* [worked](https://fr.linkedin.com/in/inpefess) with Hadoop/Spark (mostly) and with Kafka/Flink (a bit) in 2015-2020 while in industry\n",
    "* was developing a movie [recommender system](https://www.unibz.it/en/events/128668-rs-at-ivi-ru-problems-and-solutions-for-video-streaming-recommendation-at-scale) for a service from Russia with 40 million users\n",
    "* was developing a recommender systems [framework](https://github.com/sb-ai-lab/RePlay) in Spark\n",
    "* contributed some [code](https://spark.apache.org/releases/spark-release-3-0-0.html) back to Spark\n",
    "* taught the same lab sessions for two previous years"
   ]
  },
  {
   "cell_type": "markdown",
   "id": "3ed1ecfd-4386-4145-8274-1efcb1b30695",
   "metadata": {
    "slideshow": {
     "slide_type": "slide"
    }
   },
   "source": [
    "# Lab Sessions Plan\n",
    "\n",
    "* 26/10/2022 - introduction: Wasabi dataset, Google Cloud credits, Databricks Community Edition\n",
    "* 09/11/2022 - data munging with Apache Spark\n",
    "* 16/11/2022 - machine learning pipelines in Spark\n",
    "* 07/12/2022 - Spark Streaming with Kafka\n",
    "* 14/12/2022 - Zoom Q&A session for your projects\n",
    "* 13/01/2023 - the project's deadline"
   ]
  },
  {
   "cell_type": "markdown",
   "id": "ebd7e2a5-2b18-4485-a76e-7126fcd34fef",
   "metadata": {
    "slideshow": {
     "slide_type": "slide"
    }
   },
   "source": [
    "# Too tough?\n",
    "\n",
    "* after the first class you will select the dataset for the project (3 weeks for it)\n",
    "* after the third class you will know everythig obligatory for the project (4 weeks before Q&A)\n",
    "* start working earler, or it will really be tough"
   ]
  },
  {
   "cell_type": "markdown",
   "id": "b8f83be6-4925-476b-9c0d-6e70ff136946",
   "metadata": {
    "slideshow": {
     "slide_type": "slide"
    }
   },
   "source": [
    "# Teaching Infrastructure\n",
    "\n",
    "* write me an [email](mailto:boris.shminke@univ-cotedazur.fr) (will reply in about a day)\n",
    "* find all the course materials at [Moodle](https://lms.univ-cotedazur.fr/2022/course/view.php?id=13997)\n",
    "* the lab sessions will be recorded with Zoom\n",
    "* Moodle will be used for the course project grading!"
   ]
  },
  {
   "cell_type": "markdown",
   "id": "ac8094d0-0956-4cea-8b40-d6907756e21c",
   "metadata": {
    "slideshow": {
     "slide_type": "slide"
    }
   },
   "source": [
    "# Other sources\n",
    "* [Cognitive Class by IBM](https://cognitiveclass.ai/)\n",
    "* [edX](https://www.edx.org/), [Coursera](https://www.coursera.org) and others\n",
    "* Databricks gave nice courses, but now they are not free anymore"
   ]
  },
  {
   "cell_type": "markdown",
   "id": "66a72c38-7daf-476a-b233-6a9cf4fa2826",
   "metadata": {
    "slideshow": {
     "slide_type": "slide"
    }
   },
   "source": [
    "# If you have a question\n",
    "\n",
    "* other people may have the same question, so post it to the [forum](https://lms.univ-cotedazur.fr/2022/mod/forum/view.php?id=138983)\n",
    "* stay at your place; don't bring your laptop to the instructor's table\n",
    "* raise your hand; ask the question aloud"
   ]
  },
  {
   "cell_type": "markdown",
   "id": "f2d13482-54a8-424f-a761-8f8a1bc4c754",
   "metadata": {
    "slideshow": {
     "slide_type": "slide"
    }
   },
   "source": [
    "# If the code don't work for you\n",
    "\n",
    "* copy and paste the exact command you're trying to execute to Etherpad (in Moodle)\n",
    "* paste also the error stack trace or any other response you got\n",
    "* paste the text, not the screenshot\n",
    "* a photo of your laptop's screen is not even a screenshot. Don't do that."
   ]
  },
  {
   "cell_type": "markdown",
   "id": "42b09911-cd8b-4fd1-956a-88a1e9f23a8d",
   "metadata": {
    "slideshow": {
     "slide_type": "slide"
    }
   },
   "source": [
    "# If nothing works\n",
    "\n",
    "* I will come to your place and see\n",
    "* then I will explain the problem (and the solution if any) to the class\n",
    "* pay attention to the questions of other students"
   ]
  },
  {
   "cell_type": "markdown",
   "id": "a1475762-02d4-4ca6-921d-8714ed5b8f58",
   "metadata": {
    "slideshow": {
     "slide_type": "slide"
    }
   },
   "source": [
    "# I'm lost and everyone is already ahead of me!\n",
    "\n",
    "* don't panic: there will be checkpoints with rapid questions\n",
    "* keep an eye on the checkpoint questions!\n",
    "* don't take it easy. If you can't do something now, you won't magically learn without trying!"
   ]
  }
 ],
 "metadata": {
  "celltoolbar": "Slideshow",
  "kernelspec": {
   "display_name": "Python 3 (ipykernel)",
   "language": "python",
   "name": "python3"
  },
  "language_info": {
   "codemirror_mode": {
    "name": "ipython",
    "version": 3
   },
   "file_extension": ".py",
   "mimetype": "text/x-python",
   "name": "python",
   "nbconvert_exporter": "python",
   "pygments_lexer": "ipython3",
   "version": "3.8.10"
  },
  "name": "course-description.ipynb"
 },
 "nbformat": 4,
 "nbformat_minor": 4
}
