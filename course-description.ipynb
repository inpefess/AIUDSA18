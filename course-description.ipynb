{
 "cells": [
  {
   "cell_type": "markdown",
   "metadata": {
    "collapsed": false
   },
   "source": [
    "# Distributed Big Data Lab Sessions\n",
    "\n",
    "* my name is Boris Shminke\n",
    "* we will have four 3-hour lab sessions\n",
    "* you wil do a course project\n",
    "* the mark for the project will be the mark for the whole course"
   ]
  },
  {
   "cell_type": "markdown",
   "metadata": {
    "collapsed": false
   },
   "source": [
    "# Who I am\n",
    "\n",
    "* [worked](https://fr.linkedin.com/in/inpefess) with Hadoop/Spark (mostly) and with Kafka/Flink (a bit) in 2015-2020 while in industry\n",
    "* was developing a movie [recommender system](https://www.unibz.it/en/events/128668-rs-at-ivi-ru-problems-and-solutions-for-video-streaming-recommendation-at-scale) for a service from Russia with 40 million users\n",
    "* was developing a recommender systems [framework](https://pypi.org/project/replay-rec/) in Spark\n",
    "* contributed some [code](https://spark.apache.org/releases/spark-release-3-0-0.html) back to Spark\n",
    "* taught the same lab sessions last year"
   ]
  },
  {
   "cell_type": "markdown",
   "metadata": {
    "collapsed": false
   },
   "source": [
    "# Lab Sessions Plan\n",
    "\n",
    "* 14/10/2021 - HDFS, Hadoop Streaming\n",
    "* 21/10/2021 - Spark basics, Spark ML pipelines\n",
    "* 28/10/2021 - more about Spark (a template for your project)\n",
    "* 25/11/2021 - Spark Streaming with Kafka, Flink basics (after the final lecture by Fabrice)\n",
    "* ??/12/2021 - maybe an addition class dedicated to your projects and questions\n",
    "* Jan 2021 - the project's deadline"
   ]
  },
  {
   "cell_type": "markdown",
   "metadata": {
    "collapsed": false
   },
   "source": [
    "# Teaching Infrastructure\n",
    "\n",
    "* write me an [email](mailto:boris.shminke@univ-cotedazur.fr) (will reply in about a day)\n",
    "* find me in Slack: @Boris Shminke (may reply in an hour or later)\n",
    "* find all the course material at [Moodle](https://lms.univ-cotedazur.fr/course/view.php?id=17212)\n",
    "* the lab sessions will be translated and recorded with Zoom\n",
    "* Moodle will be used for the course project grading!"
   ]
  },
  {
   "cell_type": "markdown",
   "metadata": {
    "collapsed": false
   },
   "source": [
    "# Other sources\n",
    "* [Cognitive Class by IBM](https://cognitiveclass.ai/)\n",
    "* [edX](https://www.edx.org/), [Coursera](https://www.coursera.org) and others\n",
    "* Databricks courses are good, if can find them for free"
   ]
  },
  {
   "cell_type": "markdown",
   "metadata": {
    "collapsed": false
   },
   "source": [
    "# If you have a question\n",
    "\n",
    "* stay at your place; don't bring your laptop to the instructor's table\n",
    "* raise your hand; ask the question aloud\n",
    "* other people may have the same question"
   ]
  },
  {
   "cell_type": "markdown",
   "metadata": {
    "collapsed": false
   },
   "source": [
    "# If the code don't work for you\n",
    "\n",
    "* copy and paste the exact command you're trying to execute to Slack\n",
    "* paste also the error stack trace or any other response you got\n",
    "* paste the text, not the screenshot"
   ]
  },
  {
   "cell_type": "markdown",
   "metadata": {
    "collapsed": false
   },
   "source": [
    "# If nothing works\n",
    "\n",
    "* I will come to your place and see\n",
    "* then I will explain the problem (and the solution if any) to the class\n",
    "* pay attention to the questions of other students"
   ]
  }
 ],
 "metadata": {
  "kernelspec": {
   "argv": [
    "python",
    "-m",
    "ipykernel_launcher",
    "-f",
    "{connection_file}"
   ],
   "display_name": "Python 3 (ipykernel)",
   "env": null,
   "interrupt_mode": "signal",
   "language": "python",
   "metadata": {
    "debugger": true
   },
   "name": "python3"
  },
  "language_info": {
   "codemirror_mode": {
    "name": "ipython",
    "version": 3
   },
   "file_extension": ".py",
   "mimetype": "text/x-python",
   "name": "python",
   "nbconvert_exporter": "python",
   "pygments_lexer": "ipython3",
   "version": "3.7.12"
  },
  "name": "course-description.ipynb"
 },
 "nbformat": 4,
 "nbformat_minor": 4
}
