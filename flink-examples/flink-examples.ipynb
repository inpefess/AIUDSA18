{
 "cells": [
  {
   "cell_type": "code",
   "execution_count": 1,
   "metadata": {},
   "outputs": [
    {
     "data": {
      "text/plain": [
       "<pyflink.common.job_execution_result.JobExecutionResult at 0x7f7de058b450>"
      ]
     },
     "execution_count": 1,
     "metadata": {},
     "output_type": "execute_result"
    }
   ],
   "source": [
    "from pyflink.dataset import ExecutionEnvironment\n",
    "from pyflink.table import TableConfig, DataTypes, BatchTableEnvironment\n",
    "from pyflink.table.descriptors import Schema, OldCsv, FileSystem\n",
    "\n",
    "exec_env = ExecutionEnvironment.get_execution_environment()\n",
    "exec_env.set_parallelism(1)\n",
    "t_config = TableConfig()\n",
    "t_env = BatchTableEnvironment.create(exec_env, t_config)\n",
    "\n",
    "t_env.connect(FileSystem().path('input.csv')) \\\n",
    "    .with_format(OldCsv()\n",
    "                 .field('word', DataTypes.STRING())) \\\n",
    "    .with_schema(Schema()\n",
    "                 .field('word', DataTypes.STRING())) \\\n",
    "    .create_temporary_table('mySource')\n",
    "\n",
    "t_env.connect(FileSystem().path('output')) \\\n",
    "    .with_format(OldCsv()\n",
    "                 .field_delimiter('\\t')\n",
    "                 .field('word', DataTypes.STRING())\n",
    "                 .field('count', DataTypes.BIGINT())) \\\n",
    "    .with_schema(Schema()\n",
    "                 .field('word', DataTypes.STRING())\n",
    "                 .field('count', DataTypes.BIGINT())) \\\n",
    "    .create_temporary_table('mySink')\n",
    "\n",
    "t_env.from_path('mySource') \\\n",
    "    .group_by('word') \\\n",
    "    .select('word, count(1)') \\\n",
    "    .insert_into('mySink')\n",
    "\n",
    "t_env.execute(\"tutorial_job\")"
   ]
  },
  {
   "cell_type": "code",
   "execution_count": 2,
   "metadata": {},
   "outputs": [
    {
     "data": {
      "text/plain": [
       "<pyflink.table.descriptors.StreamTableDescriptor at 0x7f6f08609ed0>"
      ]
     },
     "execution_count": 2,
     "metadata": {},
     "output_type": "execute_result"
    }
   ],
   "source": [
    "from pyflink.table.descriptors import OldCsv, FileSystem\n",
    "\n",
    "(\n",
    "    t_env\n",
    "    .connect(FileSystem().path('output'))\n",
    "    .with_format(\n",
    "        OldCsv()\n",
    "        .field_delimiter('\\t')\n",
    "        .field('word', DataTypes.STRING())\n",
    "#         .field('count', DataTypes.BIGINT())\n",
    "    )\n",
    "    .with_schema(\n",
    "        Schema()\n",
    "        .field('word', DataTypes.STRING())\n",
    "#         .field('count', DataTypes.BIGINT())\n",
    "    )\n",
    "    .create_temporary_table('mySink')\n",
    ")"
   ]
  },
  {
   "cell_type": "code",
   "execution_count": null,
   "metadata": {},
   "outputs": [],
   "source": [
    "(\n",
    "    t_env\n",
    "    .from_path(\"mySource\")\n",
    "    .group_by(\"word\")\n",
    "    .select(\"word, count(1)\")\n",
    "    .insert_into(\"mySink\")\n",
    ")\n",
    "t_env.execute(\"tutorial_job\")"
   ]
  },
  {
   "cell_type": "code",
   "execution_count": 3,
   "metadata": {},
   "outputs": [
    {
     "data": {
      "text/plain": [
       "<pyflink.table.descriptors.StreamTableDescriptor at 0x7f4598505bd0>"
      ]
     },
     "execution_count": 3,
     "metadata": {},
     "output_type": "execute_result"
    }
   ],
   "source": [
    "from pyflink.datastream import StreamExecutionEnvironment\n",
    "from pyflink.table import TableConfig, DataTypes, StreamTableEnvironment\n",
    "from pyflink.table.descriptors import Kafka, Schema, Csv\n",
    "\n",
    "exec_env = StreamExecutionEnvironment.get_execution_environment()\n",
    "exec_env.set_parallelism(1)\n",
    "t_config = TableConfig()\n",
    "t_config.get_configuration().set_string(\n",
    "    \"pipeline.jars\",\n",
    "    \"file:///workdir/boris/local/lib/flink-sql-connector-kafka_2.11-1.11.2.jar\"\n",
    ")\n",
    "t_env = StreamTableEnvironment.create(exec_env, t_config)\n",
    "(\n",
    "    t_env\n",
    "    .connect(\n",
    "        Kafka().version(\"universal\").topic(\"main_topic\")\n",
    "        .property(\"bootstrap.servers\", \"localhost:9092\")\n",
    "    )\n",
    "    .with_format(\n",
    "        Csv().derive_schema()\n",
    "    )\n",
    "    .with_schema(\n",
    "        Schema()\n",
    "        .field(\"word\", DataTypes.STRING())\n",
    "    )\n",
    "    .create_temporary_table(\"mySource\")\n",
    ")"
   ]
  },
  {
   "cell_type": "code",
   "execution_count": 4,
   "metadata": {},
   "outputs": [
    {
     "data": {
      "text/plain": [
       "<pyflink.table.descriptors.StreamTableDescriptor at 0x7f4598501ed0>"
      ]
     },
     "execution_count": 4,
     "metadata": {},
     "output_type": "execute_result"
    }
   ],
   "source": [
    "(\n",
    "    t_env.connect(\n",
    "        Kafka()\n",
    "        .version(\"universal\")\n",
    "        .topic(\"result_topic\")\n",
    "        .property(\"bootstrap.servers\", \"localhost:9092\")\n",
    "    )\n",
    "    .with_format(\n",
    "        Csv().derive_schema()\n",
    "    )\n",
    "    .with_schema(\n",
    "        Schema()\n",
    "        .field(\"word\", DataTypes.STRING())\n",
    "#         .field(\"count\", DataTypes.BIGINT())\n",
    "    )\n",
    "    .create_temporary_table(\"mySink\")\n",
    ")"
   ]
  },
  {
   "cell_type": "code",
   "execution_count": null,
   "metadata": {},
   "outputs": [],
   "source": [
    "(\n",
    "    t_env\n",
    "    .from_path(\"mySource\")\n",
    "#     .group_by(\"word\")\n",
    "#     .select(\"word, count(1)\")\n",
    "    .select(\"word\")\n",
    "    .insert_into(\"mySink\")\n",
    ")\n",
    "t_env.execute(\"tutorial_job\")"
   ]
  },
  {
   "cell_type": "code",
   "execution_count": null,
   "metadata": {},
   "outputs": [],
   "source": []
  }
 ],
 "metadata": {
  "kernelspec": {
   "display_name": "Python 3",
   "language": "python",
   "name": "python3"
  },
  "language_info": {
   "codemirror_mode": {
    "name": "ipython",
    "version": 3
   },
   "file_extension": ".py",
   "mimetype": "text/x-python",
   "name": "python",
   "nbconvert_exporter": "python",
   "pygments_lexer": "ipython3",
   "version": "3.7.9"
  }
 },
 "nbformat": 4,
 "nbformat_minor": 4
}
